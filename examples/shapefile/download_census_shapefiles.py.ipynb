{
 "cells": [
  {
   "cell_type": "markdown",
   "metadata": {
    "application/vnd.databricks.v1+cell": {
     "cellMetadata": {},
     "inputWidgets": {},
     "nuid": "ae9da0c3-a134-462a-a41f-afbb8dd35a98",
     "showTitle": false,
     "tableResultSettingsMap": {},
     "title": ""
    }
   },
   "source": [
    "# Download Census Shapefiles\n",
    "\n",
    "> These are Census address blocks; download Shapefile(s) from https://www2.census.gov/geo/tiger/TIGER_RD18/LAYER/ADDR/\n",
    "\n",
    "\n",
    "__Artifacts Generated__\n",
    "<p/>\n",
    "\n",
    "1. Volume - `<catalog>.census.census_data/address_block_shapefiles`\n",
    "1. Table - `<catalog>.census.shape_address_block`\n",
    "\n",
    "--- \n",
    "__Author:__ Michael Johns <mjohns@databricks.com>  | _Last Modified: 07 FEB 2025_"
   ]
  },
  {
   "cell_type": "markdown",
   "metadata": {
    "application/vnd.databricks.v1+cell": {
     "cellMetadata": {},
     "inputWidgets": {},
     "nuid": "4bca5d5c-92da-45e1-b8fe-cb37e7a807c2",
     "showTitle": false,
     "tableResultSettingsMap": {},
     "title": ""
    }
   },
   "source": [
    "## Setup"
   ]
  },
  {
   "cell_type": "code",
   "execution_count": 0,
   "metadata": {
    "application/vnd.databricks.v1+cell": {
     "cellMetadata": {
      "byteLimit": 2048000,
      "rowLimit": 10000
     },
     "inputWidgets": {},
     "nuid": "5dbcc88a-f311-408d-824d-ab7553909f3a",
     "showTitle": false,
     "tableResultSettingsMap": {},
     "title": ""
    }
   },
   "outputs": [
    {
     "output_type": "display_data",
     "data": {
      "application/vnd.databricks.v1+h3_hint": "",
      "text/plain": []
     },
     "metadata": {},
     "output_type": "display_data"
    }
   ],
   "source": [
    "from pyspark.databricks.sql import functions as dbf\n",
    "from pyspark.sql import functions as F\n",
    "from pyspark.sql.functions import udf, col\n",
    "from pyspark.sql.types import *\n",
    "from pyspark.sql import Window\n",
    "\n",
    "import os"
   ]
  },
  {
   "cell_type": "code",
   "execution_count": 0,
   "metadata": {
    "application/vnd.databricks.v1+cell": {
     "cellMetadata": {
      "byteLimit": 2048000,
      "rowLimit": 10000
     },
     "inputWidgets": {},
     "nuid": "9dc45265-6f12-42cb-8244-f17f1ad4bde9",
     "showTitle": false,
     "tableResultSettingsMap": {},
     "title": ""
    }
   },
   "outputs": [],
   "source": [
    "spark.conf.set(\"spark.sql.shuffle.partitions\", 10_000)               # <- default is 200\n",
    "# https://spark.apache.org/docs/latest/sql-performance-tuning.html#adaptive-query-execution\n",
    "spark.conf.set(\"spark.databricks.optimizer.adaptive.enabled\", False) # <- default is true       "
   ]
  },
  {
   "cell_type": "markdown",
   "metadata": {
    "application/vnd.databricks.v1+cell": {
     "cellMetadata": {},
     "inputWidgets": {},
     "nuid": "0140ec49-a07e-45af-a768-65296c68a465",
     "showTitle": false,
     "tableResultSettingsMap": {},
     "title": ""
    }
   },
   "source": [
    "__Configure Database + Username__\n",
    "\n",
    "> Note: Adjust this to your own specified [Unity Catalog](https://docs.databricks.com/en/data-governance/unity-catalog/manage-privileges/admin-privileges.html#managing-unity-catalog-metastores) Schema."
   ]
  },
  {
   "cell_type": "code",
   "execution_count": 0,
   "metadata": {
    "application/vnd.databricks.v1+cell": {
     "cellMetadata": {
      "byteLimit": 2048000,
      "rowLimit": 10000
     },
     "inputWidgets": {},
     "nuid": "416e37e6-b250-4d0a-afa4-ec2a55c1df62",
     "showTitle": false,
     "tableResultSettingsMap": {},
     "title": ""
    }
   },
   "outputs": [
    {
     "output_type": "execute_result",
     "data": {
      "text/plain": [
       "DataFrame[]"
      ]
     },
     "execution_count": 4,
     "metadata": {},
     "output_type": "execute_result"
    }
   ],
   "source": [
    "catalog_name = \"mjohns\"\n",
    "db_name = \"census\"\n",
    "\n",
    "sql(f\"use catalog {catalog_name}\")\n",
    "sql(f\"use schema {db_name}\")"
   ]
  },
  {
   "cell_type": "code",
   "execution_count": 0,
   "metadata": {
    "application/vnd.databricks.v1+cell": {
     "cellMetadata": {
      "byteLimit": 2048000,
      "implicitDf": true,
      "rowLimit": 10000
     },
     "inputWidgets": {},
     "nuid": "fb979e77-e604-43f1-b2d9-9ceca2e804d2",
     "showTitle": false,
     "tableResultSettingsMap": {},
     "title": ""
    }
   },
   "outputs": [
    {
     "output_type": "display_data",
     "data": {
      "text/html": [
       "<style scoped>\n",
       "  .table-result-container {\n",
       "    max-height: 300px;\n",
       "    overflow: auto;\n",
       "  }\n",
       "  table, th, td {\n",
       "    border: 1px solid black;\n",
       "    border-collapse: collapse;\n",
       "  }\n",
       "  th, td {\n",
       "    padding: 5px;\n",
       "  }\n",
       "  th {\n",
       "    text-align: left;\n",
       "  }\n",
       "</style><div class='table-result-container'><table class='table-result'><thead style='background-color: white'><tr><th>database</th><th>tableName</th><th>isTemporary</th></tr></thead><tbody><tr><td>census</td><td>ga_address_block</td><td>false</td></tr></tbody></table></div>"
      ]
     },
     "metadata": {
      "application/vnd.databricks.v1+output": {
       "addedWidgets": {},
       "aggData": [],
       "aggError": "",
       "aggOverflow": false,
       "aggSchema": [],
       "aggSeriesLimitReached": false,
       "aggType": "",
       "arguments": {},
       "columnCustomDisplayInfos": {},
       "data": [
        [
         "census",
         "ga_address_block",
         false
        ]
       ],
       "datasetInfos": [],
       "dbfsResultPath": null,
       "isJsonSchema": true,
       "metadata": {
        "dataframeName": "_sqldf",
        "executionCount": 5
       },
       "overflow": false,
       "plotOptions": {
        "customPlotOptions": {},
        "displayType": "table",
        "pivotAggregation": null,
        "pivotColumns": null,
        "xColumns": null,
        "yColumns": null
       },
       "removedWidgets": [],
       "schema": [
        {
         "metadata": "{}",
         "name": "database",
         "type": "\"string\""
        },
        {
         "metadata": "{}",
         "name": "tableName",
         "type": "\"string\""
        },
        {
         "metadata": "{}",
         "name": "isTemporary",
         "type": "\"boolean\""
        }
       ],
       "type": "table"
      }
     },
     "output_type": "display_data"
    }
   ],
   "source": [
    "%sql show tables"
   ]
  },
  {
   "cell_type": "markdown",
   "metadata": {
    "application/vnd.databricks.v1+cell": {
     "cellMetadata": {},
     "inputWidgets": {},
     "nuid": "077c6054-1634-4b80-86e5-2c77d7eeb145",
     "showTitle": false,
     "tableResultSettingsMap": {},
     "title": ""
    }
   },
   "source": [
    "__Setup `ETL_DIR` + `ETL_DIR_FUSE`__\n",
    "\n",
    "> Note: Adjust this to your own specified [Volume](https://docs.databricks.com/en/ingestion/add-data/upload-to-volume.html#upload-files-to-a-unity-catalog-volume) (under a schema)."
   ]
  },
  {
   "cell_type": "code",
   "execution_count": 0,
   "metadata": {
    "application/vnd.databricks.v1+cell": {
     "cellMetadata": {
      "byteLimit": 2048000,
      "rowLimit": 10000
     },
     "inputWidgets": {},
     "nuid": "0bbff310-7d73-4087-9fc8-fb5887d167e3",
     "showTitle": false,
     "tableResultSettingsMap": {},
     "title": ""
    }
   },
   "outputs": [
    {
     "output_type": "stream",
     "name": "stdout",
     "output_type": "stream",
     "text": [
      "...ETL_DIR: '/Volumes/mjohns/census/census_data/address_block_shapefiles' (create)\n"
     ]
    }
   ],
   "source": [
    "ETL_DIR = '/Volumes/mjohns/census/census_data/address_block_shapefiles'\n",
    "os.environ['ETL_DIR'] = ETL_DIR\n",
    "\n",
    "dbutils.fs.mkdirs(ETL_DIR)\n",
    "print(f\"...ETL_DIR: '{ETL_DIR}' (create)\")"
   ]
  },
  {
   "cell_type": "code",
   "execution_count": 0,
   "metadata": {
    "application/vnd.databricks.v1+cell": {
     "cellMetadata": {
      "byteLimit": 2048000,
      "rowLimit": 10000
     },
     "inputWidgets": {},
     "nuid": "d7c307ec-aa2c-4003-ac31-142add84923d",
     "showTitle": false,
     "tableResultSettingsMap": {},
     "title": ""
    }
   },
   "outputs": [
    {
     "output_type": "stream",
     "name": "stdout",
     "output_type": "stream",
     "text": [
      "\u001B[0m\u001B[34;42maddress_block_shapefiles\u001B[0m/\r\n"
     ]
    }
   ],
   "source": [
    "ls $ETL_DIR/.."
   ]
  },
  {
   "cell_type": "markdown",
   "metadata": {
    "application/vnd.databricks.v1+cell": {
     "cellMetadata": {},
     "inputWidgets": {},
     "nuid": "3e10da79-5774-486a-b88c-f420056b6aa7",
     "showTitle": false,
     "tableResultSettingsMap": {},
     "title": ""
    }
   },
   "source": [
    "## Get All GA Addresses (Shapefiles)\n",
    "<p/>\n",
    "\n",
    "* Look for pattern https://www2.census.gov/geo/tiger/TIGER_RD18/LAYER/ADDRFEAT/tl_rd22_13*.zip (13 is GA number)"
   ]
  },
  {
   "cell_type": "code",
   "execution_count": 0,
   "metadata": {
    "application/vnd.databricks.v1+cell": {
     "cellMetadata": {
      "byteLimit": 2048000,
      "rowLimit": 10000
     },
     "inputWidgets": {},
     "nuid": "ce9f0f90-71d4-4ec0-9628-0466aee9f287",
     "showTitle": false,
     "tableResultSettingsMap": {},
     "title": ""
    }
   },
   "outputs": [],
   "source": [
    "state_num = \"13\""
   ]
  },
  {
   "cell_type": "markdown",
   "metadata": {
    "application/vnd.databricks.v1+cell": {
     "cellMetadata": {},
     "inputWidgets": {},
     "nuid": "2eda22a5-11b7-4f01-ad9e-9f8ee73493c7",
     "showTitle": false,
     "tableResultSettingsMap": {},
     "title": ""
    }
   },
   "source": [
    "__Make `address_features` directory.__"
   ]
  },
  {
   "cell_type": "code",
   "execution_count": 0,
   "metadata": {
    "application/vnd.databricks.v1+cell": {
     "cellMetadata": {
      "byteLimit": 2048000,
      "rowLimit": 10000
     },
     "inputWidgets": {},
     "nuid": "694a2f2f-bcb0-4a47-bcfb-dcdd483e85f1",
     "showTitle": false,
     "tableResultSettingsMap": {},
     "title": ""
    }
   },
   "outputs": [
    {
     "output_type": "stream",
     "name": "stdout",
     "output_type": "stream",
     "text": [
      "Out[11]: True"
     ]
    }
   ],
   "source": [
    "dbutils.fs.mkdirs(f\"{ETL_DIR}/address_features\")"
   ]
  },
  {
   "cell_type": "markdown",
   "metadata": {
    "application/vnd.databricks.v1+cell": {
     "cellMetadata": {},
     "inputWidgets": {},
     "nuid": "88055f32-6bfa-4c91-9861-4a8ba63cbe5b",
     "showTitle": false,
     "tableResultSettingsMap": {},
     "title": ""
    }
   },
   "source": [
    "### Get List of Shapefile ZIPs"
   ]
  },
  {
   "cell_type": "code",
   "execution_count": 0,
   "metadata": {
    "application/vnd.databricks.v1+cell": {
     "cellMetadata": {
      "byteLimit": 2048000,
      "rowLimit": 10000
     },
     "inputWidgets": {},
     "nuid": "3468e630-c073-44c2-aed7-a0b3c09ebcec",
     "showTitle": false,
     "tableResultSettingsMap": {},
     "title": ""
    }
   },
   "outputs": [
    {
     "output_type": "stream",
     "name": "stdout",
     "output_type": "stream",
     "text": [
      "--2023-10-23 14:35:14--  https://www2.census.gov/geo/tiger/TIGER_RD18/LAYER/ADDRFEAT/\nResolving www2.census.gov (www2.census.gov)... 104.86.227.69, 2600:1409:12:2b9::208c, 2600:1409:12:286::208c\nConnecting to www2.census.gov (www2.census.gov)|104.86.227.69|:443... connected.\nHTTP request sent, awaiting response... 200 OK\nLength: unspecified [text/html]\nSaving to: ‘address_features.txt’\n\n     0K .......... .......... .......... .......... .......... 4.30M\n    50K .......... .......... .......... .......... .......... 4.01M\n   100K .......... .......... .......... .......... .......... 15.2M\n   150K .......... .......... .......... .......... .......... 23.0M\n   200K .......... .......... .......... .......... .......... 10.9M\n   250K .......... .......... .......... .......... .......... 18.9M\n   300K .......... .......... .......... .......... .......... 25.1M\n   350K .......... .......... .......... .......... .......... 20.1M\n   400K .......... .......... .......... .......... .......... 32.9M\n   450K .......... .......... .......... .......... .......... 39.5M\n   500K .......... .......... .......... .......... .......... 62.2M\n   550K .......... .......... .......... .......... .......... 34.1M\n   600K .......... .......... .......... .......... .......... 33.3M\n   650K .......... .......... .......... .......... .......... 62.6M\n   700K .......... .......... .......... .......... .......... 77.8M\n   750K .....                                                   130M=0.05s\n\n2023-10-23 14:35:15 (15.3 MB/s) - ‘address_features.txt’ saved [774132]\n\ncp: failed to close '/Volumes/mjohns/census/census_data/address_block_shapefiles/address_features.txt': Permission denied\n"
     ]
    }
   ],
   "source": [
    "%sh \n",
    "## --- UNCOMMENT TO RE-RUN ---\n",
    "wget -O address_features.txt \"https://www2.census.gov/geo/tiger/TIGER_RD18/LAYER/ADDRFEAT/\""
   ]
  },
  {
   "cell_type": "code",
   "execution_count": 0,
   "metadata": {
    "application/vnd.databricks.v1+cell": {
     "cellMetadata": {
      "byteLimit": 2048000,
      "rowLimit": 10000
     },
     "inputWidgets": {},
     "nuid": "a778d810-30a9-4cf5-9c45-1a00b42c3210",
     "showTitle": false,
     "tableResultSettingsMap": {},
     "title": ""
    }
   },
   "outputs": [
    {
     "output_type": "stream",
     "name": "stdout",
     "output_type": "stream",
     "text": [
      "Out[22]: True"
     ]
    }
   ],
   "source": [
    "dbutils.fs.cp(\"file:/databricks/driver/address_features.txt\", ETL_DIR)"
   ]
  },
  {
   "cell_type": "code",
   "execution_count": 0,
   "metadata": {
    "application/vnd.databricks.v1+cell": {
     "cellMetadata": {
      "byteLimit": 2048000,
      "rowLimit": 10000
     },
     "inputWidgets": {},
     "nuid": "5e086984-348b-491f-afc3-51d4fdbf3654",
     "showTitle": false,
     "tableResultSettingsMap": {},
     "title": ""
    }
   },
   "outputs": [
    {
     "output_type": "stream",
     "name": "stdout",
     "output_type": "stream",
     "text": [
      "\u001B[0m\u001B[34;42maddress_features\u001B[0m/  \u001B[01;32maddress_features.txt\u001B[0m*\r\n"
     ]
    }
   ],
   "source": [
    "ls $ETL_DIR"
   ]
  },
  {
   "cell_type": "markdown",
   "metadata": {
    "application/vnd.databricks.v1+cell": {
     "cellMetadata": {},
     "inputWidgets": {},
     "nuid": "f6fffcb8-a376-4419-872e-ad05785c50f9",
     "showTitle": false,
     "tableResultSettingsMap": {},
     "title": ""
    }
   },
   "source": [
    "__Figure out which rows are within the `<table>` tag and extract the filenames.__\n",
    "\n",
    "> Since this is all in one file being read on one node, get consistent ordered id for `row_num` (not always true)."
   ]
  },
  {
   "cell_type": "code",
   "execution_count": 0,
   "metadata": {
    "application/vnd.databricks.v1+cell": {
     "cellMetadata": {
      "byteLimit": 2048000,
      "rowLimit": 10000
     },
     "inputWidgets": {},
     "nuid": "a030a498-2613-4ff7-b1dd-2922a965a3ea",
     "showTitle": false,
     "tableResultSettingsMap": {},
     "title": ""
    }
   },
   "outputs": [
    {
     "output_type": "stream",
     "name": "stdout",
     "output_type": "stream",
     "text": [
      "tbl_start_row: 237, tbl_end_row: 3463\n"
     ]
    }
   ],
   "source": [
    "tbl_start_row = (\n",
    "  spark.read.text(f\"{ETL_DIR}/address_features.txt\")\n",
    "  .withColumn(\"row_num\", F.monotonically_increasing_id())\n",
    "  .withColumn(\"tbl_start_row\", F.trim(\"value\") == '<table>')\n",
    "  .filter(\"tbl_start_row = True\")\n",
    "  .select(\"row_num\")\n",
    ").collect()[0][0]\n",
    "\n",
    "tbl_end_row = (\n",
    "  spark.read.text(f\"{ETL_DIR}/address_features.txt\")\n",
    "  .withColumn(\"row_num\", F.monotonically_increasing_id())\n",
    "  .withColumn(\"tbl_end_row\", F.trim(\"value\") == '</table>')\n",
    "  .filter(\"tbl_end_row = True\")\n",
    "  .select(\"row_num\")\n",
    ").collect()[0][0]\n",
    "\n",
    "print(f\"tbl_start_row: {tbl_start_row}, tbl_end_row: {tbl_end_row}\")"
   ]
  },
  {
   "cell_type": "code",
   "execution_count": 0,
   "metadata": {
    "application/vnd.databricks.v1+cell": {
     "cellMetadata": {
      "byteLimit": 2048000,
      "rowLimit": 10000
     },
     "inputWidgets": {},
     "nuid": "5715c3c9-4c68-4412-8fb7-521fe8881bd1",
     "showTitle": false,
     "tableResultSettingsMap": {},
     "title": ""
    }
   },
   "outputs": [
    {
     "output_type": "stream",
     "name": "stdout",
     "output_type": "stream",
     "text": [
      "len state files? 159\nOut[26]: ['tl_rd22_13001_addrfeat.zip',\n 'tl_rd22_13003_addrfeat.zip',\n 'tl_rd22_13005_addrfeat.zip',\n 'tl_rd22_13007_addrfeat.zip',\n 'tl_rd22_13009_addrfeat.zip']"
     ]
    }
   ],
   "source": [
    "state_files = [r[1] for r in (\n",
    "  spark.read.text(f\"{ETL_DIR}/address_features.txt\")\n",
    "  .withColumn(\"row_num\", F.monotonically_increasing_id())\n",
    "    .filter(f\"row_num > {tbl_start_row}\")\n",
    "    .filter(f\"row_num < {tbl_end_row}\")\n",
    "  .withColumn(\"href_start\", F.substring_index(\"value\", 'href=\"', -1))\n",
    "  .withColumn(\"href\", F.substring_index(\"href_start\", '\">', 1))\n",
    "    .filter(col(\"href\").startswith(f\"tl_rd22_{state_num}\")) \n",
    "  .select(\"row_num\",\"href\")\n",
    ").collect()]\n",
    "\n",
    "print(f\"len state files? {len(state_files):,}\")\n",
    "state_files[:5]"
   ]
  },
  {
   "cell_type": "markdown",
   "metadata": {
    "application/vnd.databricks.v1+cell": {
     "cellMetadata": {},
     "inputWidgets": {},
     "nuid": "4668ed64-7da6-4a22-8cea-32d4b0693d62",
     "showTitle": false,
     "tableResultSettingsMap": {},
     "title": ""
    }
   },
   "source": [
    "### Download Shapefile ZIPs (159)\n",
    "\n",
    "> Could do this in parallel, but keeping on just driver for now so as to not overload Census server with requests.\n",
    "\n",
    "__Note: writing locally to driver, then copying to volume with `dbutils`.__"
   ]
  },
  {
   "cell_type": "code",
   "execution_count": 0,
   "metadata": {
    "application/vnd.databricks.v1+cell": {
     "cellMetadata": {
      "byteLimit": 2048000,
      "rowLimit": 10000
     },
     "inputWidgets": {},
     "nuid": "b618ca99-bfe5-4b15-a9d8-e5c62b23ca1b",
     "showTitle": false,
     "tableResultSettingsMap": {},
     "title": ""
    }
   },
   "outputs": [
    {
     "output_type": "stream",
     "name": "stdout",
     "output_type": "stream",
     "text": [
      "   0 --> 'tl_rd22_13001_addrfeat.zip' exists...skipping\n   1 --> 'tl_rd22_13003_addrfeat.zip' exists...skipping\n   2 --> 'tl_rd22_13005_addrfeat.zip' exists...skipping\n   3 --> 'tl_rd22_13007_addrfeat.zip' exists...skipping\n   4 --> 'tl_rd22_13009_addrfeat.zip' exists...skipping\n   5 --> 'tl_rd22_13011_addrfeat.zip' exists...skipping\n   6 --> 'tl_rd22_13013_addrfeat.zip' exists...skipping\n   7 --> 'tl_rd22_13015_addrfeat.zip' exists...skipping\n   8 --> 'tl_rd22_13017_addrfeat.zip' exists...skipping\n   9 --> 'tl_rd22_13019_addrfeat.zip' exists...skipping\n  10 --> 'tl_rd22_13021_addrfeat.zip' exists...skipping\n  11 --> 'tl_rd22_13023_addrfeat.zip' exists...skipping\n  12 --> 'tl_rd22_13025_addrfeat.zip' exists...skipping\n  13 --> 'tl_rd22_13027_addrfeat.zip' exists...skipping\n  14 --> 'tl_rd22_13029_addrfeat.zip' exists...skipping\n  15 --> 'tl_rd22_13031_addrfeat.zip' exists...skipping\n  16 --> 'tl_rd22_13033_addrfeat.zip' exists...skipping\n  17 --> 'tl_rd22_13035_addrfeat.zip' exists...skipping\n  18 --> 'tl_rd22_13037_addrfeat.zip' exists...skipping\n  19 --> 'tl_rd22_13039_addrfeat.zip' exists...skipping\n  20 --> 'tl_rd22_13043_addrfeat.zip' exists...skipping\n  21 --> 'tl_rd22_13045_addrfeat.zip' exists...skipping\n  22 --> 'tl_rd22_13047_addrfeat.zip' exists...skipping\n  23 --> 'tl_rd22_13049_addrfeat.zip' exists...skipping\n  24 --> 'tl_rd22_13051_addrfeat.zip' exists...skipping\n  25 --> 'tl_rd22_13053_addrfeat.zip' exists...skipping\n  26 --> 'tl_rd22_13055_addrfeat.zip' exists...skipping\n  27 --> 'tl_rd22_13057_addrfeat.zip' exists...skipping\n  28 --> 'tl_rd22_13059_addrfeat.zip' exists...skipping\n  29 --> 'tl_rd22_13061_addrfeat.zip' exists...skipping\n  30 --> 'tl_rd22_13063_addrfeat.zip' exists...skipping\n  31 --> 'tl_rd22_13065_addrfeat.zip' exists...skipping\n  32 --> 'tl_rd22_13067_addrfeat.zip' exists...skipping\n  33 --> 'tl_rd22_13069_addrfeat.zip' exists...skipping\n  34 --> 'tl_rd22_13071_addrfeat.zip' exists...skipping\n  35 --> 'tl_rd22_13073_addrfeat.zip' exists...skipping\n  36 --> 'tl_rd22_13075_addrfeat.zip' exists...skipping\n  37 --> 'tl_rd22_13077_addrfeat.zip' exists...skipping\n  38 --> 'tl_rd22_13079_addrfeat.zip' exists...skipping\n  39 --> 'tl_rd22_13081_addrfeat.zip' exists...skipping\n  40 --> 'tl_rd22_13083_addrfeat.zip' exists...skipping\n  41 --> 'tl_rd22_13085_addrfeat.zip' exists...skipping\n  42 --> 'tl_rd22_13087_addrfeat.zip' exists...skipping\n  43 --> 'tl_rd22_13089_addrfeat.zip' exists...skipping\n  44 --> 'tl_rd22_13091_addrfeat.zip' exists...skipping\n  45 --> 'tl_rd22_13093_addrfeat.zip' exists...skipping\n  46 --> 'tl_rd22_13095_addrfeat.zip' exists...skipping\n  47 --> 'tl_rd22_13097_addrfeat.zip' exists...skipping\n  48 --> 'tl_rd22_13099_addrfeat.zip' exists...skipping\n  49 --> 'tl_rd22_13101_addrfeat.zip' exists...skipping\n  50 --> 'tl_rd22_13103_addrfeat.zip' exists...skipping\n  51 --> 'tl_rd22_13105_addrfeat.zip' exists...skipping\n  52 --> 'tl_rd22_13107_addrfeat.zip' exists...skipping\n  53 --> 'tl_rd22_13109_addrfeat.zip' exists...skipping\n  54 --> 'tl_rd22_13111_addrfeat.zip' exists...skipping\n  55 --> 'tl_rd22_13113_addrfeat.zip' exists...skipping\n  56 --> 'tl_rd22_13115_addrfeat.zip' exists...skipping\n  57 --> 'tl_rd22_13117_addrfeat.zip' exists...skipping\n  58 --> 'tl_rd22_13119_addrfeat.zip' exists...skipping\n  59 --> 'tl_rd22_13121_addrfeat.zip' exists...skipping\n  60 --> 'tl_rd22_13123_addrfeat.zip' exists...skipping\n  61 --> 'tl_rd22_13125_addrfeat.zip' exists...skipping\n  62 --> 'tl_rd22_13127_addrfeat.zip' exists...skipping\n  63 --> 'tl_rd22_13129_addrfeat.zip' exists...skipping\n  64 --> 'tl_rd22_13131_addrfeat.zip' exists...skipping\n  65 --> 'tl_rd22_13133_addrfeat.zip' exists...skipping\n  66 --> 'tl_rd22_13135_addrfeat.zip' exists...skipping\n  67 --> 'tl_rd22_13137_addrfeat.zip' exists...skipping\n  68 --> 'tl_rd22_13139_addrfeat.zip' exists...skipping\n  69 --> 'tl_rd22_13141_addrfeat.zip' exists...skipping\n  70 --> 'tl_rd22_13143_addrfeat.zip' exists...skipping\n  71 --> 'tl_rd22_13145_addrfeat.zip' exists...skipping\n  72 --> 'tl_rd22_13147_addrfeat.zip' exists...skipping\n  73 --> 'tl_rd22_13149_addrfeat.zip' exists...skipping\n  74 --> 'tl_rd22_13151_addrfeat.zip' exists...skipping\n  75 --> 'tl_rd22_13153_addrfeat.zip' exists...skipping\n  76 --> 'tl_rd22_13155_addrfeat.zip' exists...skipping\n  77 --> 'tl_rd22_13157_addrfeat.zip' exists...skipping\n  78 --> 'tl_rd22_13159_addrfeat.zip' exists...skipping\n  79 --> 'tl_rd22_13161_addrfeat.zip' exists...skipping\n  80 --> 'tl_rd22_13163_addrfeat.zip' exists...skipping\n  81 --> 'tl_rd22_13165_addrfeat.zip' exists...skipping\n  82 --> 'tl_rd22_13167_addrfeat.zip' exists...skipping\n  83 --> 'tl_rd22_13169_addrfeat.zip' exists...skipping\n  84 --> 'tl_rd22_13171_addrfeat.zip' exists...skipping\n  85 --> 'tl_rd22_13173_addrfeat.zip' exists...skipping\n  86 --> 'tl_rd22_13175_addrfeat.zip' exists...skipping\n  87 --> 'tl_rd22_13177_addrfeat.zip' exists...skipping\n  88 --> 'tl_rd22_13179_addrfeat.zip' exists...skipping\n  89 --> 'tl_rd22_13181_addrfeat.zip' exists...skipping\n  90 --> 'tl_rd22_13183_addrfeat.zip' exists...skipping\n  91 --> 'tl_rd22_13185_addrfeat.zip' exists...skipping\n  92 --> 'tl_rd22_13187_addrfeat.zip' exists...skipping\n  93 --> 'tl_rd22_13189_addrfeat.zip' exists...skipping\n  94 --> 'tl_rd22_13191_addrfeat.zip' exists...skipping\n  95 --> 'tl_rd22_13193_addrfeat.zip' exists...skipping\n  96 --> 'tl_rd22_13195_addrfeat.zip' exists...skipping\n  97 --> 'tl_rd22_13197_addrfeat.zip' exists...skipping\n  98 --> 'tl_rd22_13199_addrfeat.zip' exists...skipping\n  99 --> 'tl_rd22_13201_addrfeat.zip' exists...skipping\n 100 --> 'tl_rd22_13205_addrfeat.zip' exists...skipping\n 101 --> 'tl_rd22_13207_addrfeat.zip' exists...skipping\n 102 --> 'tl_rd22_13209_addrfeat.zip' exists...skipping\n 103 --> 'tl_rd22_13211_addrfeat.zip' exists...skipping\n 104 --> 'tl_rd22_13213_addrfeat.zip' exists...skipping\n 105 --> 'tl_rd22_13215_addrfeat.zip' exists...skipping\n 106 --> 'tl_rd22_13217_addrfeat.zip' exists...skipping\n 107 --> 'tl_rd22_13219_addrfeat.zip' exists...skipping\n 108 --> 'tl_rd22_13221_addrfeat.zip' exists...skipping\n 109 --> 'tl_rd22_13223_addrfeat.zip' exists...skipping\n 110 --> 'tl_rd22_13225_addrfeat.zip' exists...skipping\n 111 --> 'tl_rd22_13227_addrfeat.zip' exists...skipping\n 112 --> 'tl_rd22_13229_addrfeat.zip' exists...skipping\n 113 --> 'tl_rd22_13231_addrfeat.zip' exists...skipping\n 114 --> 'tl_rd22_13233_addrfeat.zip' exists...skipping\n 115 --> 'tl_rd22_13235_addrfeat.zip' exists...skipping\n 116 --> 'tl_rd22_13237_addrfeat.zip' exists...skipping\n 117 --> 'tl_rd22_13239_addrfeat.zip' exists...skipping\n 118 --> 'tl_rd22_13241_addrfeat.zip' exists...skipping\n 119 --> 'tl_rd22_13243_addrfeat.zip' exists...skipping\n 120 --> 'tl_rd22_13245_addrfeat.zip' exists...skipping\n 121 --> 'tl_rd22_13247_addrfeat.zip' exists...skipping\n 122 --> 'tl_rd22_13249_addrfeat.zip' exists...skipping\n 123 --> 'tl_rd22_13251_addrfeat.zip' exists...skipping\n 124 --> 'tl_rd22_13253_addrfeat.zip' exists...skipping\n 125 --> 'tl_rd22_13255_addrfeat.zip' exists...skipping\n 126 --> 'tl_rd22_13257_addrfeat.zip' exists...skipping\n 127 --> 'tl_rd22_13259_addrfeat.zip' exists...skipping\n 128 --> 'tl_rd22_13261_addrfeat.zip' exists...skipping\n 129 --> 'tl_rd22_13263_addrfeat.zip' exists...skipping\n 130 --> 'tl_rd22_13265_addrfeat.zip' exists...skipping\n 131 --> 'tl_rd22_13267_addrfeat.zip' exists...skipping\n 132 --> 'tl_rd22_13269_addrfeat.zip' exists...skipping\n 133 --> 'tl_rd22_13271_addrfeat.zip' exists...skipping\n 134 --> 'tl_rd22_13273_addrfeat.zip' exists...skipping\n 135 --> 'tl_rd22_13275_addrfeat.zip' exists...skipping\n 136 --> 'tl_rd22_13277_addrfeat.zip' exists...skipping\n 137 --> 'tl_rd22_13279_addrfeat.zip' exists...skipping\n 138 --> 'tl_rd22_13281_addrfeat.zip' exists...skipping\n 139 --> 'tl_rd22_13283_addrfeat.zip' exists...skipping\n 140 --> 'tl_rd22_13285_addrfeat.zip' exists...skipping\n 141 --> 'tl_rd22_13287_addrfeat.zip' exists...skipping\n 142 --> 'tl_rd22_13289_addrfeat.zip' exists...skipping\n 143 --> 'tl_rd22_13291_addrfeat.zip' exists...skipping\n 144 --> 'tl_rd22_13293_addrfeat.zip' exists...skipping\n 145 --> 'tl_rd22_13295_addrfeat.zip' exists...skipping\n 146 --> 'tl_rd22_13297_addrfeat.zip' exists...skipping\n 147 --> 'tl_rd22_13299_addrfeat.zip' exists...skipping\n 148 --> 'tl_rd22_13301_addrfeat.zip' exists...skipping\n 149 --> 'tl_rd22_13303_addrfeat.zip' exists...skipping\n 150 --> 'tl_rd22_13305_addrfeat.zip' exists...skipping\n 151 --> 'tl_rd22_13307_addrfeat.zip' exists...skipping\n 152 --> 'tl_rd22_13309_addrfeat.zip' exists...skipping\n 153 --> 'tl_rd22_13311_addrfeat.zip' exists...skipping\n 154 --> 'tl_rd22_13313_addrfeat.zip' exists...skipping\n 155 --> 'tl_rd22_13315_addrfeat.zip' exists...skipping\n 156 --> 'tl_rd22_13317_addrfeat.zip' exists...skipping\n 157 --> 'tl_rd22_13319_addrfeat.zip' exists...skipping\n 158 --> 'tl_rd22_13321_addrfeat.zip' exists...skipping\n"
     ]
    }
   ],
   "source": [
    "import pathlib\n",
    "import requests\n",
    "\n",
    "vol_path = pathlib.Path(f\"{ETL_DIR}/address_features\")\n",
    "local_path = pathlib.Path(f\"address_features\")\n",
    "local_path.mkdir(parents=True, exist_ok=True)\n",
    "local_path_str = local_path.resolve().as_posix()\n",
    "\n",
    "for idx,f in enumerate(state_files):\n",
    "  idx_str = str(idx).rjust(4)\n",
    "  \n",
    "  vol_file = vol_path / f\n",
    "  if not vol_file.exists():\n",
    "    local_file = local_path / f \n",
    "    print(f\"{idx_str} --> '{f}'\")\n",
    "    req = requests.get(f'https://www2.census.gov/geo/tiger/TIGER_RD18/LAYER/ADDRFEAT/{f}')\n",
    "    with open(local_file, 'wb') as f:\n",
    "      f.write(req.content)\n",
    "  else:\n",
    "    print(f\"{idx_str} --> '{f}' exists...skipping\")"
   ]
  },
  {
   "cell_type": "code",
   "execution_count": 0,
   "metadata": {
    "application/vnd.databricks.v1+cell": {
     "cellMetadata": {
      "byteLimit": 2048000,
      "rowLimit": 10000
     },
     "inputWidgets": {},
     "nuid": "20c476a8-9a3f-4ca9-9d3b-f99914f861a7",
     "showTitle": false,
     "tableResultSettingsMap": {},
     "title": ""
    }
   },
   "outputs": [
    {
     "output_type": "stream",
     "name": "stdout",
     "output_type": "stream",
     "text": [
      "Out[39]: True"
     ]
    }
   ],
   "source": [
    "dbutils.fs.cp(f\"file:{local_path_str}\", f\"{ETL_DIR}/address_features\", recurse=True)"
   ]
  },
  {
   "cell_type": "code",
   "execution_count": 0,
   "metadata": {
    "application/vnd.databricks.v1+cell": {
     "cellMetadata": {
      "byteLimit": 2048000,
      "rowLimit": 10000
     },
     "inputWidgets": {},
     "nuid": "1563023f-d74b-4e70-82c4-aa9a8c79c8f9",
     "showTitle": false,
     "tableResultSettingsMap": {},
     "title": ""
    }
   },
   "outputs": [
    {
     "output_type": "stream",
     "name": "stdout",
     "output_type": "stream",
     "text": [
      "total 366M\r\n-rwxrwxrwx 1 nobody nogroup  1.8M Oct 23 14:53 \u001B[0m\u001B[01;32mtl_rd22_13001_addrfeat.zip\u001B[0m*\r\n-rwxrwxrwx 1 nobody nogroup  888K Oct 23 14:53 \u001B[01;32mtl_rd22_13003_addrfeat.zip\u001B[0m*\r\n-rwxrwxrwx 1 nobody nogroup  814K Oct 23 14:53 \u001B[01;32mtl_rd22_13005_addrfeat.zip\u001B[0m*\r\n-rwxrwxrwx 1 nobody nogroup  447K Oct 23 14:53 \u001B[01;32mtl_rd22_13007_addrfeat.zip\u001B[0m*\r\n-rwxrwxrwx 1 nobody nogroup  1.8M Oct 23 14:53 \u001B[01;32mtl_rd22_13009_addrfeat.zip\u001B[0m*\r\n-rwxrwxrwx 1 nobody nogroup  1.4M Oct 23 14:53 \u001B[01;32mtl_rd22_13011_addrfeat.zip\u001B[0m*\r\n-rwxrwxrwx 1 nobody nogroup  2.2M Oct 23 14:53 \u001B[01;32mtl_rd22_13013_addrfeat.zip\u001B[0m*\r\n-rwxrwxrwx 1 nobody nogroup  4.5M Oct 23 14:53 \u001B[01;32mtl_rd22_13015_addrfeat.zip\u001B[0m*\r\n-rwxrwxrwx 1 nobody nogroup  1.1M Oct 23 14:53 \u001B[01;32mtl_rd22_13017_addrfeat.zip\u001B[0m*\r\n-rwxrwxrwx 1 nobody nogroup  1.6M Oct 23 14:53 \u001B[01;32mtl_rd22_13019_addrfeat.zip\u001B[0m*\r\n-rwxrwxrwx 1 nobody nogroup  4.8M Oct 23 14:53 \u001B[01;32mtl_rd22_13021_addrfeat.zip\u001B[0m*\r\n-rwxrwxrwx 1 nobody nogroup  808K Oct 23 14:53 \u001B[01;32mtl_rd22_13023_addrfeat.zip\u001B[0m*\r\n-rwxrwxrwx 1 nobody nogroup  1.4M Oct 23 14:53 \u001B[01;32mtl_rd22_13025_addrfeat.zip\u001B[0m*\r\n-rwxrwxrwx 1 nobody nogroup  1.5M Oct 23 14:53 \u001B[01;32mtl_rd22_13027_addrfeat.zip\u001B[0m*\r\n-rwxrwxrwx 1 nobody nogroup  1.5M Oct 23 14:53 \u001B[01;32mtl_rd22_13029_addrfeat.zip\u001B[0m*\r\n-rwxrwxrwx 1 nobody nogroup  3.1M Oct 23 14:53 \u001B[01;32mtl_rd22_13031_addrfeat.zip\u001B[0m*\r\n-rwxrwxrwx 1 nobody nogroup  1.6M Oct 23 14:53 \u001B[01;32mtl_rd22_13033_addrfeat.zip\u001B[0m*\r\n-rwxrwxrwx 1 nobody nogroup  1.2M Oct 23 14:53 \u001B[01;32mtl_rd22_13035_addrfeat.zip\u001B[0m*\r\n-rwxrwxrwx 1 nobody nogroup  555K Oct 23 14:53 \u001B[01;32mtl_rd22_13037_addrfeat.zip\u001B[0m*\r\n-rwxrwxrwx 1 nobody nogroup  2.1M Oct 23 14:53 \u001B[01;32mtl_rd22_13039_addrfeat.zip\u001B[0m*\r\n-rwxrwxrwx 1 nobody nogroup  1.2M Oct 23 14:53 \u001B[01;32mtl_rd22_13043_addrfeat.zip\u001B[0m*\r\n-rwxrwxrwx 1 nobody nogroup  4.4M Oct 23 14:53 \u001B[01;32mtl_rd22_13045_addrfeat.zip\u001B[0m*\r\n-rwxrwxrwx 1 nobody nogroup  2.5M Oct 23 14:53 \u001B[01;32mtl_rd22_13047_addrfeat.zip\u001B[0m*\r\n-rwxrwxrwx 1 nobody nogroup  917K Oct 23 14:53 \u001B[01;32mtl_rd22_13049_addrfeat.zip\u001B[0m*\r\n-rwxrwxrwx 1 nobody nogroup  6.4M Oct 23 14:53 \u001B[01;32mtl_rd22_13051_addrfeat.zip\u001B[0m*\r\n-rwxrwxrwx 1 nobody nogroup  420K Oct 23 14:53 \u001B[01;32mtl_rd22_13053_addrfeat.zip\u001B[0m*\r\n-rwxrwxrwx 1 nobody nogroup  1.9M Oct 23 14:53 \u001B[01;32mtl_rd22_13055_addrfeat.zip\u001B[0m*\r\n-rwxrwxrwx 1 nobody nogroup  7.2M Oct 23 14:53 \u001B[01;32mtl_rd22_13057_addrfeat.zip\u001B[0m*\r\n-rwxrwxrwx 1 nobody nogroup  2.6M Oct 23 14:53 \u001B[01;32mtl_rd22_13059_addrfeat.zip\u001B[0m*\r\n-rwxrwxrwx 1 nobody nogroup  427K Oct 23 14:53 \u001B[01;32mtl_rd22_13061_addrfeat.zip\u001B[0m*\r\n-rwxrwxrwx 1 nobody nogroup  5.1M Oct 23 14:53 \u001B[01;32mtl_rd22_13063_addrfeat.zip\u001B[0m*\r\n-rwxrwxrwx 1 nobody nogroup  605K Oct 23 14:53 \u001B[01;32mtl_rd22_13065_addrfeat.zip\u001B[0m*\r\n-rwxrwxrwx 1 nobody nogroup   19M Oct 23 14:53 \u001B[01;32mtl_rd22_13067_addrfeat.zip\u001B[0m*\r\n-rwxrwxrwx 1 nobody nogroup  2.6M Oct 23 14:53 \u001B[01;32mtl_rd22_13069_addrfeat.zip\u001B[0m*\r\n-rwxrwxrwx 1 nobody nogroup  2.6M Oct 23 14:53 \u001B[01;32mtl_rd22_13071_addrfeat.zip\u001B[0m*\r\n-rwxrwxrwx 1 nobody nogroup  3.7M Oct 23 14:53 \u001B[01;32mtl_rd22_13073_addrfeat.zip\u001B[0m*\r\n-rwxrwxrwx 1 nobody nogroup  1.1M Oct 23 14:53 \u001B[01;32mtl_rd22_13075_addrfeat.zip\u001B[0m*\r\n-rwxrwxrwx 1 nobody nogroup  4.1M Oct 23 14:53 \u001B[01;32mtl_rd22_13077_addrfeat.zip\u001B[0m*\r\n-rwxrwxrwx 1 nobody nogroup  1.1M Oct 23 14:53 \u001B[01;32mtl_rd22_13079_addrfeat.zip\u001B[0m*\r\n-rwxrwxrwx 1 nobody nogroup  1.2M Oct 23 14:53 \u001B[01;32mtl_rd22_13081_addrfeat.zip\u001B[0m*\r\n-rwxrwxrwx 1 nobody nogroup  1.2M Oct 23 14:53 \u001B[01;32mtl_rd22_13083_addrfeat.zip\u001B[0m*\r\n-rwxrwxrwx 1 nobody nogroup  1.7M Oct 23 14:53 \u001B[01;32mtl_rd22_13085_addrfeat.zip\u001B[0m*\r\n-rwxrwxrwx 1 nobody nogroup  1.8M Oct 23 14:53 \u001B[01;32mtl_rd22_13087_addrfeat.zip\u001B[0m*\r\n-rwxrwxrwx 1 nobody nogroup   13M Oct 23 14:53 \u001B[01;32mtl_rd22_13089_addrfeat.zip\u001B[0m*\r\n-rwxrwxrwx 1 nobody nogroup  1.6M Oct 23 14:53 \u001B[01;32mtl_rd22_13091_addrfeat.zip\u001B[0m*\r\n-rwxrwxrwx 1 nobody nogroup  935K Oct 23 14:53 \u001B[01;32mtl_rd22_13093_addrfeat.zip\u001B[0m*\r\n-rwxrwxrwx 1 nobody nogroup  2.6M Oct 23 14:53 \u001B[01;32mtl_rd22_13095_addrfeat.zip\u001B[0m*\r\n-rwxrwxrwx 1 nobody nogroup  4.2M Oct 23 14:53 \u001B[01;32mtl_rd22_13097_addrfeat.zip\u001B[0m*\r\n-rwxrwxrwx 1 nobody nogroup  1.2M Oct 23 14:53 \u001B[01;32mtl_rd22_13099_addrfeat.zip\u001B[0m*\r\n-rwxrwxrwx 1 nobody nogroup  371K Oct 23 14:53 \u001B[01;32mtl_rd22_13101_addrfeat.zip\u001B[0m*\r\n-rwxrwxrwx 1 nobody nogroup  2.0M Oct 23 14:53 \u001B[01;32mtl_rd22_13103_addrfeat.zip\u001B[0m*\r\n-rwxrwxrwx 1 nobody nogroup  1.4M Oct 23 14:53 \u001B[01;32mtl_rd22_13105_addrfeat.zip\u001B[0m*\r\n-rwxrwxrwx 1 nobody nogroup  1.7M Oct 23 14:53 \u001B[01;32mtl_rd22_13107_addrfeat.zip\u001B[0m*\r\n-rwxrwxrwx 1 nobody nogroup  922K Oct 23 14:53 \u001B[01;32mtl_rd22_13109_addrfeat.zip\u001B[0m*\r\n-rwxrwxrwx 1 nobody nogroup  4.6M Oct 23 14:53 \u001B[01;32mtl_rd22_13111_addrfeat.zip\u001B[0m*\r\n-rwxrwxrwx 1 nobody nogroup  3.0M Oct 23 14:53 \u001B[01;32mtl_rd22_13113_addrfeat.zip\u001B[0m*\r\n-rwxrwxrwx 1 nobody nogroup  3.4M Oct 23 14:53 \u001B[01;32mtl_rd22_13115_addrfeat.zip\u001B[0m*\r\n-rwxrwxrwx 1 nobody nogroup  5.5M Oct 23 14:53 \u001B[01;32mtl_rd22_13117_addrfeat.zip\u001B[0m*\r\n-rwxrwxrwx 1 nobody nogroup  2.0M Oct 23 14:53 \u001B[01;32mtl_rd22_13119_addrfeat.zip\u001B[0m*\r\n-rwxrwxrwx 1 nobody nogroup   20M Oct 23 14:53 \u001B[01;32mtl_rd22_13121_addrfeat.zip\u001B[0m*\r\n-rwxrwxrwx 1 nobody nogroup  3.9M Oct 23 14:53 \u001B[01;32mtl_rd22_13123_addrfeat.zip\u001B[0m*\r\n-rwxrwxrwx 1 nobody nogroup  367K Oct 23 14:53 \u001B[01;32mtl_rd22_13125_addrfeat.zip\u001B[0m*\r\n-rwxrwxrwx 1 nobody nogroup  3.4M Oct 23 14:53 \u001B[01;32mtl_rd22_13127_addrfeat.zip\u001B[0m*\r\n-rwxrwxrwx 1 nobody nogroup  3.0M Oct 23 14:53 \u001B[01;32mtl_rd22_13129_addrfeat.zip\u001B[0m*\r\n-rwxrwxrwx 1 nobody nogroup  1.6M Oct 23 14:53 \u001B[01;32mtl_rd22_13131_addrfeat.zip\u001B[0m*\r\n-rwxrwxrwx 1 nobody nogroup  1.3M Oct 23 14:53 \u001B[01;32mtl_rd22_13133_addrfeat.zip\u001B[0m*\r\n-rwxrwxrwx 1 nobody nogroup   17M Oct 23 14:53 \u001B[01;32mtl_rd22_13135_addrfeat.zip\u001B[0m*\r\n-rwxrwxrwx 1 nobody nogroup  2.8M Oct 23 14:53 \u001B[01;32mtl_rd22_13137_addrfeat.zip\u001B[0m*\r\n-rwxrwxrwx 1 nobody nogroup  5.9M Oct 23 14:53 \u001B[01;32mtl_rd22_13139_addrfeat.zip\u001B[0m*\r\n-rwxrwxrwx 1 nobody nogroup  1.4M Oct 23 14:53 \u001B[01;32mtl_rd22_13141_addrfeat.zip\u001B[0m*\r\n-rwxrwxrwx 1 nobody nogroup  2.1M Oct 23 14:53 \u001B[01;32mtl_rd22_13143_addrfeat.zip\u001B[0m*\r\n-rwxrwxrwx 1 nobody nogroup  2.0M Oct 23 14:53 \u001B[01;32mtl_rd22_13145_addrfeat.zip\u001B[0m*\r\n-rwxrwxrwx 1 nobody nogroup  2.4M Oct 23 14:53 \u001B[01;32mtl_rd22_13147_addrfeat.zip\u001B[0m*\r\n-rwxrwxrwx 1 nobody nogroup  983K Oct 23 14:53 \u001B[01;32mtl_rd22_13149_addrfeat.zip\u001B[0m*\r\n-rwxrwxrwx 1 nobody nogroup  5.7M Oct 23 14:53 \u001B[01;32mtl_rd22_13151_addrfeat.zip\u001B[0m*\r\n-rwxrwxrwx 1 nobody nogroup  4.1M Oct 23 14:53 \u001B[01;32mtl_rd22_13153_addrfeat.zip\u001B[0m*\r\n-rwxrwxrwx 1 nobody nogroup  871K Oct 23 14:53 \u001B[01;32mtl_rd22_13155_addrfeat.zip\u001B[0m*\r\n-rwxrwxrwx 1 nobody nogroup  3.4M Oct 23 14:53 \u001B[01;32mtl_rd22_13157_addrfeat.zip\u001B[0m*\r\n-rwxrwxrwx 1 nobody nogroup  1.1M Oct 23 14:53 \u001B[01;32mtl_rd22_13159_addrfeat.zip\u001B[0m*\r\n-rwxrwxrwx 1 nobody nogroup  1.2M Oct 23 14:53 \u001B[01;32mtl_rd22_13161_addrfeat.zip\u001B[0m*\r\n-rwxrwxrwx 1 nobody nogroup  1.8M Oct 23 14:53 \u001B[01;32mtl_rd22_13163_addrfeat.zip\u001B[0m*\r\n-rwxrwxrwx 1 nobody nogroup  968K Oct 23 14:53 \u001B[01;32mtl_rd22_13165_addrfeat.zip\u001B[0m*\r\n-rwxrwxrwx 1 nobody nogroup  741K Oct 23 14:53 \u001B[01;32mtl_rd22_13167_addrfeat.zip\u001B[0m*\r\n-rwxrwxrwx 1 nobody nogroup  2.0M Oct 23 14:53 \u001B[01;32mtl_rd22_13169_addrfeat.zip\u001B[0m*\r\n-rwxrwxrwx 1 nobody nogroup  830K Oct 23 14:53 \u001B[01;32mtl_rd22_13171_addrfeat.zip\u001B[0m*\r\n-rwxrwxrwx 1 nobody nogroup  833K Oct 23 14:53 \u001B[01;32mtl_rd22_13173_addrfeat.zip\u001B[0m*\r\n-rwxrwxrwx 1 nobody nogroup  3.0M Oct 23 14:53 \u001B[01;32mtl_rd22_13175_addrfeat.zip\u001B[0m*\r\n-rwxrwxrwx 1 nobody nogroup  930K Oct 23 14:53 \u001B[01;32mtl_rd22_13177_addrfeat.zip\u001B[0m*\r\n-rwxrwxrwx 1 nobody nogroup  2.0M Oct 23 14:53 \u001B[01;32mtl_rd22_13179_addrfeat.zip\u001B[0m*\r\n-rwxrwxrwx 1 nobody nogroup  685K Oct 23 14:53 \u001B[01;32mtl_rd22_13181_addrfeat.zip\u001B[0m*\r\n-rwxrwxrwx 1 nobody nogroup 1015K Oct 23 14:53 \u001B[01;32mtl_rd22_13183_addrfeat.zip\u001B[0m*\r\n-rwxrwxrwx 1 nobody nogroup  3.8M Oct 23 14:53 \u001B[01;32mtl_rd22_13185_addrfeat.zip\u001B[0m*\r\n-rwxrwxrwx 1 nobody nogroup  2.3M Oct 23 14:53 \u001B[01;32mtl_rd22_13187_addrfeat.zip\u001B[0m*\r\n-rwxrwxrwx 1 nobody nogroup  1.3M Oct 23 14:53 \u001B[01;32mtl_rd22_13189_addrfeat.zip\u001B[0m*\r\n-rwxrwxrwx 1 nobody nogroup  1.4M Oct 23 14:53 \u001B[01;32mtl_rd22_13191_addrfeat.zip\u001B[0m*\r\n-rwxrwxrwx 1 nobody nogroup  990K Oct 23 14:53 \u001B[01;32mtl_rd22_13193_addrfeat.zip\u001B[0m*\r\n-rwxrwxrwx 1 nobody nogroup  2.0M Oct 23 14:53 \u001B[01;32mtl_rd22_13195_addrfeat.zip\u001B[0m*\r\n-rwxrwxrwx 1 nobody nogroup  770K Oct 23 14:53 \u001B[01;32mtl_rd22_13197_addrfeat.zip\u001B[0m*\r\n-rwxrwxrwx 1 nobody nogroup  1.6M Oct 23 14:53 \u001B[01;32mtl_rd22_13199_addrfeat.zip\u001B[0m*\r\n-rwxrwxrwx 1 nobody nogroup  508K Oct 23 14:53 \u001B[01;32mtl_rd22_13201_addrfeat.zip\u001B[0m*\r\n-rwxrwxrwx 1 nobody nogroup  1.5M Oct 23 14:53 \u001B[01;32mtl_rd22_13205_addrfeat.zip\u001B[0m*\r\n-rwxrwxrwx 1 nobody nogroup  1.8M Oct 23 14:53 \u001B[01;32mtl_rd22_13207_addrfeat.zip\u001B[0m*\r\n-rwxrwxrwx 1 nobody nogroup  758K Oct 23 14:53 \u001B[01;32mtl_rd22_13209_addrfeat.zip\u001B[0m*\r\n-rwxrwxrwx 1 nobody nogroup  1.5M Oct 23 14:53 \u001B[01;32mtl_rd22_13211_addrfeat.zip\u001B[0m*\r\n-rwxrwxrwx 1 nobody nogroup  2.0M Oct 23 14:53 \u001B[01;32mtl_rd22_13213_addrfeat.zip\u001B[0m*\r\n-rwxrwxrwx 1 nobody nogroup  4.2M Oct 23 14:53 \u001B[01;32mtl_rd22_13215_addrfeat.zip\u001B[0m*\r\n-rwxrwxrwx 1 nobody nogroup  3.4M Oct 23 14:53 \u001B[01;32mtl_rd22_13217_addrfeat.zip\u001B[0m*\r\n-rwxrwxrwx 1 nobody nogroup  1.7M Oct 23 14:53 \u001B[01;32mtl_rd22_13219_addrfeat.zip\u001B[0m*\r\n-rwxrwxrwx 1 nobody nogroup  1.1M Oct 23 14:53 \u001B[01;32mtl_rd22_13221_addrfeat.zip\u001B[0m*\r\n-rwxrwxrwx 1 nobody nogroup  5.0M Oct 23 14:53 \u001B[01;32mtl_rd22_13223_addrfeat.zip\u001B[0m*\r\n-rwxrwxrwx 1 nobody nogroup  1.3M Oct 23 14:53 \u001B[01;32mtl_rd22_13225_addrfeat.zip\u001B[0m*\r\n-rwxrwxrwx 1 nobody nogroup  2.6M Oct 23 14:53 \u001B[01;32mtl_rd22_13227_addrfeat.zip\u001B[0m*\r\n-rwxrwxrwx 1 nobody nogroup  1.2M Oct 23 14:53 \u001B[01;32mtl_rd22_13229_addrfeat.zip\u001B[0m*\r\n-rwxrwxrwx 1 nobody nogroup  1.2M Oct 23 14:53 \u001B[01;32mtl_rd22_13231_addrfeat.zip\u001B[0m*\r\n-rwxrwxrwx 1 nobody nogroup  2.1M Oct 23 14:53 \u001B[01;32mtl_rd22_13233_addrfeat.zip\u001B[0m*\r\n-rwxrwxrwx 1 nobody nogroup  852K Oct 23 14:53 \u001B[01;32mtl_rd22_13235_addrfeat.zip\u001B[0m*\r\n-rwxrwxrwx 1 nobody nogroup  1.4M Oct 23 14:53 \u001B[01;32mtl_rd22_13237_addrfeat.zip\u001B[0m*\r\n-rwxrwxrwx 1 nobody nogroup  361K Oct 23 14:53 \u001B[01;32mtl_rd22_13239_addrfeat.zip\u001B[0m*\r\n-rwxrwxrwx 1 nobody nogroup  2.8M Oct 23 14:53 \u001B[01;32mtl_rd22_13241_addrfeat.zip\u001B[0m*\r\n-rwxrwxrwx 1 nobody nogroup  689K Oct 23 14:53 \u001B[01;32mtl_rd22_13243_addrfeat.zip\u001B[0m*\r\n-rwxrwxrwx 1 nobody nogroup  5.1M Oct 23 14:53 \u001B[01;32mtl_rd22_13245_addrfeat.zip\u001B[0m*\r\n-rwxrwxrwx 1 nobody nogroup  2.4M Oct 23 14:53 \u001B[01;32mtl_rd22_13247_addrfeat.zip\u001B[0m*\r\n-rwxrwxrwx 1 nobody nogroup  506K Oct 23 14:53 \u001B[01;32mtl_rd22_13249_addrfeat.zip\u001B[0m*\r\n-rwxrwxrwx 1 nobody nogroup  1.3M Oct 23 14:53 \u001B[01;32mtl_rd22_13251_addrfeat.zip\u001B[0m*\r\n-rwxrwxrwx 1 nobody nogroup  736K Oct 23 14:53 \u001B[01;32mtl_rd22_13253_addrfeat.zip\u001B[0m*\r\n-rwxrwxrwx 1 nobody nogroup  2.0M Oct 23 14:53 \u001B[01;32mtl_rd22_13255_addrfeat.zip\u001B[0m*\r\n-rwxrwxrwx 1 nobody nogroup  2.2M Oct 23 14:53 \u001B[01;32mtl_rd22_13257_addrfeat.zip\u001B[0m*\r\n-rwxrwxrwx 1 nobody nogroup  598K Oct 23 14:53 \u001B[01;32mtl_rd22_13259_addrfeat.zip\u001B[0m*\r\n-rwxrwxrwx 1 nobody nogroup  1.5M Oct 23 14:53 \u001B[01;32mtl_rd22_13261_addrfeat.zip\u001B[0m*\r\n-rwxrwxrwx 1 nobody nogroup  838K Oct 23 14:53 \u001B[01;32mtl_rd22_13263_addrfeat.zip\u001B[0m*\r\n-rwxrwxrwx 1 nobody nogroup  306K Oct 23 14:53 \u001B[01;32mtl_rd22_13265_addrfeat.zip\u001B[0m*\r\n-rwxrwxrwx 1 nobody nogroup  1.9M Oct 23 14:53 \u001B[01;32mtl_rd22_13267_addrfeat.zip\u001B[0m*\r\n-rwxrwxrwx 1 nobody nogroup  793K Oct 23 14:53 \u001B[01;32mtl_rd22_13269_addrfeat.zip\u001B[0m*\r\n-rwxrwxrwx 1 nobody nogroup  1.2M Oct 23 14:53 \u001B[01;32mtl_rd22_13271_addrfeat.zip\u001B[0m*\r\n-rwxrwxrwx 1 nobody nogroup  960K Oct 23 14:53 \u001B[01;32mtl_rd22_13273_addrfeat.zip\u001B[0m*\r\n-rwxrwxrwx 1 nobody nogroup  2.6M Oct 23 14:53 \u001B[01;32mtl_rd22_13275_addrfeat.zip\u001B[0m*\r\n-rwxrwxrwx 1 nobody nogroup  2.1M Oct 23 14:53 \u001B[01;32mtl_rd22_13277_addrfeat.zip\u001B[0m*\r\n-rwxrwxrwx 1 nobody nogroup  1.8M Oct 23 14:53 \u001B[01;32mtl_rd22_13279_addrfeat.zip\u001B[0m*\r\n-rwxrwxrwx 1 nobody nogroup  1.5M Oct 23 14:53 \u001B[01;32mtl_rd22_13281_addrfeat.zip\u001B[0m*\r\n-rwxrwxrwx 1 nobody nogroup  664K Oct 23 14:53 \u001B[01;32mtl_rd22_13283_addrfeat.zip\u001B[0m*\r\n-rwxrwxrwx 1 nobody nogroup  2.3M Oct 23 14:53 \u001B[01;32mtl_rd22_13285_addrfeat.zip\u001B[0m*\r\n-rwxrwxrwx 1 nobody nogroup  732K Oct 23 14:53 \u001B[01;32mtl_rd22_13287_addrfeat.zip\u001B[0m*\r\n-rwxrwxrwx 1 nobody nogroup  975K Oct 23 14:53 \u001B[01;32mtl_rd22_13289_addrfeat.zip\u001B[0m*\r\n-rwxrwxrwx 1 nobody nogroup  4.5M Oct 23 14:53 \u001B[01;32mtl_rd22_13291_addrfeat.zip\u001B[0m*\r\n-rwxrwxrwx 1 nobody nogroup  1.3M Oct 23 14:53 \u001B[01;32mtl_rd22_13293_addrfeat.zip\u001B[0m*\r\n-rwxrwxrwx 1 nobody nogroup  3.6M Oct 23 14:53 \u001B[01;32mtl_rd22_13295_addrfeat.zip\u001B[0m*\r\n-rwxrwxrwx 1 nobody nogroup  2.7M Oct 23 14:53 \u001B[01;32mtl_rd22_13297_addrfeat.zip\u001B[0m*\r\n-rwxrwxrwx 1 nobody nogroup  2.0M Oct 23 14:53 \u001B[01;32mtl_rd22_13299_addrfeat.zip\u001B[0m*\r\n-rwxrwxrwx 1 nobody nogroup  698K Oct 23 14:53 \u001B[01;32mtl_rd22_13301_addrfeat.zip\u001B[0m*\r\n-rwxrwxrwx 1 nobody nogroup  1.8M Oct 23 14:53 \u001B[01;32mtl_rd22_13303_addrfeat.zip\u001B[0m*\r\n-rwxrwxrwx 1 nobody nogroup  2.0M Oct 23 14:53 \u001B[01;32mtl_rd22_13305_addrfeat.zip\u001B[0m*\r\n-rwxrwxrwx 1 nobody nogroup  413K Oct 23 14:53 \u001B[01;32mtl_rd22_13307_addrfeat.zip\u001B[0m*\r\n-rwxrwxrwx 1 nobody nogroup  686K Oct 23 14:53 \u001B[01;32mtl_rd22_13309_addrfeat.zip\u001B[0m*\r\n-rwxrwxrwx 1 nobody nogroup  2.3M Oct 23 14:53 \u001B[01;32mtl_rd22_13311_addrfeat.zip\u001B[0m*\r\n-rwxrwxrwx 1 nobody nogroup  4.2M Oct 23 14:53 \u001B[01;32mtl_rd22_13313_addrfeat.zip\u001B[0m*\r\n-rwxrwxrwx 1 nobody nogroup  966K Oct 23 14:53 \u001B[01;32mtl_rd22_13315_addrfeat.zip\u001B[0m*\r\n-rwxrwxrwx 1 nobody nogroup  1.1M Oct 23 14:53 \u001B[01;32mtl_rd22_13317_addrfeat.zip\u001B[0m*\r\n-rwxrwxrwx 1 nobody nogroup  1.1M Oct 23 14:53 \u001B[01;32mtl_rd22_13319_addrfeat.zip\u001B[0m*\r\n-rwxrwxrwx 1 nobody nogroup  1.9M Oct 23 14:53 \u001B[01;32mtl_rd22_13321_addrfeat.zip\u001B[0m*\r\n"
     ]
    }
   ],
   "source": [
    "ls -lh $ETL_DIR/address_features"
   ]
  }
 ],
 "metadata": {
  "application/vnd.databricks.v1+notebook": {
   "computePreferences": null,
   "dashboards": [],
   "environmentMetadata": {
    "base_environment": "",
    "environment_version": "1"
   },
   "language": "python",
   "notebookMetadata": {
    "mostRecentlyExecutedCommandWithImplicitDF": {
     "commandId": 79297106454446,
     "dataframes": [
      "_sqldf"
     ]
    },
    "pythonIndentUnit": 2
   },
   "notebookName": "download_census_shapefiles.py",
   "widgets": {}
  },
  "language_info": {
   "name": "python"
  }
 },
 "nbformat": 4,
 "nbformat_minor": 0
}