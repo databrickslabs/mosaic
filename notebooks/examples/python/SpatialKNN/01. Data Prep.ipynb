{
 "cells": [
  {
   "cell_type": "markdown",
   "metadata": {
    "application/vnd.databricks.v1+cell": {
     "cellMetadata": {},
     "inputWidgets": {},
     "nuid": "2c3f3354-af76-43e5-9fa3-f7202c692e0d",
     "showTitle": false,
     "title": ""
    }
   },
   "source": [
    "## Setup\n",
    "\n",
    "> Generates the following in database `mosaic_spatial_knn`: (1) table `building_50k`, (2) table `trip_1m`. These are sufficient samples of the full data for this example. __Note:__ You will need to run the actual Spatial KNN on [Databricks ML Runtime](https://docs.databricks.com/en/release-notes/runtime/index.html), for this one it doesn't matter.\n",
    "\n",
    "<p/>\n",
    "\n",
    "1. To use Databricks Labs [Mosaic](https://databrickslabs.github.io/mosaic/index.html) library for geospatial data engineering, analysis, and visualization functionality:\n",
    "  * Install with `%pip install databricks-mosaic`\n",
    "  * Import and use with the following:\n",
    "  ```\n",
    "  import mosaic as mos\n",
    "  mos.enable_mosaic(spark, dbutils)\n",
    "  ```\n",
    "<p/>\n",
    "\n",
    "2. To use [KeplerGl](https://kepler.gl/) OSS library for map layer rendering:\n",
    "  * Already installed with Mosaic, use `%%mosaic_kepler` magic [[Mosaic Docs](https://databrickslabs.github.io/mosaic/usage/kepler.html)]\n",
    "  * Import with `from keplergl import KeplerGl` to use directly\n",
    "\n",
    "If you have trouble with Volume access:\n",
    "\n",
    "* For Mosaic 0.3 series (< DBR 13)     - you can copy resources to DBFS as a workaround\n",
    "* For Mosaic 0.4 series (DBR 13.3 LTS) - you will need to either copy resources to DBFS or setup for Unity Catalog + Shared Access which will involve your workspace admin. Instructions, as updated, will be [here](https://databrickslabs.github.io/mosaic/usage/install-gdal.html).\n",
    "\n",
    "---\n",
    "__Last Updated:__ 27 NOV 2023 [Mosaic 0.3.12]"
   ]
  },
  {
   "cell_type": "code",
   "execution_count": 0,
   "metadata": {
    "application/vnd.databricks.v1+cell": {
     "cellMetadata": {
      "byteLimit": 2048000,
      "rowLimit": 10000
     },
     "inputWidgets": {},
     "nuid": "c41f69e4-a93a-4a8b-91d8-94019843bd02",
     "showTitle": false,
     "title": ""
    }
   },
   "outputs": [
    {
     "output_type": "stream",
     "name": "stdout",
     "output_type": "stream",
     "text": [
      "Python interpreter will be restarted.\nPython interpreter will be restarted.\n"
     ]
    }
   ],
   "source": [
    "%pip install \"databricks-mosaic<0.4,>=0.3\" --quiet # <- Mosaic 0.3 series\n",
    "# %pip install \"databricks-mosaic<0.5,>=0.4\" --quiet # <- Mosaic 0.4 series (as available)"
   ]
  },
  {
   "cell_type": "code",
   "execution_count": 0,
   "metadata": {
    "application/vnd.databricks.v1+cell": {
     "cellMetadata": {
      "byteLimit": 2048000,
      "rowLimit": 10000
     },
     "inputWidgets": {},
     "nuid": "2e4ea63d-e7b9-4e3f-bed9-63d51b13e50e",
     "showTitle": false,
     "title": ""
    }
   },
   "outputs": [],
   "source": [
    "# -- configure AQE for more compute heavy operations\n",
    "#  - choose option-1 or option-2 below, essential for REPARTITION!\n",
    "# spark.conf.set(\"spark.databricks.optimizer.adaptive.enabled\", False) # <- option-1: turn off completely for full control\n",
    "spark.conf.set(\"spark.sql.adaptive.coalescePartitions.enabled\", False) # <- option-2: just tweak partition management\n",
    "spark.conf.set(\"spark.sql.shuffle.partitions\", 1_024)                  # <-- default is 200\n",
    "\n",
    "# -- import databricks + spark functions\n",
    "from pyspark.sql import functions as F\n",
    "from pyspark.sql.functions import col, udf\n",
    "from pyspark.sql.types import *\n",
    "\n",
    "# -- setup mosaic\n",
    "import mosaic as mos\n",
    "\n",
    "mos.enable_mosaic(spark, dbutils)\n",
    "# mos.enable_gdal(spark) # <- not needed for this example\n",
    "\n",
    "# --other imports\n",
    "import os\n",
    "import warnings\n",
    "\n",
    "warnings.simplefilter(\"ignore\")"
   ]
  },
  {
   "cell_type": "markdown",
   "metadata": {
    "application/vnd.databricks.v1+cell": {
     "cellMetadata": {},
     "inputWidgets": {},
     "nuid": "e437d01f-add6-4dac-b9cf-1aa9516057ed",
     "showTitle": false,
     "title": ""
    }
   },
   "source": [
    "__Setup Data Location__\n",
    "\n",
    "> You can alter this, of course, to match your preferred location. __Note:__ this is showing DBFS for continuity outside Unity Catalog + Shared Access clusters, but you can easily modify paths to use [Volumes](https://docs.databricks.com/en/sql/language-manual/sql-ref-volumes.html), see more details [here](https://databrickslabs.github.io/mosaic/usage/installation.html) as available."
   ]
  },
  {
   "cell_type": "code",
   "execution_count": 0,
   "metadata": {
    "application/vnd.databricks.v1+cell": {
     "cellMetadata": {
      "byteLimit": 2048000,
      "rowLimit": 10000
     },
     "inputWidgets": {},
     "nuid": "88fbb923-8e5a-4319-b00c-191bb2bbd140",
     "showTitle": false,
     "title": ""
    }
   },
   "outputs": [
    {
     "output_type": "stream",
     "name": "stdout",
     "output_type": "stream",
     "text": [
      "The raw data will be stored in 'dbfs:/mjohns@databricks.com/geospatial/mosaic/data/spatial_knn'\n"
     ]
    }
   ],
   "source": [
    "user_name = dbutils.notebook.entry_point.getDbutils().notebook().getContext().userName().get()\n",
    "\n",
    "raw_path = f\"dbfs:/{user_name}/geospatial/mosaic/data/spatial_knn\"\n",
    "raw_fuse_path = raw_path.replace(\"dbfs:\",\"/dbfs\")\n",
    "dbutils.fs.mkdirs(raw_path)\n",
    "\n",
    "os.environ['RAW_PATH'] = raw_path\n",
    "os.environ['RAW_FUSE_PATH'] = raw_fuse_path\n",
    "\n",
    "print(f\"The raw data will be stored in '{raw_path}'\")"
   ]
  },
  {
   "cell_type": "code",
   "execution_count": 0,
   "metadata": {
    "application/vnd.databricks.v1+cell": {
     "cellMetadata": {
      "byteLimit": 2048000,
      "rowLimit": 10000
     },
     "inputWidgets": {},
     "nuid": "98c85386-f334-4570-8857-cd0caac6047f",
     "showTitle": false,
     "title": ""
    }
   },
   "outputs": [],
   "source": [
    "building_filename = \"nyc_building_footprints.geojson\"\n",
    "os.environ['BUILDING_FILENAME'] = building_filename"
   ]
  },
  {
   "cell_type": "markdown",
   "metadata": {
    "application/vnd.databricks.v1+cell": {
     "cellMetadata": {},
     "inputWidgets": {},
     "nuid": "203ef9df-5ac4-4239-b2c3-3af35a3251fb",
     "showTitle": false,
     "title": ""
    }
   },
   "source": [
    "__Setup Catalog and Schema__\n",
    "\n",
    "> You will have to adjust for your environment."
   ]
  },
  {
   "cell_type": "code",
   "execution_count": 0,
   "metadata": {
    "application/vnd.databricks.v1+cell": {
     "cellMetadata": {
      "byteLimit": 2048000,
      "rowLimit": 10000
     },
     "inputWidgets": {},
     "nuid": "59419e55-1588-41cf-a191-d210f6e912f7",
     "showTitle": false,
     "title": ""
    }
   },
   "outputs": [
    {
     "output_type": "stream",
     "name": "stdout",
     "output_type": "stream",
     "text": [
      "Out[1]: DataFrame[]"
     ]
    }
   ],
   "source": [
    "catalog_name = \"mjohns\"\n",
    "sql(f\"USE CATALOG {catalog_name}\")\n",
    "\n",
    "db_name = \"mosaic_spatial_knn\"\n",
    "sql(f\"CREATE DATABASE IF NOT EXISTS {db_name}\")\n",
    "sql(f\"USE SCHEMA {db_name}\")"
   ]
  },
  {
   "cell_type": "code",
   "execution_count": 0,
   "metadata": {
    "application/vnd.databricks.v1+cell": {
     "cellMetadata": {
      "byteLimit": 2048000,
      "implicitDf": true,
      "rowLimit": 10000
     },
     "inputWidgets": {},
     "nuid": "3eb32bde-8575-4190-b8ce-192803905292",
     "showTitle": false,
     "title": ""
    }
   },
   "outputs": [
    {
     "output_type": "display_data",
     "data": {
      "text/html": [
       "<style scoped>\n",
       "  .table-result-container {\n",
       "    max-height: 300px;\n",
       "    overflow: auto;\n",
       "  }\n",
       "  table, th, td {\n",
       "    border: 1px solid black;\n",
       "    border-collapse: collapse;\n",
       "  }\n",
       "  th, td {\n",
       "    padding: 5px;\n",
       "  }\n",
       "  th {\n",
       "    text-align: left;\n",
       "  }\n",
       "</style><div class='table-result-container'><table class='table-result'><thead style='background-color: white'><tr><th>database</th><th>tableName</th><th>isTemporary</th></tr></thead><tbody></tbody></table></div>"
      ]
     },
     "metadata": {
      "application/vnd.databricks.v1+output": {
       "addedWidgets": {},
       "aggData": [],
       "aggError": "",
       "aggOverflow": false,
       "aggSchema": [],
       "aggSeriesLimitReached": false,
       "aggType": "",
       "arguments": {},
       "columnCustomDisplayInfos": {},
       "data": [],
       "datasetInfos": [],
       "dbfsResultPath": null,
       "isJsonSchema": true,
       "metadata": {},
       "overflow": false,
       "plotOptions": {
        "customPlotOptions": {},
        "displayType": "table",
        "pivotAggregation": null,
        "pivotColumns": null,
        "xColumns": null,
        "yColumns": null
       },
       "removedWidgets": [],
       "schema": [
        {
         "metadata": "{}",
         "name": "database",
         "type": "\"string\""
        },
        {
         "metadata": "{}",
         "name": "tableName",
         "type": "\"string\""
        },
        {
         "metadata": "{}",
         "name": "isTemporary",
         "type": "\"boolean\""
        }
       ],
       "type": "table"
      }
     },
     "output_type": "display_data"
    }
   ],
   "source": [
    "%sql show tables"
   ]
  },
  {
   "cell_type": "markdown",
   "metadata": {
    "application/vnd.databricks.v1+cell": {
     "cellMetadata": {},
     "inputWidgets": {},
     "nuid": "b82264e3-334c-42c3-a2e4-7ddc9f719d8a",
     "showTitle": false,
     "title": ""
    }
   },
   "source": [
    "## Setup NYC Building Data (`Building` Table | 50K)\n",
    "\n",
    "> While the overall data size is ~1.1M, we are going to just take 50K for purposes of this example."
   ]
  },
  {
   "cell_type": "markdown",
   "metadata": {
    "application/vnd.databricks.v1+cell": {
     "cellMetadata": {},
     "inputWidgets": {},
     "nuid": "5f37b525-cf8b-43f6-9cfc-75839ef4b8a4",
     "showTitle": false,
     "title": ""
    }
   },
   "source": [
    "__Download Data (789MB)__"
   ]
  },
  {
   "cell_type": "code",
   "execution_count": 0,
   "metadata": {
    "application/vnd.databricks.v1+cell": {
     "cellMetadata": {
      "byteLimit": 2048000,
      "rowLimit": 10000
     },
     "inputWidgets": {},
     "nuid": "cb424979-adae-46a2-b89c-ead1e7497813",
     "showTitle": false,
     "title": ""
    }
   },
   "outputs": [],
   "source": [
    "import requests\n",
    "import pathlib\n",
    "\n",
    "def download_url(data_location, dataset_subpath, url):\n",
    "  fuse_dir = pathlib.Path(data_location.replace('dbfs:',''))\n",
    "  if (\n",
    "    not fuse_dir.name.startswith('/Volumes/') and \n",
    "    not fuse_dir.name.startswith('/Workspace/')\n",
    "  ):\n",
    "    fuse_dir = pathlib.Path(data_location.replace('dbfs:/', '/dbfs/'))\n",
    "  fuse_dir.mkdir(parents=True, exist_ok=True)\n",
    "  fuse_path = fuse_dir / dataset_subpath\n",
    "  if not fuse_path.exists():\n",
    "    req = requests.get(url)\n",
    "    with open(fuse_path, 'wb') as f:\n",
    "      f.write(req.content)\n",
    "  else:\n",
    "    print(f\"'{fuse_path}' exists...skipping\")"
   ]
  },
  {
   "cell_type": "code",
   "execution_count": 0,
   "metadata": {
    "application/vnd.databricks.v1+cell": {
     "cellMetadata": {
      "byteLimit": 2048000,
      "rowLimit": 10000
     },
     "inputWidgets": {},
     "nuid": "834611da-2dce-4738-b9f7-38aae360c473",
     "showTitle": false,
     "title": ""
    }
   },
   "outputs": [
    {
     "output_type": "stream",
     "name": "stdout",
     "output_type": "stream",
     "text": [
      "'/dbfs/mjohns@databricks.com/geospatial/mosaic/data/spatial_knn/nyc_building_footprints.geojson' exists...skipping\n"
     ]
    }
   ],
   "source": [
    "# buildings - data preview = https://data.cityofnewyork.us/Housing-Development/Building-Footprints/nqwf-w8eh\n",
    "download_url(raw_path, building_filename, \"https://data.cityofnewyork.us/api/geospatial/nqwf-w8eh?method=export&format=GeoJSON\")"
   ]
  },
  {
   "cell_type": "code",
   "execution_count": 0,
   "metadata": {
    "application/vnd.databricks.v1+cell": {
     "cellMetadata": {
      "byteLimit": 2048000,
      "rowLimit": 10000
     },
     "inputWidgets": {},
     "nuid": "145be74e-b1f6-4e78-a434-8076844ee721",
     "showTitle": false,
     "title": ""
    }
   },
   "outputs": [
    {
     "output_type": "stream",
     "name": "stdout",
     "output_type": "stream",
     "text": [
      "-rwxrwxrwx 1 root root 836M Nov 27 16:45 \u001B[0m\u001B[01;32m'/dbfs/mjohns@databricks.com/geospatial/mosaic/data/spatial_knn/nyc_building_footprints.geojson'\u001B[0m\u001B[K*\r\n"
     ]
    }
   ],
   "source": [
    "ls -lh $RAW_FUSE_PATH/$BUILDING_FILENAME"
   ]
  },
  {
   "cell_type": "markdown",
   "metadata": {
    "application/vnd.databricks.v1+cell": {
     "cellMetadata": {},
     "inputWidgets": {},
     "nuid": "e1fc720f-b7b3-4a25-a89b-072c16e7310b",
     "showTitle": false,
     "title": ""
    }
   },
   "source": [
    "__Generate DataFrame__"
   ]
  },
  {
   "cell_type": "code",
   "execution_count": 0,
   "metadata": {
    "application/vnd.databricks.v1+cell": {
     "cellMetadata": {
      "byteLimit": 2048000,
      "rowLimit": 10000
     },
     "inputWidgets": {},
     "nuid": "362a23a3-f8e4-45fd-8bd3-737767dcfa7c",
     "showTitle": false,
     "title": ""
    }
   },
   "outputs": [],
   "source": [
    "@udf(returnType=StringType())\n",
    "def fix_geojson(gj_dict):\n",
    "  \"\"\"\n",
    "  This GeoJSON has coordinates nested as a string, \n",
    "  so standardize here to avoid issues, gets to same as\n",
    "  expected when `to_json(\"feature.geometry\")` is\n",
    "  normally called.\n",
    "  \"\"\"\n",
    "  import json\n",
    "  \n",
    "  r_list = []\n",
    "  for l in gj_dict['coordinates']:\n",
    "    if isinstance(l,str):\n",
    "      r_list.append(json.loads(l))\n",
    "    else:\n",
    "      r_list.append(l)\n",
    "  \n",
    "  return json.dumps(\n",
    "    {\n",
    "      \"type\": gj_dict['type'],\n",
    "      \"coordinates\": r_list\n",
    "    }\n",
    "  )"
   ]
  },
  {
   "cell_type": "code",
   "execution_count": 0,
   "metadata": {
    "application/vnd.databricks.v1+cell": {
     "cellMetadata": {
      "byteLimit": 2048000,
      "rowLimit": 10000
     },
     "inputWidgets": {},
     "nuid": "06f7583c-0f39-4e53-be99-e477f389e772",
     "showTitle": false,
     "title": ""
    }
   },
   "outputs": [
    {
     "output_type": "stream",
     "name": "stdout",
     "output_type": "stream",
     "text": [
      "count? 1,109,072\n"
     ]
    },
    {
     "output_type": "display_data",
     "data": {
      "text/html": [
       "<style scoped>\n",
       "  .table-result-container {\n",
       "    max-height: 300px;\n",
       "    overflow: auto;\n",
       "  }\n",
       "  table, th, td {\n",
       "    border: 1px solid black;\n",
       "    border-collapse: collapse;\n",
       "  }\n",
       "  th, td {\n",
       "    padding: 5px;\n",
       "  }\n",
       "  th {\n",
       "    text-align: left;\n",
       "  }\n",
       "</style><div class='table-result-container'><table class='table-result'><thead style='background-color: white'><tr><th>type</th><th>properties</th><th>json_geometry</th></tr></thead><tbody><tr><td>FeatureCollection</td><td>List(2042760052, 2048658, 1935, 61809, 2100, Photogramm, {3DCF27FF-A2D0-49BC-A96A-8A25FEEFB8EE}, 78, 40.72, 2017-08-22T00:00:00.000, Constructed, 2042760052, null, 0.0, 0.0)</td><td>{\"type\": \"MultiPolygon\", \"coordinates\": [[[[-73.85143689311231, 40.85381546242524], [-73.85140609192288, 40.8537759883946], [-73.85145374874513, 40.85375454871117], [-73.8514285730422, 40.853722286769], [-73.85153533063556, 40.85367425956854], [-73.85154239770608, 40.85367108001943], [-73.85157483915371, 40.85371265607289], [-73.85158935911977, 40.853706123670676], [-73.85161245356112, 40.853735721045325], [-73.85159921333282, 40.853741677881], [-73.85160609708538, 40.85375049985463], [-73.8515494571809, 40.85377598115823], [-73.8514909949624, 40.85380228223765], [-73.85148454995291, 40.85379402272926], [-73.85143689311231, 40.85381546242524]]]]}</td></tr></tbody></table></div>"
      ]
     },
     "metadata": {
      "application/vnd.databricks.v1+output": {
       "addedWidgets": {},
       "aggData": [],
       "aggError": "",
       "aggOverflow": false,
       "aggSchema": [],
       "aggSeriesLimitReached": false,
       "aggType": "",
       "arguments": {},
       "columnCustomDisplayInfos": {},
       "data": [
        [
         "FeatureCollection",
         [
          "2042760052",
          "2048658",
          "1935",
          "61809",
          "2100",
          "Photogramm",
          "{3DCF27FF-A2D0-49BC-A96A-8A25FEEFB8EE}",
          "78",
          "40.72",
          "2017-08-22T00:00:00.000",
          "Constructed",
          "2042760052",
          null,
          "0.0",
          "0.0"
         ],
         "{\"type\": \"MultiPolygon\", \"coordinates\": [[[[-73.85143689311231, 40.85381546242524], [-73.85140609192288, 40.8537759883946], [-73.85145374874513, 40.85375454871117], [-73.8514285730422, 40.853722286769], [-73.85153533063556, 40.85367425956854], [-73.85154239770608, 40.85367108001943], [-73.85157483915371, 40.85371265607289], [-73.85158935911977, 40.853706123670676], [-73.85161245356112, 40.853735721045325], [-73.85159921333282, 40.853741677881], [-73.85160609708538, 40.85375049985463], [-73.8515494571809, 40.85377598115823], [-73.8514909949624, 40.85380228223765], [-73.85148454995291, 40.85379402272926], [-73.85143689311231, 40.85381546242524]]]]}"
        ]
       ],
       "datasetInfos": [],
       "dbfsResultPath": null,
       "isJsonSchema": true,
       "metadata": {},
       "overflow": false,
       "plotOptions": {
        "customPlotOptions": {},
        "displayType": "table",
        "pivotAggregation": null,
        "pivotColumns": null,
        "xColumns": null,
        "yColumns": null
       },
       "removedWidgets": [],
       "schema": [
        {
         "metadata": "{}",
         "name": "type",
         "type": "\"string\""
        },
        {
         "metadata": "{}",
         "name": "properties",
         "type": "{\"type\":\"struct\",\"fields\":[{\"name\":\"base_bbl\",\"type\":\"string\",\"nullable\":true,\"metadata\":{}},{\"name\":\"bin\",\"type\":\"string\",\"nullable\":true,\"metadata\":{}},{\"name\":\"cnstrct_yr\",\"type\":\"string\",\"nullable\":true,\"metadata\":{}},{\"name\":\"doitt_id\",\"type\":\"string\",\"nullable\":true,\"metadata\":{}},{\"name\":\"feat_code\",\"type\":\"string\",\"nullable\":true,\"metadata\":{}},{\"name\":\"geomsource\",\"type\":\"string\",\"nullable\":true,\"metadata\":{}},{\"name\":\"globalid\",\"type\":\"string\",\"nullable\":true,\"metadata\":{}},{\"name\":\"groundelev\",\"type\":\"string\",\"nullable\":true,\"metadata\":{}},{\"name\":\"heightroof\",\"type\":\"string\",\"nullable\":true,\"metadata\":{}},{\"name\":\"lstmoddate\",\"type\":\"string\",\"nullable\":true,\"metadata\":{}},{\"name\":\"lststatype\",\"type\":\"string\",\"nullable\":true,\"metadata\":{}},{\"name\":\"mpluto_bbl\",\"type\":\"string\",\"nullable\":true,\"metadata\":{}},{\"name\":\"name\",\"type\":\"string\",\"nullable\":true,\"metadata\":{}},{\"name\":\"shape_area\",\"type\":\"string\",\"nullable\":true,\"metadata\":{}},{\"name\":\"shape_len\",\"type\":\"string\",\"nullable\":true,\"metadata\":{}}]}"
        },
        {
         "metadata": "{}",
         "name": "json_geometry",
         "type": "\"string\""
        }
       ],
       "type": "table"
      }
     },
     "output_type": "display_data"
    }
   ],
   "source": [
    "spark.catalog.clearCache() # <- cache useful for dev (avoid recomputes)\n",
    "\n",
    "_df_geojson_raw = (\n",
    "  spark.read\n",
    "    .option(\"multiline\", \"true\")\n",
    "    .format(\"json\")\n",
    "    .load(f\"{raw_path}/{building_filename}\")\n",
    "      .select(\"type\", F.explode(col(\"features\")).alias(\"feature\"))\n",
    "      .repartition(24)\n",
    "        .select(\n",
    "          \"type\", \n",
    "          \"feature.properties\", \n",
    "          fix_geojson(\"feature.geometry\").alias(\"json_geometry\")\n",
    "        )\n",
    "    .cache()\n",
    ")\n",
    "\n",
    "print(f\"count? {_df_geojson_raw.count():,}\")\n",
    "display(_df_geojson_raw.limit(1))"
   ]
  },
  {
   "cell_type": "code",
   "execution_count": 0,
   "metadata": {
    "application/vnd.databricks.v1+cell": {
     "cellMetadata": {
      "byteLimit": 2048000,
      "rowLimit": 10000
     },
     "inputWidgets": {},
     "nuid": "cc16e0de-2a44-4abd-90fb-eee3e49111ba",
     "showTitle": false,
     "title": ""
    }
   },
   "outputs": [],
   "source": [
    "_df_geojson = (\n",
    "  _df_geojson_raw\n",
    "    .withColumn(\"geom\", mos.st_geomfromgeojson(\"json_geometry\"))\n",
    "    .withColumn(\"geom_wkt\", mos.st_astext(\"geom\"))\n",
    "    .withColumn(\"is_valid\", mos.st_isvalid(\"geom_wkt\"))\n",
    "    .select(\"properties.*\", \"geom_wkt\", \"is_valid\")\n",
    ")\n",
    "\n",
    "# print(f\"count? {_df_geojson.count():,}\")\n",
    "# display(_df_geojson.limit(1))"
   ]
  },
  {
   "cell_type": "markdown",
   "metadata": {
    "application/vnd.databricks.v1+cell": {
     "cellMetadata": {},
     "inputWidgets": {},
     "nuid": "07449a49-1763-4127-b486-ece94d89fc37",
     "showTitle": false,
     "title": ""
    }
   },
   "source": [
    "__Get Sample of 50K__"
   ]
  },
  {
   "cell_type": "code",
   "execution_count": 0,
   "metadata": {
    "application/vnd.databricks.v1+cell": {
     "cellMetadata": {
      "byteLimit": 2048000,
      "rowLimit": 10000
     },
     "inputWidgets": {},
     "nuid": "4e9d0289-b285-4427-9649-1f8b4469546e",
     "showTitle": false,
     "title": ""
    }
   },
   "outputs": [
    {
     "output_type": "stream",
     "name": "stdout",
     "output_type": "stream",
     "text": [
      "count? 50,000\n"
     ]
    }
   ],
   "source": [
    "_df_geojson_50k = (\n",
    "  _df_geojson\n",
    "    .sample(0.05)\n",
    "    .limit(50_000)\n",
    ")\n",
    "\n",
    "print(f\"count? {_df_geojson_50k.count():,}\")"
   ]
  },
  {
   "cell_type": "markdown",
   "metadata": {
    "application/vnd.databricks.v1+cell": {
     "cellMetadata": {},
     "inputWidgets": {},
     "nuid": "20532979-c8e1-4f79-a637-6f23293091d4",
     "showTitle": false,
     "title": ""
    }
   },
   "source": [
    "__Write out to Delta Lake__"
   ]
  },
  {
   "cell_type": "code",
   "execution_count": 0,
   "metadata": {
    "application/vnd.databricks.v1+cell": {
     "cellMetadata": {
      "byteLimit": 2048000,
      "rowLimit": 10000
     },
     "inputWidgets": {},
     "nuid": "fd86cab5-f718-410d-a2ff-7d168c5c4c34",
     "showTitle": false,
     "title": ""
    }
   },
   "outputs": [],
   "source": [
    "(\n",
    "  _df_geojson_50k\n",
    "    .write\n",
    "      .format(\"delta\")\n",
    "      .mode(\"overwrite\")\n",
    "      .saveAsTable(f\"building_50k\")\n",
    ")"
   ]
  },
  {
   "cell_type": "code",
   "execution_count": 0,
   "metadata": {
    "application/vnd.databricks.v1+cell": {
     "cellMetadata": {
      "byteLimit": 2048000,
      "implicitDf": true,
      "rowLimit": 10000
     },
     "inputWidgets": {},
     "nuid": "e5052760-55fc-400c-8cd0-f5d0c204d030",
     "showTitle": false,
     "title": ""
    }
   },
   "outputs": [
    {
     "output_type": "display_data",
     "data": {
      "text/html": [
       "<style scoped>\n",
       "  .table-result-container {\n",
       "    max-height: 300px;\n",
       "    overflow: auto;\n",
       "  }\n",
       "  table, th, td {\n",
       "    border: 1px solid black;\n",
       "    border-collapse: collapse;\n",
       "  }\n",
       "  th, td {\n",
       "    padding: 5px;\n",
       "  }\n",
       "  th {\n",
       "    text-align: left;\n",
       "  }\n",
       "</style><div class='table-result-container'><table class='table-result'><thead style='background-color: white'><tr><th>count</th></tr></thead><tbody><tr><td>50,000</td></tr></tbody></table></div>"
      ]
     },
     "metadata": {
      "application/vnd.databricks.v1+output": {
       "addedWidgets": {},
       "aggData": [],
       "aggError": "",
       "aggOverflow": false,
       "aggSchema": [],
       "aggSeriesLimitReached": false,
       "aggType": "",
       "arguments": {},
       "columnCustomDisplayInfos": {},
       "data": [
        [
         "50,000"
        ]
       ],
       "datasetInfos": [],
       "dbfsResultPath": null,
       "isJsonSchema": true,
       "metadata": {},
       "overflow": false,
       "plotOptions": {
        "customPlotOptions": {},
        "displayType": "table",
        "pivotAggregation": null,
        "pivotColumns": null,
        "xColumns": null,
        "yColumns": null
       },
       "removedWidgets": [],
       "schema": [
        {
         "metadata": "{}",
         "name": "count",
         "type": "\"string\""
        }
       ],
       "type": "table"
      }
     },
     "output_type": "display_data"
    }
   ],
   "source": [
    "%sql select format_number(count(1), 0) as count from building_50k"
   ]
  },
  {
   "cell_type": "code",
   "execution_count": 0,
   "metadata": {
    "application/vnd.databricks.v1+cell": {
     "cellMetadata": {
      "byteLimit": 2048000,
      "implicitDf": true,
      "rowLimit": 10000
     },
     "inputWidgets": {},
     "nuid": "1868cd58-c401-41df-86dc-8700bffce9d7",
     "showTitle": false,
     "title": ""
    }
   },
   "outputs": [
    {
     "output_type": "display_data",
     "data": {
      "text/html": [
       "<style scoped>\n",
       "  .table-result-container {\n",
       "    max-height: 300px;\n",
       "    overflow: auto;\n",
       "  }\n",
       "  table, th, td {\n",
       "    border: 1px solid black;\n",
       "    border-collapse: collapse;\n",
       "  }\n",
       "  th, td {\n",
       "    padding: 5px;\n",
       "  }\n",
       "  th {\n",
       "    text-align: left;\n",
       "  }\n",
       "</style><div class='table-result-container'><table class='table-result'><thead style='background-color: white'><tr><th>base_bbl</th><th>bin</th><th>cnstrct_yr</th><th>doitt_id</th><th>feat_code</th><th>geomsource</th><th>globalid</th><th>groundelev</th><th>heightroof</th><th>lstmoddate</th><th>lststatype</th><th>mpluto_bbl</th><th>name</th><th>shape_area</th><th>shape_len</th><th>geom_wkt</th><th>is_valid</th></tr></thead><tbody><tr><td>4032080004</td><td>4574701</td><td>1925</td><td>1201634</td><td>5110</td><td>Photogramm</td><td>{0493656C-85A1-4943-9061-281C9FEB33BA}</td><td>64</td><td>15.04</td><td>2017-08-17T00:00:00.000</td><td>Constructed</td><td>4032080004</td><td>null</td><td>0.0</td><td>0.0</td><td>MULTIPOLYGON (((-73.8545691983773 40.71240691824138, -73.85450439415116 40.71238320422216, -73.8545268433918 40.712347683085575, -73.85459854980775 40.712373923641536, -73.85457857898825 40.71240552349207, -73.85457167676932 40.712402996941606, -73.8545691983773 40.71240691824138)))</td><td>true</td></tr></tbody></table></div>"
      ]
     },
     "metadata": {
      "application/vnd.databricks.v1+output": {
       "addedWidgets": {},
       "aggData": [],
       "aggError": "",
       "aggOverflow": false,
       "aggSchema": [],
       "aggSeriesLimitReached": false,
       "aggType": "",
       "arguments": {},
       "columnCustomDisplayInfos": {},
       "data": [
        [
         "4032080004",
         "4574701",
         "1925",
         "1201634",
         "5110",
         "Photogramm",
         "{0493656C-85A1-4943-9061-281C9FEB33BA}",
         "64",
         "15.04",
         "2017-08-17T00:00:00.000",
         "Constructed",
         "4032080004",
         null,
         "0.0",
         "0.0",
         "MULTIPOLYGON (((-73.8545691983773 40.71240691824138, -73.85450439415116 40.71238320422216, -73.8545268433918 40.712347683085575, -73.85459854980775 40.712373923641536, -73.85457857898825 40.71240552349207, -73.85457167676932 40.712402996941606, -73.8545691983773 40.71240691824138)))",
         true
        ]
       ],
       "datasetInfos": [],
       "dbfsResultPath": null,
       "isJsonSchema": true,
       "metadata": {},
       "overflow": false,
       "plotOptions": {
        "customPlotOptions": {},
        "displayType": "table",
        "pivotAggregation": null,
        "pivotColumns": null,
        "xColumns": null,
        "yColumns": null
       },
       "removedWidgets": [],
       "schema": [
        {
         "metadata": "{}",
         "name": "base_bbl",
         "type": "\"string\""
        },
        {
         "metadata": "{}",
         "name": "bin",
         "type": "\"string\""
        },
        {
         "metadata": "{}",
         "name": "cnstrct_yr",
         "type": "\"string\""
        },
        {
         "metadata": "{}",
         "name": "doitt_id",
         "type": "\"string\""
        },
        {
         "metadata": "{}",
         "name": "feat_code",
         "type": "\"string\""
        },
        {
         "metadata": "{}",
         "name": "geomsource",
         "type": "\"string\""
        },
        {
         "metadata": "{}",
         "name": "globalid",
         "type": "\"string\""
        },
        {
         "metadata": "{}",
         "name": "groundelev",
         "type": "\"string\""
        },
        {
         "metadata": "{}",
         "name": "heightroof",
         "type": "\"string\""
        },
        {
         "metadata": "{}",
         "name": "lstmoddate",
         "type": "\"string\""
        },
        {
         "metadata": "{}",
         "name": "lststatype",
         "type": "\"string\""
        },
        {
         "metadata": "{}",
         "name": "mpluto_bbl",
         "type": "\"string\""
        },
        {
         "metadata": "{}",
         "name": "name",
         "type": "\"string\""
        },
        {
         "metadata": "{}",
         "name": "shape_area",
         "type": "\"string\""
        },
        {
         "metadata": "{}",
         "name": "shape_len",
         "type": "\"string\""
        },
        {
         "metadata": "{}",
         "name": "geom_wkt",
         "type": "\"string\""
        },
        {
         "metadata": "{}",
         "name": "is_valid",
         "type": "\"boolean\""
        }
       ],
       "type": "table"
      }
     },
     "output_type": "display_data"
    }
   ],
   "source": [
    "%sql select * from building_50k limit 1"
   ]
  },
  {
   "cell_type": "markdown",
   "metadata": {
    "application/vnd.databricks.v1+cell": {
     "cellMetadata": {},
     "inputWidgets": {},
     "nuid": "5815c93b-9e89-458a-9ae3-8623d4ca23e7",
     "showTitle": false,
     "title": ""
    }
   },
   "source": [
    "## Setup NYC Taxi Data (`taxi_trip` | 1M)\n",
    "\n",
    "> This data is available as part of `databricks-datasets` for customer. We are just going to take 1M trips for our purposes.\n",
    "\n",
    "__Will write sample out to Delta Lake__"
   ]
  },
  {
   "cell_type": "code",
   "execution_count": 0,
   "metadata": {
    "application/vnd.databricks.v1+cell": {
     "cellMetadata": {
      "byteLimit": 2048000,
      "rowLimit": 10000
     },
     "inputWidgets": {},
     "nuid": "8025bdfa-d10d-41e5-ba8e-6589e41295cf",
     "showTitle": false,
     "title": ""
    }
   },
   "outputs": [],
   "source": [
    "(\n",
    "  spark.table(\"delta.`/databricks-datasets/nyctaxi/tables/nyctaxi_yellow`\")\n",
    "    .sample(0.001)\n",
    "  .withColumn(\n",
    "    \"pickup_point\", mos.st_aswkt(mos.st_point(F.col(\"pickup_longitude\"), F.col(\"pickup_latitude\")))\n",
    "  )\n",
    "  .withColumn(\n",
    "    \"dropoff_point\", mos.st_aswkt(mos.st_point(F.col(\"dropoff_longitude\"), F.col(\"dropoff_latitude\")))\n",
    "  )\n",
    "  .limit(1_000_000)\n",
    "  .write\n",
    "    .format(\"delta\")\n",
    "    .mode(\"overwrite\")\n",
    "    .saveAsTable(f\"taxi_trip_1m\")\n",
    ")"
   ]
  },
  {
   "cell_type": "code",
   "execution_count": 0,
   "metadata": {
    "application/vnd.databricks.v1+cell": {
     "cellMetadata": {
      "byteLimit": 2048000,
      "implicitDf": true,
      "rowLimit": 10000
     },
     "inputWidgets": {},
     "nuid": "724edd96-e852-485f-8369-234d3aba8dd4",
     "showTitle": false,
     "title": ""
    }
   },
   "outputs": [
    {
     "output_type": "display_data",
     "data": {
      "text/html": [
       "<style scoped>\n",
       "  .table-result-container {\n",
       "    max-height: 300px;\n",
       "    overflow: auto;\n",
       "  }\n",
       "  table, th, td {\n",
       "    border: 1px solid black;\n",
       "    border-collapse: collapse;\n",
       "  }\n",
       "  th, td {\n",
       "    padding: 5px;\n",
       "  }\n",
       "  th {\n",
       "    text-align: left;\n",
       "  }\n",
       "</style><div class='table-result-container'><table class='table-result'><thead style='background-color: white'><tr><th>count</th></tr></thead><tbody><tr><td>1,000,000</td></tr></tbody></table></div>"
      ]
     },
     "metadata": {
      "application/vnd.databricks.v1+output": {
       "addedWidgets": {},
       "aggData": [],
       "aggError": "",
       "aggOverflow": false,
       "aggSchema": [],
       "aggSeriesLimitReached": false,
       "aggType": "",
       "arguments": {},
       "columnCustomDisplayInfos": {},
       "data": [
        [
         "1,000,000"
        ]
       ],
       "datasetInfos": [],
       "dbfsResultPath": null,
       "isJsonSchema": true,
       "metadata": {},
       "overflow": false,
       "plotOptions": {
        "customPlotOptions": {},
        "displayType": "table",
        "pivotAggregation": null,
        "pivotColumns": null,
        "xColumns": null,
        "yColumns": null
       },
       "removedWidgets": [],
       "schema": [
        {
         "metadata": "{}",
         "name": "count",
         "type": "\"string\""
        }
       ],
       "type": "table"
      }
     },
     "output_type": "display_data"
    }
   ],
   "source": [
    "%sql select format_number(count(1), 0) as count from taxi_trip_1m"
   ]
  },
  {
   "cell_type": "code",
   "execution_count": 0,
   "metadata": {
    "application/vnd.databricks.v1+cell": {
     "cellMetadata": {
      "byteLimit": 2048000,
      "implicitDf": true,
      "rowLimit": 10000
     },
     "inputWidgets": {},
     "nuid": "ef9ca8a5-8c77-4b84-8a6a-3d0a3ccae64e",
     "showTitle": false,
     "title": ""
    }
   },
   "outputs": [
    {
     "output_type": "display_data",
     "data": {
      "text/html": [
       "<style scoped>\n",
       "  .table-result-container {\n",
       "    max-height: 300px;\n",
       "    overflow: auto;\n",
       "  }\n",
       "  table, th, td {\n",
       "    border: 1px solid black;\n",
       "    border-collapse: collapse;\n",
       "  }\n",
       "  th, td {\n",
       "    padding: 5px;\n",
       "  }\n",
       "  th {\n",
       "    text-align: left;\n",
       "  }\n",
       "</style><div class='table-result-container'><table class='table-result'><thead style='background-color: white'><tr><th>vendor_id</th><th>pickup_datetime</th><th>dropoff_datetime</th><th>passenger_count</th><th>trip_distance</th><th>pickup_longitude</th><th>pickup_latitude</th><th>rate_code_id</th><th>store_and_fwd_flag</th><th>dropoff_longitude</th><th>dropoff_latitude</th><th>payment_type</th><th>fare_amount</th><th>extra</th><th>mta_tax</th><th>tip_amount</th><th>tolls_amount</th><th>total_amount</th><th>pickup_point</th><th>dropoff_point</th></tr></thead><tbody><tr><td>VTS</td><td>2009-11-29T03:24:00.000+0000</td><td>2009-11-29T03:39:00.000+0000</td><td>1</td><td>5.2</td><td>-73.988922</td><td>40.722</td><td>null</td><td>null</td><td>-73.950422</td><td>40.7836</td><td>CASH</td><td>14.1</td><td>0.5</td><td>0.5</td><td>0.0</td><td>0.0</td><td>15.1</td><td>POINT (-73.988922 40.722)</td><td>POINT (-73.950422 40.7836)</td></tr><tr><td>VTS</td><td>2009-11-15T01:03:00.000+0000</td><td>2009-11-15T01:14:00.000+0000</td><td>1</td><td>2.75</td><td>-74.008792</td><td>40.708683</td><td>null</td><td>null</td><td>-73.990708</td><td>40.732917</td><td>CASH</td><td>8.9</td><td>0.5</td><td>0.5</td><td>0.0</td><td>0.0</td><td>9.9</td><td>POINT (-74.008792 40.708683)</td><td>POINT (-73.990708 40.732917)</td></tr><tr><td>VTS</td><td>2009-11-18T18:44:00.000+0000</td><td>2009-11-18T19:04:00.000+0000</td><td>1</td><td>3.81</td><td>-74.009375</td><td>40.712577</td><td>null</td><td>null</td><td>-73.981435</td><td>40.760865</td><td>CASH</td><td>12.5</td><td>1.0</td><td>0.5</td><td>0.0</td><td>0.0</td><td>14.0</td><td>POINT (-74.009375 40.712577)</td><td>POINT (-73.981435 40.760865)</td></tr><tr><td>CMT</td><td>2009-11-04T22:53:38.000+0000</td><td>2009-11-04T23:04:20.000+0000</td><td>1</td><td>2.9</td><td>-73.997424</td><td>40.721479</td><td>null</td><td>0</td><td>-73.974953</td><td>40.758131</td><td>Cash</td><td>9.3</td><td>0.5</td><td>0.5</td><td>0.0</td><td>0.0</td><td>10.3</td><td>POINT (-73.997424 40.721479)</td><td>POINT (-73.974953 40.758131)</td></tr><tr><td>CMT</td><td>2009-11-29T00:52:18.000+0000</td><td>2009-11-29T01:05:12.000+0000</td><td>1</td><td>3.9</td><td>-73.99881</td><td>40.734645</td><td>null</td><td>0</td><td>-73.987929</td><td>40.779451</td><td>Cash</td><td>11.3</td><td>0.5</td><td>0.5</td><td>0.0</td><td>0.0</td><td>12.3</td><td>POINT (-73.99881 40.734645)</td><td>POINT (-73.987929 40.779451)</td></tr></tbody></table></div>"
      ]
     },
     "metadata": {
      "application/vnd.databricks.v1+output": {
       "addedWidgets": {},
       "aggData": [],
       "aggError": "",
       "aggOverflow": false,
       "aggSchema": [],
       "aggSeriesLimitReached": false,
       "aggType": "",
       "arguments": {},
       "columnCustomDisplayInfos": {},
       "data": [
        [
         "VTS",
         "2009-11-29T03:24:00.000+0000",
         "2009-11-29T03:39:00.000+0000",
         1,
         5.2,
         -73.988922,
         40.722,
         null,
         null,
         -73.950422,
         40.7836,
         "CASH",
         14.1,
         0.5,
         0.5,
         0.0,
         0.0,
         15.1,
         "POINT (-73.988922 40.722)",
         "POINT (-73.950422 40.7836)"
        ],
        [
         "VTS",
         "2009-11-15T01:03:00.000+0000",
         "2009-11-15T01:14:00.000+0000",
         1,
         2.75,
         -74.008792,
         40.708683,
         null,
         null,
         -73.990708,
         40.732917,
         "CASH",
         8.9,
         0.5,
         0.5,
         0.0,
         0.0,
         9.9,
         "POINT (-74.008792 40.708683)",
         "POINT (-73.990708 40.732917)"
        ],
        [
         "VTS",
         "2009-11-18T18:44:00.000+0000",
         "2009-11-18T19:04:00.000+0000",
         1,
         3.81,
         -74.009375,
         40.712577,
         null,
         null,
         -73.981435,
         40.760865,
         "CASH",
         12.5,
         1.0,
         0.5,
         0.0,
         0.0,
         14.0,
         "POINT (-74.009375 40.712577)",
         "POINT (-73.981435 40.760865)"
        ],
        [
         "CMT",
         "2009-11-04T22:53:38.000+0000",
         "2009-11-04T23:04:20.000+0000",
         1,
         2.9,
         -73.997424,
         40.721479,
         null,
         "0",
         -73.974953,
         40.758131,
         "Cash",
         9.3,
         0.5,
         0.5,
         0.0,
         0.0,
         10.3,
         "POINT (-73.997424 40.721479)",
         "POINT (-73.974953 40.758131)"
        ],
        [
         "CMT",
         "2009-11-29T00:52:18.000+0000",
         "2009-11-29T01:05:12.000+0000",
         1,
         3.9,
         -73.99881,
         40.734645,
         null,
         "0",
         -73.987929,
         40.779451,
         "Cash",
         11.3,
         0.5,
         0.5,
         0.0,
         0.0,
         12.3,
         "POINT (-73.99881 40.734645)",
         "POINT (-73.987929 40.779451)"
        ]
       ],
       "datasetInfos": [],
       "dbfsResultPath": null,
       "isJsonSchema": true,
       "metadata": {},
       "overflow": false,
       "plotOptions": {
        "customPlotOptions": {},
        "displayType": "table",
        "pivotAggregation": null,
        "pivotColumns": null,
        "xColumns": null,
        "yColumns": null
       },
       "removedWidgets": [],
       "schema": [
        {
         "metadata": "{}",
         "name": "vendor_id",
         "type": "\"string\""
        },
        {
         "metadata": "{}",
         "name": "pickup_datetime",
         "type": "\"timestamp\""
        },
        {
         "metadata": "{}",
         "name": "dropoff_datetime",
         "type": "\"timestamp\""
        },
        {
         "metadata": "{}",
         "name": "passenger_count",
         "type": "\"integer\""
        },
        {
         "metadata": "{}",
         "name": "trip_distance",
         "type": "\"double\""
        },
        {
         "metadata": "{}",
         "name": "pickup_longitude",
         "type": "\"double\""
        },
        {
         "metadata": "{}",
         "name": "pickup_latitude",
         "type": "\"double\""
        },
        {
         "metadata": "{}",
         "name": "rate_code_id",
         "type": "\"integer\""
        },
        {
         "metadata": "{}",
         "name": "store_and_fwd_flag",
         "type": "\"string\""
        },
        {
         "metadata": "{}",
         "name": "dropoff_longitude",
         "type": "\"double\""
        },
        {
         "metadata": "{}",
         "name": "dropoff_latitude",
         "type": "\"double\""
        },
        {
         "metadata": "{}",
         "name": "payment_type",
         "type": "\"string\""
        },
        {
         "metadata": "{}",
         "name": "fare_amount",
         "type": "\"double\""
        },
        {
         "metadata": "{}",
         "name": "extra",
         "type": "\"double\""
        },
        {
         "metadata": "{}",
         "name": "mta_tax",
         "type": "\"double\""
        },
        {
         "metadata": "{}",
         "name": "tip_amount",
         "type": "\"double\""
        },
        {
         "metadata": "{}",
         "name": "tolls_amount",
         "type": "\"double\""
        },
        {
         "metadata": "{}",
         "name": "total_amount",
         "type": "\"double\""
        },
        {
         "metadata": "{}",
         "name": "pickup_point",
         "type": "\"string\""
        },
        {
         "metadata": "{}",
         "name": "dropoff_point",
         "type": "\"string\""
        }
       ],
       "type": "table"
      }
     },
     "output_type": "display_data"
    }
   ],
   "source": [
    "%sql select * from taxi_trip_1m limit 5"
   ]
  },
  {
   "cell_type": "markdown",
   "metadata": {
    "application/vnd.databricks.v1+cell": {
     "cellMetadata": {},
     "inputWidgets": {},
     "nuid": "2e3912f0-89af-4454-a8fd-44489e6c3736",
     "showTitle": false,
     "title": ""
    }
   },
   "source": [
    "## Verify"
   ]
  },
  {
   "cell_type": "code",
   "execution_count": 0,
   "metadata": {
    "application/vnd.databricks.v1+cell": {
     "cellMetadata": {
      "byteLimit": 2048000,
      "implicitDf": true,
      "rowLimit": 10000
     },
     "inputWidgets": {},
     "nuid": "100931ad-f0b2-4e11-a6cc-01a87652c28a",
     "showTitle": false,
     "title": ""
    }
   },
   "outputs": [
    {
     "output_type": "display_data",
     "data": {
      "text/html": [
       "<style scoped>\n",
       "  .table-result-container {\n",
       "    max-height: 300px;\n",
       "    overflow: auto;\n",
       "  }\n",
       "  table, th, td {\n",
       "    border: 1px solid black;\n",
       "    border-collapse: collapse;\n",
       "  }\n",
       "  th, td {\n",
       "    padding: 5px;\n",
       "  }\n",
       "  th {\n",
       "    text-align: left;\n",
       "  }\n",
       "</style><div class='table-result-container'><table class='table-result'><thead style='background-color: white'><tr><th>database</th><th>tableName</th><th>isTemporary</th></tr></thead><tbody><tr><td>mosaic_spatial_knn</td><td>building_50k</td><td>false</td></tr><tr><td>mosaic_spatial_knn</td><td>taxi_trip_1m</td><td>false</td></tr></tbody></table></div>"
      ]
     },
     "metadata": {
      "application/vnd.databricks.v1+output": {
       "addedWidgets": {},
       "aggData": [],
       "aggError": "",
       "aggOverflow": false,
       "aggSchema": [],
       "aggSeriesLimitReached": false,
       "aggType": "",
       "arguments": {},
       "columnCustomDisplayInfos": {},
       "data": [
        [
         "mosaic_spatial_knn",
         "building_50k",
         false
        ],
        [
         "mosaic_spatial_knn",
         "taxi_trip_1m",
         false
        ]
       ],
       "datasetInfos": [],
       "dbfsResultPath": null,
       "isJsonSchema": true,
       "metadata": {},
       "overflow": false,
       "plotOptions": {
        "customPlotOptions": {},
        "displayType": "table",
        "pivotAggregation": null,
        "pivotColumns": null,
        "xColumns": null,
        "yColumns": null
       },
       "removedWidgets": [],
       "schema": [
        {
         "metadata": "{}",
         "name": "database",
         "type": "\"string\""
        },
        {
         "metadata": "{}",
         "name": "tableName",
         "type": "\"string\""
        },
        {
         "metadata": "{}",
         "name": "isTemporary",
         "type": "\"boolean\""
        }
       ],
       "type": "table"
      }
     },
     "output_type": "display_data"
    }
   ],
   "source": [
    "%sql show tables from mosaic_spatial_knn"
   ]
  },
  {
   "cell_type": "code",
   "execution_count": 0,
   "metadata": {
    "application/vnd.databricks.v1+cell": {
     "cellMetadata": {
      "byteLimit": 2048000,
      "implicitDf": true,
      "rowLimit": 10000
     },
     "inputWidgets": {},
     "nuid": "da89da17-dbdf-4e4c-9729-b1b557f77e60",
     "showTitle": false,
     "title": ""
    }
   },
   "outputs": [
    {
     "output_type": "display_data",
     "data": {
      "text/html": [
       "<style scoped>\n",
       "  .table-result-container {\n",
       "    max-height: 300px;\n",
       "    overflow: auto;\n",
       "  }\n",
       "  table, th, td {\n",
       "    border: 1px solid black;\n",
       "    border-collapse: collapse;\n",
       "  }\n",
       "  th, td {\n",
       "    padding: 5px;\n",
       "  }\n",
       "  th {\n",
       "    text-align: left;\n",
       "  }\n",
       "</style><div class='table-result-container'><table class='table-result'><thead style='background-color: white'><tr><th>col_name</th><th>data_type</th><th>comment</th></tr></thead><tbody><tr><td>base_bbl</td><td>string</td><td>null</td></tr><tr><td>bin</td><td>string</td><td>null</td></tr><tr><td>cnstrct_yr</td><td>string</td><td>null</td></tr><tr><td>doitt_id</td><td>string</td><td>null</td></tr><tr><td>feat_code</td><td>string</td><td>null</td></tr><tr><td>geomsource</td><td>string</td><td>null</td></tr><tr><td>globalid</td><td>string</td><td>null</td></tr><tr><td>groundelev</td><td>string</td><td>null</td></tr><tr><td>heightroof</td><td>string</td><td>null</td></tr><tr><td>lstmoddate</td><td>string</td><td>null</td></tr><tr><td>lststatype</td><td>string</td><td>null</td></tr><tr><td>mpluto_bbl</td><td>string</td><td>null</td></tr><tr><td>name</td><td>string</td><td>null</td></tr><tr><td>shape_area</td><td>string</td><td>null</td></tr><tr><td>shape_len</td><td>string</td><td>null</td></tr><tr><td>geom_wkt</td><td>string</td><td>null</td></tr><tr><td>is_valid</td><td>boolean</td><td>null</td></tr><tr><td></td><td></td><td></td></tr><tr><td># Detailed Table Information</td><td></td><td></td></tr><tr><td>Catalog</td><td>mjohns</td><td></td></tr><tr><td>Database</td><td>mosaic_spatial_knn</td><td></td></tr><tr><td>Table</td><td>building_50k</td><td></td></tr><tr><td>Created Time</td><td>Mon Nov 27 16:50:40 UTC 2023</td><td></td></tr><tr><td>Last Access</td><td>UNKNOWN</td><td></td></tr><tr><td>Created By</td><td>Spark </td><td></td></tr><tr><td>Type</td><td>MANAGED</td><td></td></tr><tr><td>Location</td><td>s3://databricks-e2demofieldengwest/b169b504-4c54-49f2-bc3a-adf4b128f36d/tables/e9b1c374-ff02-4adf-8a7b-9be9f53ea1aa</td><td></td></tr><tr><td>Provider</td><td>delta</td><td></td></tr><tr><td>Owner</td><td>mjohns@databricks.com</td><td></td></tr><tr><td>Is_managed_location</td><td>true</td><td></td></tr><tr><td>Predictive Optimization</td><td>ENABLE (inherited from METASTORE unity-catalog-demo)</td><td></td></tr><tr><td>Table Properties</td><td>[delta.minReaderVersion=1,delta.minWriterVersion=2]</td><td></td></tr></tbody></table></div>"
      ]
     },
     "metadata": {
      "application/vnd.databricks.v1+output": {
       "addedWidgets": {},
       "aggData": [],
       "aggError": "",
       "aggOverflow": false,
       "aggSchema": [],
       "aggSeriesLimitReached": false,
       "aggType": "",
       "arguments": {},
       "columnCustomDisplayInfos": {},
       "data": [
        [
         "base_bbl",
         "string",
         null
        ],
        [
         "bin",
         "string",
         null
        ],
        [
         "cnstrct_yr",
         "string",
         null
        ],
        [
         "doitt_id",
         "string",
         null
        ],
        [
         "feat_code",
         "string",
         null
        ],
        [
         "geomsource",
         "string",
         null
        ],
        [
         "globalid",
         "string",
         null
        ],
        [
         "groundelev",
         "string",
         null
        ],
        [
         "heightroof",
         "string",
         null
        ],
        [
         "lstmoddate",
         "string",
         null
        ],
        [
         "lststatype",
         "string",
         null
        ],
        [
         "mpluto_bbl",
         "string",
         null
        ],
        [
         "name",
         "string",
         null
        ],
        [
         "shape_area",
         "string",
         null
        ],
        [
         "shape_len",
         "string",
         null
        ],
        [
         "geom_wkt",
         "string",
         null
        ],
        [
         "is_valid",
         "boolean",
         null
        ],
        [
         "",
         "",
         ""
        ],
        [
         "# Detailed Table Information",
         "",
         ""
        ],
        [
         "Catalog",
         "mjohns",
         ""
        ],
        [
         "Database",
         "mosaic_spatial_knn",
         ""
        ],
        [
         "Table",
         "building_50k",
         ""
        ],
        [
         "Created Time",
         "Mon Nov 27 16:50:40 UTC 2023",
         ""
        ],
        [
         "Last Access",
         "UNKNOWN",
         ""
        ],
        [
         "Created By",
         "Spark ",
         ""
        ],
        [
         "Type",
         "MANAGED",
         ""
        ],
        [
         "Location",
         "s3://databricks-e2demofieldengwest/b169b504-4c54-49f2-bc3a-adf4b128f36d/tables/e9b1c374-ff02-4adf-8a7b-9be9f53ea1aa",
         ""
        ],
        [
         "Provider",
         "delta",
         ""
        ],
        [
         "Owner",
         "mjohns@databricks.com",
         ""
        ],
        [
         "Is_managed_location",
         "true",
         ""
        ],
        [
         "Predictive Optimization",
         "ENABLE (inherited from METASTORE unity-catalog-demo)",
         ""
        ],
        [
         "Table Properties",
         "[delta.minReaderVersion=1,delta.minWriterVersion=2]",
         ""
        ]
       ],
       "datasetInfos": [],
       "dbfsResultPath": null,
       "isJsonSchema": true,
       "metadata": {},
       "overflow": false,
       "plotOptions": {
        "customPlotOptions": {},
        "displayType": "table",
        "pivotAggregation": null,
        "pivotColumns": null,
        "xColumns": null,
        "yColumns": null
       },
       "removedWidgets": [],
       "schema": [
        {
         "metadata": "{\"comment\":\"name of the column\"}",
         "name": "col_name",
         "type": "\"string\""
        },
        {
         "metadata": "{\"comment\":\"data type of the column\"}",
         "name": "data_type",
         "type": "\"string\""
        },
        {
         "metadata": "{\"comment\":\"comment of the column\"}",
         "name": "comment",
         "type": "\"string\""
        }
       ],
       "type": "table"
      }
     },
     "output_type": "display_data"
    }
   ],
   "source": [
    "%sql \n",
    "-- notice this is a managed table (see 'Location' col_name)\n",
    "describe table extended building_50k"
   ]
  },
  {
   "cell_type": "code",
   "execution_count": 0,
   "metadata": {
    "application/vnd.databricks.v1+cell": {
     "cellMetadata": {
      "byteLimit": 2048000,
      "implicitDf": true,
      "rowLimit": 10000
     },
     "inputWidgets": {},
     "nuid": "20012234-f169-4f80-b613-4418defb56da",
     "showTitle": false,
     "title": ""
    }
   },
   "outputs": [
    {
     "output_type": "display_data",
     "data": {
      "text/html": [
       "<style scoped>\n",
       "  .table-result-container {\n",
       "    max-height: 300px;\n",
       "    overflow: auto;\n",
       "  }\n",
       "  table, th, td {\n",
       "    border: 1px solid black;\n",
       "    border-collapse: collapse;\n",
       "  }\n",
       "  th, td {\n",
       "    padding: 5px;\n",
       "  }\n",
       "  th {\n",
       "    text-align: left;\n",
       "  }\n",
       "</style><div class='table-result-container'><table class='table-result'><thead style='background-color: white'><tr><th>col_name</th><th>data_type</th><th>comment</th></tr></thead><tbody><tr><td>vendor_id</td><td>string</td><td>null</td></tr><tr><td>pickup_datetime</td><td>timestamp</td><td>null</td></tr><tr><td>dropoff_datetime</td><td>timestamp</td><td>null</td></tr><tr><td>passenger_count</td><td>int</td><td>null</td></tr><tr><td>trip_distance</td><td>double</td><td>null</td></tr><tr><td>pickup_longitude</td><td>double</td><td>null</td></tr><tr><td>pickup_latitude</td><td>double</td><td>null</td></tr><tr><td>rate_code_id</td><td>int</td><td>null</td></tr><tr><td>store_and_fwd_flag</td><td>string</td><td>null</td></tr><tr><td>dropoff_longitude</td><td>double</td><td>null</td></tr><tr><td>dropoff_latitude</td><td>double</td><td>null</td></tr><tr><td>payment_type</td><td>string</td><td>null</td></tr><tr><td>fare_amount</td><td>double</td><td>null</td></tr><tr><td>extra</td><td>double</td><td>null</td></tr><tr><td>mta_tax</td><td>double</td><td>null</td></tr><tr><td>tip_amount</td><td>double</td><td>null</td></tr><tr><td>tolls_amount</td><td>double</td><td>null</td></tr><tr><td>total_amount</td><td>double</td><td>null</td></tr><tr><td>pickup_point</td><td>string</td><td>null</td></tr><tr><td>dropoff_point</td><td>string</td><td>null</td></tr><tr><td></td><td></td><td></td></tr><tr><td># Detailed Table Information</td><td></td><td></td></tr><tr><td>Catalog</td><td>mjohns</td><td></td></tr><tr><td>Database</td><td>mosaic_spatial_knn</td><td></td></tr><tr><td>Table</td><td>taxi_trip_1m</td><td></td></tr><tr><td>Created Time</td><td>Mon Nov 27 16:54:48 UTC 2023</td><td></td></tr><tr><td>Last Access</td><td>UNKNOWN</td><td></td></tr><tr><td>Created By</td><td>Spark </td><td></td></tr><tr><td>Type</td><td>MANAGED</td><td></td></tr><tr><td>Location</td><td>s3://databricks-e2demofieldengwest/b169b504-4c54-49f2-bc3a-adf4b128f36d/tables/ffbbebe2-8d1d-4c17-973f-5c00fdcb4faf</td><td></td></tr><tr><td>Provider</td><td>delta</td><td></td></tr><tr><td>Owner</td><td>mjohns@databricks.com</td><td></td></tr><tr><td>Is_managed_location</td><td>true</td><td></td></tr><tr><td>Predictive Optimization</td><td>ENABLE (inherited from METASTORE unity-catalog-demo)</td><td></td></tr><tr><td>Table Properties</td><td>[delta.minReaderVersion=1,delta.minWriterVersion=2]</td><td></td></tr></tbody></table></div>"
      ]
     },
     "metadata": {
      "application/vnd.databricks.v1+output": {
       "addedWidgets": {},
       "aggData": [],
       "aggError": "",
       "aggOverflow": false,
       "aggSchema": [],
       "aggSeriesLimitReached": false,
       "aggType": "",
       "arguments": {},
       "columnCustomDisplayInfos": {},
       "data": [
        [
         "vendor_id",
         "string",
         null
        ],
        [
         "pickup_datetime",
         "timestamp",
         null
        ],
        [
         "dropoff_datetime",
         "timestamp",
         null
        ],
        [
         "passenger_count",
         "int",
         null
        ],
        [
         "trip_distance",
         "double",
         null
        ],
        [
         "pickup_longitude",
         "double",
         null
        ],
        [
         "pickup_latitude",
         "double",
         null
        ],
        [
         "rate_code_id",
         "int",
         null
        ],
        [
         "store_and_fwd_flag",
         "string",
         null
        ],
        [
         "dropoff_longitude",
         "double",
         null
        ],
        [
         "dropoff_latitude",
         "double",
         null
        ],
        [
         "payment_type",
         "string",
         null
        ],
        [
         "fare_amount",
         "double",
         null
        ],
        [
         "extra",
         "double",
         null
        ],
        [
         "mta_tax",
         "double",
         null
        ],
        [
         "tip_amount",
         "double",
         null
        ],
        [
         "tolls_amount",
         "double",
         null
        ],
        [
         "total_amount",
         "double",
         null
        ],
        [
         "pickup_point",
         "string",
         null
        ],
        [
         "dropoff_point",
         "string",
         null
        ],
        [
         "",
         "",
         ""
        ],
        [
         "# Detailed Table Information",
         "",
         ""
        ],
        [
         "Catalog",
         "mjohns",
         ""
        ],
        [
         "Database",
         "mosaic_spatial_knn",
         ""
        ],
        [
         "Table",
         "taxi_trip_1m",
         ""
        ],
        [
         "Created Time",
         "Mon Nov 27 16:54:48 UTC 2023",
         ""
        ],
        [
         "Last Access",
         "UNKNOWN",
         ""
        ],
        [
         "Created By",
         "Spark ",
         ""
        ],
        [
         "Type",
         "MANAGED",
         ""
        ],
        [
         "Location",
         "s3://databricks-e2demofieldengwest/b169b504-4c54-49f2-bc3a-adf4b128f36d/tables/ffbbebe2-8d1d-4c17-973f-5c00fdcb4faf",
         ""
        ],
        [
         "Provider",
         "delta",
         ""
        ],
        [
         "Owner",
         "mjohns@databricks.com",
         ""
        ],
        [
         "Is_managed_location",
         "true",
         ""
        ],
        [
         "Predictive Optimization",
         "ENABLE (inherited from METASTORE unity-catalog-demo)",
         ""
        ],
        [
         "Table Properties",
         "[delta.minReaderVersion=1,delta.minWriterVersion=2]",
         ""
        ]
       ],
       "datasetInfos": [],
       "dbfsResultPath": null,
       "isJsonSchema": true,
       "metadata": {},
       "overflow": false,
       "plotOptions": {
        "customPlotOptions": {},
        "displayType": "table",
        "pivotAggregation": null,
        "pivotColumns": null,
        "xColumns": null,
        "yColumns": null
       },
       "removedWidgets": [],
       "schema": [
        {
         "metadata": "{\"comment\":\"name of the column\"}",
         "name": "col_name",
         "type": "\"string\""
        },
        {
         "metadata": "{\"comment\":\"data type of the column\"}",
         "name": "data_type",
         "type": "\"string\""
        },
        {
         "metadata": "{\"comment\":\"comment of the column\"}",
         "name": "comment",
         "type": "\"string\""
        }
       ],
       "type": "table"
      }
     },
     "output_type": "display_data"
    }
   ],
   "source": [
    "%sql \n",
    "-- notice this is a managed table (see 'Location' col_name)\n",
    "describe table extended taxi_trip_1m"
   ]
  },
  {
   "cell_type": "markdown",
   "metadata": {
    "application/vnd.databricks.v1+cell": {
     "cellMetadata": {},
     "inputWidgets": {},
     "nuid": "e68d70ce-31d0-45bc-99a2-91b46f8ed7c9",
     "showTitle": false,
     "title": ""
    }
   },
   "source": [
    "## Optional: Clean up initial GeoJSON\n",
    "\n",
    "> Now that the building data (sample) is in Delta Lake, we don't need it."
   ]
  },
  {
   "cell_type": "code",
   "execution_count": 0,
   "metadata": {
    "application/vnd.databricks.v1+cell": {
     "cellMetadata": {
      "byteLimit": 2048000,
      "rowLimit": 10000
     },
     "inputWidgets": {},
     "nuid": "c1b003da-e31f-4a47-91a8-cb473ff566c4",
     "showTitle": false,
     "title": ""
    }
   },
   "outputs": [
    {
     "output_type": "display_data",
     "data": {
      "text/html": [
       "<style scoped>\n",
       "  .table-result-container {\n",
       "    max-height: 300px;\n",
       "    overflow: auto;\n",
       "  }\n",
       "  table, th, td {\n",
       "    border: 1px solid black;\n",
       "    border-collapse: collapse;\n",
       "  }\n",
       "  th, td {\n",
       "    padding: 5px;\n",
       "  }\n",
       "  th {\n",
       "    text-align: left;\n",
       "  }\n",
       "</style><div class='table-result-container'><table class='table-result'><thead style='background-color: white'><tr><th>path</th><th>name</th><th>size</th><th>modificationTime</th></tr></thead><tbody><tr><td>dbfs:/mjohns@databricks.com/geospatial/mosaic/data/spatial_knn/nyc_building_footprints.geojson</td><td>nyc_building_footprints.geojson</td><td>875673536</td><td>1701103503000</td></tr></tbody></table></div>"
      ]
     },
     "metadata": {
      "application/vnd.databricks.v1+output": {
       "addedWidgets": {},
       "aggData": [],
       "aggError": "",
       "aggOverflow": false,
       "aggSchema": [],
       "aggSeriesLimitReached": false,
       "aggType": "",
       "arguments": {},
       "columnCustomDisplayInfos": {},
       "data": [
        [
         "dbfs:/mjohns@databricks.com/geospatial/mosaic/data/spatial_knn/nyc_building_footprints.geojson",
         "nyc_building_footprints.geojson",
         875673536,
         1701103503000
        ]
       ],
       "datasetInfos": [],
       "dbfsResultPath": null,
       "isJsonSchema": true,
       "metadata": {},
       "overflow": false,
       "plotOptions": {
        "customPlotOptions": {},
        "displayType": "table",
        "pivotAggregation": null,
        "pivotColumns": null,
        "xColumns": null,
        "yColumns": null
       },
       "removedWidgets": [],
       "schema": [
        {
         "metadata": "{}",
         "name": "path",
         "type": "\"string\""
        },
        {
         "metadata": "{}",
         "name": "name",
         "type": "\"string\""
        },
        {
         "metadata": "{}",
         "name": "size",
         "type": "\"long\""
        },
        {
         "metadata": "{}",
         "name": "modificationTime",
         "type": "\"long\""
        }
       ],
       "type": "table"
      }
     },
     "output_type": "display_data"
    }
   ],
   "source": [
    "display(dbutils.fs.ls(raw_path))"
   ]
  },
  {
   "cell_type": "code",
   "execution_count": 0,
   "metadata": {
    "application/vnd.databricks.v1+cell": {
     "cellMetadata": {},
     "inputWidgets": {},
     "nuid": "49f5ac2a-4ed0-48bb-9e84-3d32755ab4c5",
     "showTitle": false,
     "title": ""
    }
   },
   "outputs": [],
   "source": [
    "# -- uncomment to remove geojson file --\n",
    "# dbutils.fs.rm(f\"{raw_path}/{building_filename}\")"
   ]
  }
 ],
 "metadata": {
  "application/vnd.databricks.v1+notebook": {
   "dashboards": [],
   "language": "python",
   "notebookMetadata": {
    "mostRecentlyExecutedCommandWithImplicitDF": {
     "commandId": 85549842133948,
     "dataframes": [
      "_sqldf"
     ]
    },
    "pythonIndentUnit": 2
   },
   "notebookName": "01. Data Prep",
   "widgets": {}
  }
 },
 "nbformat": 4,
 "nbformat_minor": 0
}
