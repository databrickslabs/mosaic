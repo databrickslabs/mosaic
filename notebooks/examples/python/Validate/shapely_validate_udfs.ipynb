{
 "cells": [
  {
   "cell_type": "markdown",
   "metadata": {
    "application/vnd.databricks.v1+cell": {
     "cellMetadata": {},
     "inputWidgets": {},
     "nuid": "89a84928-6a2b-4aaa-b7b1-c2e011199bfb",
     "showTitle": false,
     "title": ""
    }
   },
   "source": [
    "# Shapely Validate Example \n",
    "\n",
    "> Parallel handling of of a mixture of valid and invalid geometries using [regular](https://spark.apache.org/docs/latest/api/python/reference/pyspark.sql/api/pyspark.sql.functions.udf.html?highlight=udf#pyspark.sql.functions.udf) and [vectorized pandas](https://spark.apache.org/docs/latest/api/python/reference/pyspark.sql/api/pyspark.sql.functions.pandas_udf.html?highlight=pandas%20udf#pyspark.sql.functions.pandas_udf) UDFs.\n",
    "\n",
    "__Libraries__\n",
    "\n",
    "<p/>\n",
    "\n",
    "* 'databricks-mosaic' (installs geopandas and dependencies as well as keplergl)\n",
    "\n",
    "--- \n",
    " __Last Update__ 22 NOV 2023 [Mosaic 0.3.12]"
   ]
  },
  {
   "cell_type": "markdown",
   "metadata": {
    "application/vnd.databricks.v1+cell": {
     "cellMetadata": {},
     "inputWidgets": {},
     "nuid": "f9812f64-8eff-4888-8d15-85d60aa3464f",
     "showTitle": false,
     "title": ""
    }
   },
   "source": [
    "## Setup"
   ]
  },
  {
   "cell_type": "markdown",
   "metadata": {
    "application/vnd.databricks.v1+cell": {
     "cellMetadata": {},
     "inputWidgets": {},
     "nuid": "6cc73475-225a-4f32-8ddc-93c564095776",
     "showTitle": false,
     "title": ""
    }
   },
   "source": [
    "### Imports"
   ]
  },
  {
   "cell_type": "code",
   "execution_count": 0,
   "metadata": {
    "application/vnd.databricks.v1+cell": {
     "cellMetadata": {
      "byteLimit": 2048000,
      "rowLimit": 10000
     },
     "inputWidgets": {},
     "nuid": "97b74931-0c94-41e6-afa3-b7a3236ecce2",
     "showTitle": false,
     "title": ""
    }
   },
   "outputs": [
    {
     "output_type": "stream",
     "name": "stdout",
     "output_type": "stream",
     "text": [
      "Python interpreter will be restarted.\nPython interpreter will be restarted.\n"
     ]
    }
   ],
   "source": [
    "%pip install \"databricks-mosaic<0.4,>=0.3\" --quiet # <- Mosaic 0.3 series\n",
    "# %pip install \"databricks-mosaic<0.5,>=0.4\" --quiet # <- Mosaic 0.4 series (as available)"
   ]
  },
  {
   "cell_type": "code",
   "execution_count": 0,
   "metadata": {
    "application/vnd.databricks.v1+cell": {
     "cellMetadata": {
      "byteLimit": 2048000,
      "rowLimit": 10000
     },
     "inputWidgets": {},
     "nuid": "d01ad97d-188a-4ce0-ab7c-28029e77d30b",
     "showTitle": false,
     "title": ""
    }
   },
   "outputs": [],
   "source": [
    "# -- configure AQE for more compute heavy operations\n",
    "#  - choose option-1 or option-2 below, essential for REPARTITION!\n",
    "# spark.conf.set(\"spark.databricks.optimizer.adaptive.enabled\", False) # <- option-1: turn off completely for full control\n",
    "spark.conf.set(\"spark.sql.adaptive.coalescePartitions.enabled\", False) # <- option-2: just tweak partition management\n",
    "spark.conf.set(\"spark.sql.shuffle.partitions\", 10_000)                 # <-- default is 200\n",
    "\n",
    "# -- import databricks + spark functions\n",
    "from pyspark.databricks.sql import functions as dbf\n",
    "from pyspark.sql import functions as F\n",
    "from pyspark.sql.functions import udf, col\n",
    "from pyspark.sql.types import *\n",
    "\n",
    "# -- setup mosaic\n",
    "import mosaic as mos\n",
    "\n",
    "mos.enable_mosaic(spark, dbutils)\n",
    "# mos.enable_gdal(spark) # <- not needed for this example\n",
    "\n",
    "# --other imports\n",
    "import geopandas as gpd\n",
    "import json\n",
    "import matplotlib.pyplot as plt\n",
    "import shapely\n",
    "import warnings\n",
    "\n",
    "warnings.simplefilter(\"ignore\")"
   ]
  },
  {
   "cell_type": "markdown",
   "metadata": {
    "application/vnd.databricks.v1+cell": {
     "cellMetadata": {},
     "inputWidgets": {},
     "nuid": "c9620eaf-3776-4ea4-b5b9-f7da9f164a8f",
     "showTitle": false,
     "title": ""
    }
   },
   "source": [
    "### Data\n",
    "\n",
    "> Generating a dataset with some bad data, adapted from [here](https://github.com/kleunen/boost_geometry_correct).\n",
    "\n",
    "These are the types of issues that can come up with geometries [[1](https://stackoverflow.com/questions/49902090/dataset-of-invalid-geometries-in-boostgeometry)]...\n",
    "\n",
    "```\n",
    "//Hole Outside Shell\n",
    "check(\"POLYGON((0 0, 10 0, 10 10, 0 10, 0 0), (15 15, 15 20, 20 20, 20 15, 15 15))\");\n",
    "//Nested Holes\n",
    "check(\"POLYGON((0 0, 10 0, 10 10, 0 10, 0 0), (2 2, 2 8, 8 8, 8 2, 2 2), (3 3, 3 7, 7 7, 7 3, 3 3))\");\n",
    "//Disconnected Interior\n",
    "check(\"POLYGON((0 0, 10 0, 10 10, 0 10, 0 0), (5 0, 10 5, 5 10, 0 5, 5 0))\");\n",
    "//Self Intersection\n",
    "check(\"POLYGON((0 0, 10 10, 0 10, 10 0, 0 0))\");\n",
    "//Ring Self Intersection\n",
    "check(\"POLYGON((5 0, 10 0, 10 10, 0 10, 0 0, 5 0, 3 3, 5 6, 7 3, 5 0))\");\n",
    "//Nested Shells\n",
    "check<multi>(\"MULTIPOLYGON(((0 0, 10 0, 10 10, 0 10, 0 0)),(( 2 2, 8 2, 8 8, 2 8, 2 2)))\");\n",
    "//Duplicated Rings\n",
    "check<multi>(\"MULTIPOLYGON(((0 0, 10 0, 10 10, 0 10, 0 0)),((0 0, 10 0, 10 10, 0 10, 0 0)))\");\n",
    "//Too Few Points\n",
    "check(\"POLYGON((2 2, 8 2))\");\n",
    "//Invalid Coordinate\n",
    "check(\"POLYGON((NaN 3, 3 4, 4 4, 4 3, 3 3))\");\n",
    "//Ring Not Closed\n",
    "check(\"POLYGON((0 0, 0 10, 10 10, 10 0))\");\n",
    "```"
   ]
  },
  {
   "cell_type": "code",
   "execution_count": 0,
   "metadata": {
    "application/vnd.databricks.v1+cell": {
     "cellMetadata": {
      "byteLimit": 2048000,
      "rowLimit": 10000
     },
     "inputWidgets": {},
     "nuid": "0f9928a2-3172-4240-a4b2-e08a5b15467c",
     "showTitle": false,
     "title": ""
    }
   },
   "outputs": [],
   "source": [
    "test_wkts = []"
   ]
  },
  {
   "cell_type": "markdown",
   "metadata": {
    "application/vnd.databricks.v1+cell": {
     "cellMetadata": {},
     "inputWidgets": {},
     "nuid": "253969cc-ecd7-4e59-b5c5-3ab52d52240a",
     "showTitle": false,
     "title": ""
    }
   },
   "source": [
    "__[1a] Polygon self-intersection__\n",
    "\n",
    "> Exterior xy plot with shapely (to see the lines)."
   ]
  },
  {
   "cell_type": "code",
   "execution_count": 0,
   "metadata": {
    "application/vnd.databricks.v1+cell": {
     "cellMetadata": {
      "byteLimit": 2048000,
      "rowLimit": 10000
     },
     "inputWidgets": {},
     "nuid": "d25d6b19-d6da-49bc-a1cc-b5bb43306984",
     "showTitle": false,
     "title": ""
    }
   },
   "outputs": [],
   "source": [
    "test_wkts.append((1, \"\"\"POLYGON ((5 0, 2.5 9, 9.5 3.5, 0.5 3.5, 7.5 9, 5 0))\"\"\"))"
   ]
  },
  {
   "cell_type": "code",
   "execution_count": 0,
   "metadata": {
    "application/vnd.databricks.v1+cell": {
     "cellMetadata": {
      "byteLimit": 2048000,
      "rowLimit": 10000
     },
     "inputWidgets": {},
     "nuid": "4416db98-d3e2-4548-a761-40745f49c98b",
     "showTitle": false,
     "title": ""
    }
   },
   "outputs": [
    {
     "output_type": "stream",
     "name": "stdout",
     "output_type": "stream",
     "text": [
      "Out[107]: [<matplotlib.lines.Line2D at 0x7f8473f33df0>]"
     ]
    },
    {
     "output_type": "display_data",
     "data": {
      "image/png": "[encoded data removed]"
     },
     "metadata": {
      "application/vnd.databricks.v1+output": {
       "addedWidgets": {},
       "arguments": {},
       "data": "data:image/png;base64,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\n",
       "datasetInfos": [],
       "metadata": {},
       "removedWidgets": [],
       "type": "image"
      }
     },
     "output_type": "display_data"
    }
   ],
   "source": [
    "plt.plot(*shapely.wkt.loads(test_wkts[0][1]).exterior.xy)"
   ]
  },
  {
   "cell_type": "markdown",
   "metadata": {
    "application/vnd.databricks.v1+cell": {
     "cellMetadata": {},
     "inputWidgets": {},
     "nuid": "9ff48a09-e1e8-4a2a-b125-9e88b9aaabb0",
     "showTitle": false,
     "title": ""
    }
   },
   "source": [
    "__[1b] Polygon with hole inside__\n",
    "\n",
    "> Exterior xy plot with shapely (to see the lines)."
   ]
  },
  {
   "cell_type": "code",
   "execution_count": 0,
   "metadata": {
    "application/vnd.databricks.v1+cell": {
     "cellMetadata": {
      "byteLimit": 2048000,
      "rowLimit": 10000
     },
     "inputWidgets": {},
     "nuid": "43ba0913-ea2f-48e0-b381-35f6fbe453fb",
     "showTitle": false,
     "title": ""
    }
   },
   "outputs": [],
   "source": [
    "test_wkts.append((2, \"\"\"POLYGON ((55 10, 141 237, 249 23, 21 171, 252 169, 24 89, 266 73, 55 10))\"\"\"))"
   ]
  },
  {
   "cell_type": "code",
   "execution_count": 0,
   "metadata": {
    "application/vnd.databricks.v1+cell": {
     "cellMetadata": {
      "byteLimit": 2048000,
      "rowLimit": 10000
     },
     "inputWidgets": {},
     "nuid": "3a0264fa-c032-4740-a00f-82592de824bc",
     "showTitle": false,
     "title": ""
    }
   },
   "outputs": [
    {
     "output_type": "stream",
     "name": "stdout",
     "output_type": "stream",
     "text": [
      "Out[108]: [<matplotlib.lines.Line2D at 0x7f8474069700>]"
     ]
    },
    {
     "output_type": "display_data",
     "data": {
      "image/png": "[encoded data removed]"
     },
     "metadata": {
      "application/vnd.databricks.v1+output": {
       "addedWidgets": {},
       "arguments": {},
       "data": "data:image/png;base64,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\n",
       "datasetInfos": [],
       "metadata": {},
       "removedWidgets": [],
       "type": "image"
      }
     },
     "output_type": "display_data"
    }
   ],
   "source": [
    "plt.plot(*shapely.wkt.loads(test_wkts[1][1]).exterior.xy)"
   ]
  },
  {
   "cell_type": "markdown",
   "metadata": {
    "application/vnd.databricks.v1+cell": {
     "cellMetadata": {},
     "inputWidgets": {},
     "nuid": "79eecc6e-ddc8-4223-97d6-5474b5e34d37",
     "showTitle": false,
     "title": ""
    }
   },
   "source": [
    "__[1c] Polygon with multiple intersections at same point__\n",
    "\n",
    "> Exterior xy plot with shapely (to see the lines)."
   ]
  },
  {
   "cell_type": "code",
   "execution_count": 0,
   "metadata": {
    "application/vnd.databricks.v1+cell": {
     "cellMetadata": {
      "byteLimit": 2048000,
      "rowLimit": 10000
     },
     "inputWidgets": {},
     "nuid": "08a50a1d-f9c1-420c-b79b-7983d01bf5c2",
     "showTitle": false,
     "title": ""
    }
   },
   "outputs": [],
   "source": [
    "test_wkts.append((3, \"\"\"POLYGON ((0 0, 10 0, 0 10, 10 10, 0 0, 5 0, 5 10, 0 10, 0 5, 10 5, 10 0, 0 0))\"\"\"))"
   ]
  },
  {
   "cell_type": "code",
   "execution_count": 0,
   "metadata": {
    "application/vnd.databricks.v1+cell": {
     "cellMetadata": {
      "byteLimit": 2048000,
      "rowLimit": 10000
     },
     "inputWidgets": {},
     "nuid": "7eeb16d7-5f2b-44d1-b6b5-36e45d65e9e8",
     "showTitle": false,
     "title": ""
    }
   },
   "outputs": [
    {
     "output_type": "stream",
     "name": "stdout",
     "output_type": "stream",
     "text": [
      "Out[109]: [<matplotlib.lines.Line2D at 0x7f8474120670>]"
     ]
    },
    {
     "output_type": "display_data",
     "data": {
      "image/png": "[encoded data removed]"
     },
     "metadata": {
      "application/vnd.databricks.v1+output": {
       "addedWidgets": {},
       "arguments": {},
       "data": "data:image/png;base64,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\n",
       "datasetInfos": [],
       "metadata": {},
       "removedWidgets": [],
       "type": "image"
      }
     },
     "output_type": "display_data"
    }
   ],
   "source": [
    "plt.plot(*shapely.wkt.loads(test_wkts[2][1]).exterior.xy)"
   ]
  },
  {
   "cell_type": "markdown",
   "metadata": {
    "application/vnd.databricks.v1+cell": {
     "cellMetadata": {},
     "inputWidgets": {},
     "nuid": "ca173a4d-639d-4659-937e-aa3bdb5a8c55",
     "showTitle": false,
     "title": ""
    }
   },
   "source": [
    "__[1d] Valid Polygon__"
   ]
  },
  {
   "cell_type": "code",
   "execution_count": 0,
   "metadata": {
    "application/vnd.databricks.v1+cell": {
     "cellMetadata": {
      "byteLimit": 2048000,
      "rowLimit": 10000
     },
     "inputWidgets": {},
     "nuid": "dc2f019a-d4c1-4a68-94e7-be14e9288ac2",
     "showTitle": false,
     "title": ""
    }
   },
   "outputs": [],
   "source": [
    "test_wkts.append((4, \"\"\"POLYGON (( -84.3641541604937 33.71316821215546, -84.36414611386687 33.71303657522174, -84.36409515189553 33.71303657522174, -84.36410319852232 33.71317267442025, -84.3641541604937 33.71316821215546 ))\"\"\"))"
   ]
  },
  {
   "cell_type": "code",
   "execution_count": 0,
   "metadata": {
    "application/vnd.databricks.v1+cell": {
     "cellMetadata": {
      "byteLimit": 2048000,
      "rowLimit": 10000
     },
     "inputWidgets": {},
     "nuid": "2a7735bb-ff89-4357-8b89-f991776e045a",
     "showTitle": false,
     "title": ""
    }
   },
   "outputs": [
    {
     "output_type": "stream",
     "name": "stdout",
     "output_type": "stream",
     "text": [
      "Out[115]: [<matplotlib.lines.Line2D at 0x7f846ea218e0>]"
     ]
    },
    {
     "output_type": "display_data",
     "data": {
      "image/png": "[encoded data removed]"
     },
     "metadata": {
      "application/vnd.databricks.v1+output": {
       "addedWidgets": {},
       "arguments": {},
       "data": "data:image/png;base64,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\n",
       "datasetInfos": [],
       "metadata": {},
       "removedWidgets": [],
       "type": "image"
      }
     },
     "output_type": "display_data"
    }
   ],
   "source": [
    "plt.plot(*shapely.wkt.loads(test_wkts[3][1]).exterior.xy)"
   ]
  },
  {
   "cell_type": "markdown",
   "metadata": {
    "application/vnd.databricks.v1+cell": {
     "cellMetadata": {},
     "inputWidgets": {},
     "nuid": "c67147a4-505d-4be1-a36d-68d27643e925",
     "showTitle": false,
     "title": ""
    }
   },
   "source": [
    "__[2] Make Spark DataFrame from `test_wkts`__"
   ]
  },
  {
   "cell_type": "code",
   "execution_count": 0,
   "metadata": {
    "application/vnd.databricks.v1+cell": {
     "cellMetadata": {
      "byteLimit": 2048000,
      "rowLimit": 10000
     },
     "inputWidgets": {},
     "nuid": "e65a616e-9abe-4c52-b8f2-06b789188bc8",
     "showTitle": false,
     "title": ""
    }
   },
   "outputs": [
    {
     "output_type": "stream",
     "name": "stdout",
     "output_type": "stream",
     "text": [
      "count? 4\n"
     ]
    },
    {
     "output_type": "display_data",
     "data": {
      "text/html": [
       "<style scoped>\n",
       "  .table-result-container {\n",
       "    max-height: 300px;\n",
       "    overflow: auto;\n",
       "  }\n",
       "  table, th, td {\n",
       "    border: 1px solid black;\n",
       "    border-collapse: collapse;\n",
       "  }\n",
       "  th, td {\n",
       "    padding: 5px;\n",
       "  }\n",
       "  th {\n",
       "    text-align: left;\n",
       "  }\n",
       "</style><div class='table-result-container'><table class='table-result'><thead style='background-color: white'><tr><th>row_id</th><th>geom_wkt</th></tr></thead><tbody><tr><td>1</td><td>POLYGON ((5 0, 2.5 9, 9.5 3.5, 0.5 3.5, 7.5 9, 5 0))</td></tr><tr><td>2</td><td>POLYGON ((55 10, 141 237, 249 23, 21 171, 252 169, 24 89, 266 73, 55 10))</td></tr><tr><td>3</td><td>POLYGON ((0 0, 10 0, 0 10, 10 10, 0 0, 5 0, 5 10, 0 10, 0 5, 10 5, 10 0, 0 0))</td></tr><tr><td>4</td><td>POLYGON (( -84.3641541604937 33.71316821215546, -84.36414611386687 33.71303657522174, -84.36409515189553 33.71303657522174, -84.36410319852232 33.71317267442025, -84.3641541604937 33.71316821215546 ))</td></tr></tbody></table></div>"
      ]
     },
     "metadata": {
      "application/vnd.databricks.v1+output": {
       "addedWidgets": {},
       "aggData": [],
       "aggError": "",
       "aggOverflow": false,
       "aggSchema": [],
       "aggSeriesLimitReached": false,
       "aggType": "",
       "arguments": {},
       "columnCustomDisplayInfos": {},
       "data": [
        [
         1,
         "POLYGON ((5 0, 2.5 9, 9.5 3.5, 0.5 3.5, 7.5 9, 5 0))"
        ],
        [
         2,
         "POLYGON ((55 10, 141 237, 249 23, 21 171, 252 169, 24 89, 266 73, 55 10))"
        ],
        [
         3,
         "POLYGON ((0 0, 10 0, 0 10, 10 10, 0 0, 5 0, 5 10, 0 10, 0 5, 10 5, 10 0, 0 0))"
        ],
        [
         4,
         "POLYGON (( -84.3641541604937 33.71316821215546, -84.36414611386687 33.71303657522174, -84.36409515189553 33.71303657522174, -84.36410319852232 33.71317267442025, -84.3641541604937 33.71316821215546 ))"
        ]
       ],
       "datasetInfos": [],
       "dbfsResultPath": null,
       "isJsonSchema": true,
       "metadata": {},
       "overflow": false,
       "plotOptions": {
        "customPlotOptions": {},
        "displayType": "table",
        "pivotAggregation": null,
        "pivotColumns": null,
        "xColumns": null,
        "yColumns": null
       },
       "removedWidgets": [],
       "schema": [
        {
         "metadata": "{}",
         "name": "row_id",
         "type": "\"long\""
        },
        {
         "metadata": "{}",
         "name": "geom_wkt",
         "type": "\"string\""
        }
       ],
       "type": "table"
      }
     },
     "output_type": "display_data"
    }
   ],
   "source": [
    "df = (\n",
    "  spark\n",
    "    .createDataFrame(test_wkts, schema=['row_id', 'geom_wkt'])\n",
    ")\n",
    "print(f\"count? {df.count():,}\")\n",
    "df.display()"
   ]
  },
  {
   "cell_type": "markdown",
   "metadata": {
    "application/vnd.databricks.v1+cell": {
     "cellMetadata": {},
     "inputWidgets": {},
     "nuid": "ea4d2ea0-1224-41f6-ae5b-72f2c34b9a5b",
     "showTitle": false,
     "title": ""
    }
   },
   "source": [
    "## Regular UDF: Test + Fix Validity\n",
    "\n",
    "> Will use Mosaic to initially test; then only apply UDF to invalids"
   ]
  },
  {
   "cell_type": "markdown",
   "metadata": {
    "application/vnd.databricks.v1+cell": {
     "cellMetadata": {},
     "inputWidgets": {},
     "nuid": "bfdaa108-3c66-404e-ac2a-a6de18cbd5d4",
     "showTitle": false,
     "title": ""
    }
   },
   "source": [
    "### UDFs"
   ]
  },
  {
   "cell_type": "code",
   "execution_count": 0,
   "metadata": {
    "application/vnd.databricks.v1+cell": {
     "cellMetadata": {},
     "inputWidgets": {},
     "nuid": "f99ec990-0629-446c-90ff-447d6496f260",
     "showTitle": false,
     "title": ""
    }
   },
   "outputs": [],
   "source": [
    "@udf(returnType=StringType())\n",
    "def explain_wkt_validity(geom_wkt:str) -> str:\n",
    "    \"\"\"\n",
    "    Add explanation of validity or invalidity\n",
    "    \"\"\"\n",
    "    from shapely import wkt\n",
    "    from shapely.validation import explain_validity\n",
    "\n",
    "    _geom = wkt.loads(geom_wkt)\n",
    "    return explain_validity(_geom)\n",
    "\n",
    "\n",
    "@udf(returnType=StringType())\n",
    "def make_wkt_valid(geom_wkt:str) -> str:\n",
    "    \"\"\"\n",
    "    - test for wkt being valid\n",
    "    - attempts to make valid\n",
    "    - may have to change type, e.g. POLYGON to MULTIPOLYGON\n",
    "     returns valid wkt\n",
    "    \"\"\"\n",
    "    from shapely import wkt \n",
    "    from shapely.validation import make_valid\n",
    "\n",
    "    _geom = wkt.loads(geom_wkt)\n",
    "    if _geom.is_valid:\n",
    "        return geom_wkt\n",
    "    _geom_fix = make_valid(_geom)\n",
    "    return _geom_fix.wkt"
   ]
  },
  {
   "cell_type": "markdown",
   "metadata": {
    "application/vnd.databricks.v1+cell": {
     "cellMetadata": {},
     "inputWidgets": {},
     "nuid": "aad1c6ee-183f-4e74-92bf-07e94ff2c81e",
     "showTitle": false,
     "title": ""
    }
   },
   "source": [
    "### Test Validity"
   ]
  },
  {
   "cell_type": "code",
   "execution_count": 0,
   "metadata": {
    "application/vnd.databricks.v1+cell": {
     "cellMetadata": {
      "byteLimit": 2048000,
      "rowLimit": 10000
     },
     "inputWidgets": {},
     "nuid": "f38c18f1-3248-4c48-ae3f-6872618d168b",
     "showTitle": false,
     "title": ""
    }
   },
   "outputs": [
    {
     "output_type": "display_data",
     "data": {
      "text/html": [
       "<style scoped>\n",
       "  .table-result-container {\n",
       "    max-height: 300px;\n",
       "    overflow: auto;\n",
       "  }\n",
       "  table, th, td {\n",
       "    border: 1px solid black;\n",
       "    border-collapse: collapse;\n",
       "  }\n",
       "  th, td {\n",
       "    padding: 5px;\n",
       "  }\n",
       "  th {\n",
       "    text-align: left;\n",
       "  }\n",
       "</style><div class='table-result-container'><table class='table-result'><thead style='background-color: white'><tr><th>row_id</th><th>geom_wkt</th><th>is_valid</th></tr></thead><tbody><tr><td>1</td><td>POLYGON ((5 0, 2.5 9, 9.5 3.5, 0.5 3.5, 7.5 9, 5 0))</td><td>false</td></tr><tr><td>2</td><td>POLYGON ((55 10, 141 237, 249 23, 21 171, 252 169, 24 89, 266 73, 55 10))</td><td>false</td></tr><tr><td>3</td><td>POLYGON ((0 0, 10 0, 0 10, 10 10, 0 0, 5 0, 5 10, 0 10, 0 5, 10 5, 10 0, 0 0))</td><td>false</td></tr><tr><td>4</td><td>POLYGON (( -84.3641541604937 33.71316821215546, -84.36414611386687 33.71303657522174, -84.36409515189553 33.71303657522174, -84.36410319852232 33.71317267442025, -84.3641541604937 33.71316821215546 ))</td><td>true</td></tr></tbody></table></div>"
      ]
     },
     "metadata": {
      "application/vnd.databricks.v1+output": {
       "addedWidgets": {},
       "aggData": [],
       "aggError": "",
       "aggOverflow": false,
       "aggSchema": [],
       "aggSeriesLimitReached": false,
       "aggType": "",
       "arguments": {},
       "columnCustomDisplayInfos": {},
       "data": [
        [
         1,
         "POLYGON ((5 0, 2.5 9, 9.5 3.5, 0.5 3.5, 7.5 9, 5 0))",
         false
        ],
        [
         2,
         "POLYGON ((55 10, 141 237, 249 23, 21 171, 252 169, 24 89, 266 73, 55 10))",
         false
        ],
        [
         3,
         "POLYGON ((0 0, 10 0, 0 10, 10 10, 0 0, 5 0, 5 10, 0 10, 0 5, 10 5, 10 0, 0 0))",
         false
        ],
        [
         4,
         "POLYGON (( -84.3641541604937 33.71316821215546, -84.36414611386687 33.71303657522174, -84.36409515189553 33.71303657522174, -84.36410319852232 33.71317267442025, -84.3641541604937 33.71316821215546 ))",
         true
        ]
       ],
       "datasetInfos": [],
       "dbfsResultPath": null,
       "isJsonSchema": true,
       "metadata": {},
       "overflow": false,
       "plotOptions": {
        "customPlotOptions": {},
        "displayType": "table",
        "pivotAggregation": null,
        "pivotColumns": null,
        "xColumns": null,
        "yColumns": null
       },
       "removedWidgets": [],
       "schema": [
        {
         "metadata": "{}",
         "name": "row_id",
         "type": "\"long\""
        },
        {
         "metadata": "{}",
         "name": "geom_wkt",
         "type": "\"string\""
        },
        {
         "metadata": "{}",
         "name": "is_valid",
         "type": "\"boolean\""
        }
       ],
       "type": "table"
      }
     },
     "output_type": "display_data"
    }
   ],
   "source": [
    "df_test_valid = (\n",
    "  df\n",
    "    .withColumn(\"is_valid\", mos.st_isvalid(\"geom_wkt\"))\n",
    ")\n",
    "\n",
    "df_test_valid.display()"
   ]
  },
  {
   "cell_type": "markdown",
   "metadata": {
    "application/vnd.databricks.v1+cell": {
     "cellMetadata": {},
     "inputWidgets": {},
     "nuid": "a87a8fd9-1fd1-44be-9704-7995bf7f2bea",
     "showTitle": false,
     "title": ""
    }
   },
   "source": [
    "__Let's get an explanation for our 3 invalids__"
   ]
  },
  {
   "cell_type": "markdown",
   "metadata": {
    "application/vnd.databricks.v1+cell": {
     "cellMetadata": {},
     "inputWidgets": {},
     "nuid": "4f783941-c167-4135-a1a2-8ebe969c66f9",
     "showTitle": false,
     "title": ""
    }
   },
   "source": [
    "_Recommend `explain_wkt_valid` only to help you understand, not as part of production pipeline, so doing separately._"
   ]
  },
  {
   "cell_type": "code",
   "execution_count": 0,
   "metadata": {
    "application/vnd.databricks.v1+cell": {
     "cellMetadata": {
      "byteLimit": 2048000,
      "rowLimit": 10000
     },
     "inputWidgets": {},
     "nuid": "47ed3341-8321-47e1-a9ec-ef67ff4fd007",
     "showTitle": false,
     "title": ""
    }
   },
   "outputs": [
    {
     "output_type": "display_data",
     "data": {
      "text/html": [
       "<style scoped>\n",
       "  .table-result-container {\n",
       "    max-height: 300px;\n",
       "    overflow: auto;\n",
       "  }\n",
       "  table, th, td {\n",
       "    border: 1px solid black;\n",
       "    border-collapse: collapse;\n",
       "  }\n",
       "  th, td {\n",
       "    padding: 5px;\n",
       "  }\n",
       "  th {\n",
       "    text-align: left;\n",
       "  }\n",
       "</style><div class='table-result-container'><table class='table-result'><thead style='background-color: white'><tr><th>row_id</th><th>geom_wkt</th><th>is_valid</th><th>invalid_explain</th></tr></thead><tbody><tr><td>1</td><td>POLYGON ((5 0, 2.5 9, 9.5 3.5, 0.5 3.5, 7.5 9, 5 0))</td><td>false</td><td>Self-intersection[4.02777777777778 3.5]</td></tr><tr><td>2</td><td>POLYGON ((55 10, 141 237, 249 23, 21 171, 252 169, 24 89, 266 73, 55 10))</td><td>false</td><td>Self-intersection[201.596683628707 53.7705737848745]</td></tr><tr><td>3</td><td>POLYGON ((0 0, 10 0, 0 10, 10 10, 0 0, 5 0, 5 10, 0 10, 0 5, 10 5, 10 0, 0 0))</td><td>false</td><td>Ring Self-intersection[5 10]</td></tr></tbody></table></div>"
      ]
     },
     "metadata": {
      "application/vnd.databricks.v1+output": {
       "addedWidgets": {},
       "aggData": [],
       "aggError": "",
       "aggOverflow": false,
       "aggSchema": [],
       "aggSeriesLimitReached": false,
       "aggType": "",
       "arguments": {},
       "columnCustomDisplayInfos": {},
       "data": [
        [
         1,
         "POLYGON ((5 0, 2.5 9, 9.5 3.5, 0.5 3.5, 7.5 9, 5 0))",
         false,
         "Self-intersection[4.02777777777778 3.5]"
        ],
        [
         2,
         "POLYGON ((55 10, 141 237, 249 23, 21 171, 252 169, 24 89, 266 73, 55 10))",
         false,
         "Self-intersection[201.596683628707 53.7705737848745]"
        ],
        [
         3,
         "POLYGON ((0 0, 10 0, 0 10, 10 10, 0 0, 5 0, 5 10, 0 10, 0 5, 10 5, 10 0, 0 0))",
         false,
         "Ring Self-intersection[5 10]"
        ]
       ],
       "datasetInfos": [],
       "dbfsResultPath": null,
       "isJsonSchema": true,
       "metadata": {},
       "overflow": false,
       "plotOptions": {
        "customPlotOptions": {},
        "displayType": "table",
        "pivotAggregation": null,
        "pivotColumns": null,
        "xColumns": null,
        "yColumns": null
       },
       "removedWidgets": [],
       "schema": [
        {
         "metadata": "{}",
         "name": "row_id",
         "type": "\"long\""
        },
        {
         "metadata": "{}",
         "name": "geom_wkt",
         "type": "\"string\""
        },
        {
         "metadata": "{}",
         "name": "is_valid",
         "type": "\"boolean\""
        },
        {
         "metadata": "{}",
         "name": "invalid_explain",
         "type": "\"string\""
        }
       ],
       "type": "table"
      }
     },
     "output_type": "display_data"
    }
   ],
   "source": [
    "display(\n",
    "  df_test_valid\n",
    "  .select(\n",
    "    \"*\",\n",
    "    F\n",
    "      .when(col(\"is_valid\") == False, explain_wkt_validity(\"geom_wkt\"))\n",
    "      .otherwise(F.lit(None))\n",
    "      .alias(\"invalid_explain\")\n",
    "  )\n",
    "  .filter(\"is_valid = false\")\n",
    ")"
   ]
  },
  {
   "cell_type": "markdown",
   "metadata": {
    "application/vnd.databricks.v1+cell": {
     "cellMetadata": {},
     "inputWidgets": {},
     "nuid": "d7b716ae-f63c-47f2-91c7-7ae9f08d8114",
     "showTitle": false,
     "title": ""
    }
   },
   "source": [
    "### Fix Validity"
   ]
  },
  {
   "cell_type": "code",
   "execution_count": 0,
   "metadata": {
    "application/vnd.databricks.v1+cell": {
     "cellMetadata": {
      "byteLimit": 2048000,
      "rowLimit": 10000
     },
     "inputWidgets": {},
     "nuid": "e25db3fb-e1ea-48d8-ba36-65082da5e933",
     "showTitle": false,
     "title": ""
    }
   },
   "outputs": [
    {
     "output_type": "stream",
     "name": "stdout",
     "output_type": "stream",
     "text": [
      "count? 4\nnum orig invalid? 3\nnum final invalid? 0\n"
     ]
    },
    {
     "output_type": "display_data",
     "data": {
      "text/html": [
       "<style scoped>\n",
       "  .table-result-container {\n",
       "    max-height: 300px;\n",
       "    overflow: auto;\n",
       "  }\n",
       "  table, th, td {\n",
       "    border: 1px solid black;\n",
       "    border-collapse: collapse;\n",
       "  }\n",
       "  th, td {\n",
       "    padding: 5px;\n",
       "  }\n",
       "  th {\n",
       "    text-align: left;\n",
       "  }\n",
       "</style><div class='table-result-container'><table class='table-result'><thead style='background-color: white'><tr><th>row_id</th><th>is_orig_valid</th><th>geom_wkt</th><th>is_valid</th></tr></thead><tbody><tr><td>1</td><td>false</td><td>MULTIPOLYGON (((0.5 3.5, 3.3957654723127035 5.7752442996742674, 4.027777777777778 3.5, 0.5 3.5)), ((2.5 9, 5 7.035714285714286, 3.3957654723127035 5.7752442996742674, 2.5 9)), ((7.5 9, 6.6042345276872965 5.7752442996742674, 5 7.035714285714286, 7.5 9)), ((9.5 3.5, 5.972222222222222 3.5, 6.6042345276872965 5.7752442996742674, 9.5 3.5)), ((5 0, 4.027777777777778 3.5, 5.972222222222222 3.5, 5 0)))</td><td>true</td></tr><tr><td>2</td><td>false</td><td>MULTIPOLYGON (((21 171, 115.68501587180901 170.1802163127982, 97.24514608274922 121.50753675330314, 21 171)), ((141 237, 174.98122638059246 169.66682920882604, 115.68501587180901 170.1802163127982, 141 237)), ((252 169, 186.85374007521938 146.1416631842875, 174.98122638059246 169.66682920882604, 252 169)), ((222.3085097882541 75.88869356771873, 161.30987316587914 79.92166127828898, 104.05263157894737 117.08864265927977, 186.85374007521938 146.1416631842875, 222.3085097882541 75.88869356771873)), ((266 73, 229.29693213749567 62.04126409792525, 222.3085097882541 75.88869356771873, 266 73)), ((249 23, 201.59668362870678 53.77057378487454, 229.29693213749567 62.04126409792525, 249 23)), ((55 10, 83.44063221452673 85.07004084532055, 161.30987316587914 79.92166127828898, 201.59668362870678 53.77057378487454, 55 10)), ((24 89, 94.27070148854622 113.6563864872092, 83.44063221452673 85.07004084532055, 24 89)), ((97.24514608274922 121.50753675330314, 104.05263157894737 117.08864265927977, 94.27070148854622 113.6563864872092, 97.24514608274922 121.50753675330314)))</td><td>true</td></tr><tr><td>3</td><td>false</td><td>GEOMETRYCOLLECTION (MULTIPOLYGON (((10 5, 10 0, 5 0, 0 0, 5 5, 10 5)), ((5 5, 0 5, 0 10, 5 10, 10 10, 5 5))), MULTILINESTRING ((10 0, 5 5), (5 5, 0 10), (5 0, 5 5), (5 5, 5 10)))</td><td>true</td></tr><tr><td>4</td><td>true</td><td>POLYGON (( -84.3641541604937 33.71316821215546, -84.36414611386687 33.71303657522174, -84.36409515189553 33.71303657522174, -84.36410319852232 33.71317267442025, -84.3641541604937 33.71316821215546 ))</td><td>true</td></tr></tbody></table></div>"
      ]
     },
     "metadata": {
      "application/vnd.databricks.v1+output": {
       "addedWidgets": {},
       "aggData": [],
       "aggError": "",
       "aggOverflow": false,
       "aggSchema": [],
       "aggSeriesLimitReached": false,
       "aggType": "",
       "arguments": {},
       "columnCustomDisplayInfos": {},
       "data": [
        [
         1,
         false,
         "MULTIPOLYGON (((0.5 3.5, 3.3957654723127035 5.7752442996742674, 4.027777777777778 3.5, 0.5 3.5)), ((2.5 9, 5 7.035714285714286, 3.3957654723127035 5.7752442996742674, 2.5 9)), ((7.5 9, 6.6042345276872965 5.7752442996742674, 5 7.035714285714286, 7.5 9)), ((9.5 3.5, 5.972222222222222 3.5, 6.6042345276872965 5.7752442996742674, 9.5 3.5)), ((5 0, 4.027777777777778 3.5, 5.972222222222222 3.5, 5 0)))",
         true
        ],
        [
         2,
         false,
         "MULTIPOLYGON (((21 171, 115.68501587180901 170.1802163127982, 97.24514608274922 121.50753675330314, 21 171)), ((141 237, 174.98122638059246 169.66682920882604, 115.68501587180901 170.1802163127982, 141 237)), ((252 169, 186.85374007521938 146.1416631842875, 174.98122638059246 169.66682920882604, 252 169)), ((222.3085097882541 75.88869356771873, 161.30987316587914 79.92166127828898, 104.05263157894737 117.08864265927977, 186.85374007521938 146.1416631842875, 222.3085097882541 75.88869356771873)), ((266 73, 229.29693213749567 62.04126409792525, 222.3085097882541 75.88869356771873, 266 73)), ((249 23, 201.59668362870678 53.77057378487454, 229.29693213749567 62.04126409792525, 249 23)), ((55 10, 83.44063221452673 85.07004084532055, 161.30987316587914 79.92166127828898, 201.59668362870678 53.77057378487454, 55 10)), ((24 89, 94.27070148854622 113.6563864872092, 83.44063221452673 85.07004084532055, 24 89)), ((97.24514608274922 121.50753675330314, 104.05263157894737 117.08864265927977, 94.27070148854622 113.6563864872092, 97.24514608274922 121.50753675330314)))",
         true
        ],
        [
         3,
         false,
         "GEOMETRYCOLLECTION (MULTIPOLYGON (((10 5, 10 0, 5 0, 0 0, 5 5, 10 5)), ((5 5, 0 5, 0 10, 5 10, 10 10, 5 5))), MULTILINESTRING ((10 0, 5 5), (5 5, 0 10), (5 0, 5 5), (5 5, 5 10)))",
         true
        ],
        [
         4,
         true,
         "POLYGON (( -84.3641541604937 33.71316821215546, -84.36414611386687 33.71303657522174, -84.36409515189553 33.71303657522174, -84.36410319852232 33.71317267442025, -84.3641541604937 33.71316821215546 ))",
         true
        ]
       ],
       "datasetInfos": [],
       "dbfsResultPath": null,
       "isJsonSchema": true,
       "metadata": {},
       "overflow": false,
       "plotOptions": {
        "customPlotOptions": {},
        "displayType": "table",
        "pivotAggregation": null,
        "pivotColumns": null,
        "xColumns": null,
        "yColumns": null
       },
       "removedWidgets": [],
       "schema": [
        {
         "metadata": "{}",
         "name": "row_id",
         "type": "\"long\""
        },
        {
         "metadata": "{}",
         "name": "is_orig_valid",
         "type": "\"boolean\""
        },
        {
         "metadata": "{}",
         "name": "geom_wkt",
         "type": "\"string\""
        },
        {
         "metadata": "{}",
         "name": "is_valid",
         "type": "\"boolean\""
        }
       ],
       "type": "table"
      }
     },
     "output_type": "display_data"
    }
   ],
   "source": [
    "df_valid = (\n",
    "  df\n",
    "    .withColumnRenamed(\"geom_wkt\", \"orig_geom_wkt\")\n",
    "    .withColumn(\"is_orig_valid\", mos.st_isvalid(\"orig_geom_wkt\"))\n",
    "  .select(\n",
    "    \"*\",\n",
    "    F\n",
    "      .when(col(\"is_orig_valid\") == False, make_wkt_valid(\"orig_geom_wkt\"))\n",
    "      .otherwise(col(\"orig_geom_wkt\"))\n",
    "      .alias(\"geom_wkt\")\n",
    "  )\n",
    "  .withColumn(\"is_valid\", mos.st_isvalid(\"geom_wkt\"))\n",
    "  .drop(\"orig_geom_wkt\")\n",
    ")\n",
    "\n",
    "print(f\"\"\"count? {df_valid.count():,}\"\"\")\n",
    "print(f\"\"\"num orig invalid? {df_valid.filter(col(\"is_orig_valid\") == False).count():,}\"\"\")\n",
    "print(f\"\"\"num final invalid? {df_valid.filter(col(\"is_valid\") == False).count():,}\"\"\")\n",
    "display(df_valid)"
   ]
  },
  {
   "cell_type": "code",
   "execution_count": 0,
   "metadata": {
    "application/vnd.databricks.v1+cell": {
     "cellMetadata": {
      "byteLimit": 2048000,
      "rowLimit": 10000
     },
     "inputWidgets": {},
     "nuid": "705f56e7-ef65-4b66-8eca-46e6cc4e754c",
     "showTitle": false,
     "title": ""
    }
   },
   "outputs": [
    {
     "output_type": "stream",
     "name": "stdout",
     "output_type": "stream",
     "text": [
      "Out[118]: ['{\"row_id\":1,\"is_orig_valid\":false,\"geom_wkt\":\"MULTIPOLYGON (((0.5 3.5, 3.3957654723127035 5.7752442996742674, 4.027777777777778 3.5, 0.5 3.5)), ((2.5 9, 5 7.035714285714286, 3.3957654723127035 5.7752442996742674, 2.5 9)), ((7.5 9, 6.6042345276872965 5.7752442996742674, 5 7.035714285714286, 7.5 9)), ((9.5 3.5, 5.972222222222222 3.5, 6.6042345276872965 5.7752442996742674, 9.5 3.5)), ((5 0, 4.027777777777778 3.5, 5.972222222222222 3.5, 5 0)))\",\"is_valid\":true}',\n '{\"row_id\":2,\"is_orig_valid\":false,\"geom_wkt\":\"MULTIPOLYGON (((21 171, 115.68501587180901 170.1802163127982, 97.24514608274922 121.50753675330314, 21 171)), ((141 237, 174.98122638059246 169.66682920882604, 115.68501587180901 170.1802163127982, 141 237)), ((252 169, 186.85374007521938 146.1416631842875, 174.98122638059246 169.66682920882604, 252 169)), ((222.3085097882541 75.88869356771873, 161.30987316587914 79.92166127828898, 104.05263157894737 117.08864265927977, 186.85374007521938 146.1416631842875, 222.3085097882541 75.88869356771873)), ((266 73, 229.29693213749567 62.04126409792525, 222.3085097882541 75.88869356771873, 266 73)), ((249 23, 201.59668362870678 53.77057378487454, 229.29693213749567 62.04126409792525, 249 23)), ((55 10, 83.44063221452673 85.07004084532055, 161.30987316587914 79.92166127828898, 201.59668362870678 53.77057378487454, 55 10)), ((24 89, 94.27070148854622 113.6563864872092, 83.44063221452673 85.07004084532055, 24 89)), ((97.24514608274922 121.50753675330314, 104.05263157894737 117.08864265927977, 94.27070148854622 113.6563864872092, 97.24514608274922 121.50753675330314)))\",\"is_valid\":true}',\n '{\"row_id\":3,\"is_orig_valid\":false,\"geom_wkt\":\"GEOMETRYCOLLECTION (MULTIPOLYGON (((10 5, 10 0, 5 0, 0 0, 5 5, 10 5)), ((5 5, 0 5, 0 10, 5 10, 10 10, 5 5))), MULTILINESTRING ((10 0, 5 5), (5 5, 0 10), (5 0, 5 5), (5 5, 5 10)))\",\"is_valid\":true}',\n '{\"row_id\":4,\"is_orig_valid\":true,\"geom_wkt\":\"POLYGON (( -84.3641541604937 33.71316821215546, -84.36414611386687 33.71303657522174, -84.36409515189553 33.71303657522174, -84.36410319852232 33.71317267442025, -84.3641541604937 33.71316821215546 ))\",\"is_valid\":true}']"
     ]
    }
   ],
   "source": [
    "fix_wkts = df_valid.orderBy('row_id').toJSON().collect()\n",
    "fix_wkts"
   ]
  },
  {
   "cell_type": "markdown",
   "metadata": {
    "application/vnd.databricks.v1+cell": {
     "cellMetadata": {},
     "inputWidgets": {},
     "nuid": "c8bada46-bbc5-4ffe-b4ef-a876ac3022df",
     "showTitle": false,
     "title": ""
    }
   },
   "source": [
    "__Row 1: Fixed [Self-Intersection]__ \n",
    "\n",
    "> Using GeoPandas to plot area for fixed."
   ]
  },
  {
   "cell_type": "code",
   "execution_count": 0,
   "metadata": {
    "application/vnd.databricks.v1+cell": {
     "cellMetadata": {
      "byteLimit": 2048000,
      "rowLimit": 10000
     },
     "inputWidgets": {},
     "nuid": "ac875ef1-124b-43e7-82a6-82a46dd5263e",
     "showTitle": false,
     "title": ""
    }
   },
   "outputs": [
    {
     "output_type": "stream",
     "name": "stdout",
     "output_type": "stream",
     "text": [
      "Out[125]: <AxesSubplot:>"
     ]
    },
    {
     "output_type": "display_data",
     "data": {
      "image/png": "[encoded data removed]"
     },
     "metadata": {
      "application/vnd.databricks.v1+output": {
       "addedWidgets": {},
       "arguments": {},
       "data": "data:image/png;base64,iVBORw0KGgoAAAANSUhEUgAAAPUAAAD4CAYAAAA0L6C7AAAAOXRFWHRTb2Z0d2FyZQBNYXRwbG90bGliIHZlcnNpb24zLjUuMSwgaHR0cHM6Ly9tYXRwbG90bGliLm9yZy/YYfK9AAAACXBIWXMAAAsTAAALEwEAmpwYAAAX20lEQVR4nO3de3CV9ZkH8O+TkxshkAA5K0u4BLm1LK2CUSHQsKvdbXcLarduSzvYbm9su2i17axbd2enne7Odjrb7eJSa6Vqa8f7IG2VtW7HarWBioSLoCRFQOQiTMIlhHsSzrN/JFlDODnnfd/z+72/y/t8ZpyR5CQ+kvPNeznfPCFmhhDCH0WmBxBCqCWhFsIzEmohPCOhFsIzEmohPFOs45PW1NRwXV2djk8thACwadOmI8yczvY+LaGuq6tDc3Ozjk8thABARG8P9T45/RbCMxJqITwjoRbCMxJqITwjoRbCMxJqITwjoRbCMxJqITwjoQ5ow56jOHW+x/QYIoTmvcfQea7b9Bixk1AH1HUhg5vuWYfd7adMjyLyYGb8dN1buGvNdowsLzE9Tuwk1AFdXTcaB46fwY0/WIfnXj9sehwxhLNdF/C1J1/Dt57ZgYYpY0yPY4SEOqDykhTmXj4Gp8734EsPb8J3n2vFhYysgrLJ20dP46M/XIefbzkIAGicnvXnHbwnoQ6hcdq7T5J7f7sbn3nwVRw73WVwItHvxdY2LF7ZhNbDJwEAJSnC3MvlSC3yGPydv2nXESxe2YRtBzrMDCSQyTBWPL8Tn3toIzrPvXsjs37SaAwv0/JDiNaTUIcwJT0ctdXDLnrbwY6zuPlHv8eTG/cbmiq5Tpzpxhd+1owVz7+JwUtxk3rqDUioQyEiNE6vueTtXT0Z3PnUNty1ZjvO91wwMFnytBzqxA33NOGF1ras78/2dUoKCXVIA6+rB3vs1X34+H2v4J2OszFOlDy/2HIQH/3hOrx99EzW99dUluG9Y0fGPJU9JNQhNUytQaqIhnz/a/s7sHhlE9bvOhLjVMnQfSGDbz39Bu54YivOdWeGfFzjtBoU5fga+U5CHVLVsBJcOaE652OOnu7C0gc24L6XdkN+A4oabZ3n8Kkfv4Kfrt+b97FJvp4GJNSRLAzwpMkw8J1ftWL5o5ulXlqg5r3HsGhlEzbuPZ73sUTAB6Yl93oakFBHEuZI8Oz2w1Ivjai/7rlk1StoO3k+0MfMGleFMZVlmiezm4Q6gvfVVqG6InineFfbKamXhjSw7tkTormX5Lve/STUEaSKCAumhnvySL00uH1Hz+Cv713//3XPMHK9OpEUEuqIot6MkXppbi+2tmHRyt+h5VBn6I+tLCvGnEmjNEzlFgl1RIUcEaReeqmh6p5hzJsyBiUpeUrL30BEY6vKMeOyEZE/Xuql78pV9wwj6S9l9ZNQF6DQmzJSL81f9wxjoVxPAwgYaiL6KhG9QUSvE9FjRFSuezAXqDoyJLVe+sutueueYdSNqcDEMRUKpnJf3lATUS2ArwCoZ+ZZAFIAlugezAVX141GeYmak50k1Uv76563P5677hmGnHq/K+gzshjAMCIqBlAB4B19I7mjfxuKKv310lUv+1svDVP3DCNIyy8p8oaamQ8C+B6AfQAOATjBzL8e/DgiWkZEzUTU3N7ern5SS6l+XTTDwL8/24pbH93iXb00TN0zjCRvOckmyOn3KAA3ApgMYByA4US0dPDjmHkVM9czc306nZzvmrpO+/5n+yFv6qVR6p5hJHnLSTZBTr8/COAtZm5n5m4AawA06B3LHdm2oajiQ700at0zDLmevliQUO8DMJeIKoiIAFwPoEXvWO4YahuKKi7XSwupe4Yhfe+LBbmm3gBgNYDNALb3fcwqzXM5JY6+sWv10kLqnmEkfctJNoHufjPzN5n5Pcw8i5lvYWb1F0YOy7cNRRUX6qUq6p5hJH3LSTbSKFMgyDYUVWyul544240vKqh7hiHX05eSUCsS54/82VgvbTnUiRt+0ITfKKh7hrEg4VtOspFQK2LiZo0t9VKVdc8wZtWORE3Ct5xkI6FW5P3jq0NtQ1HFZL1UR90zDGmRZSehViTKNhRVTNRLddU9w5AtJ9lJqBUyedMmznrpprf11D3DkC0nQ5NQK2TDkUNnvZSZ8dD6vfjEfXrqnmHIlpOhyd+KQoVuQ1FFR720v+75zaff0Fb3DENeyhqahFoxWyqLKuulcdU9w5AtJ0OTUCtm2xGk0HppXHXPMGTLSW4SasVUbkNRpb9euv3AicAfk8kw7n7+zdjqnmHY9o3TNnY9+zxQXpLCtZPt+4H9gx1n8bEfrQ9UL+2ve/7X8ztjq3uGYcMNSZtJqDWw9UgSpF5qqu4ZVEmKMG+Kfd80bSKh1sD2ptNQ9VJTdc8wZMtJfhJqDXRuQ1FlYL3UdN0zDFvPgmwiodZA9zYUVY6e7sJXn9yKRzfsM1r3DMOFv1fTJNSauHAzZ/bEavxy+QJ8pqEOKz85GxWlKdMj5SRbToKRUGsS1zaUqG6ZOwlPLJuHsVW9v2xl8RXj8Ivl8zG5ZrjhyYYmW06CkVBrEuc2lDDKiovwn39zBf71plkoLb74yz/9shH45a3z8eczLzM0XW5yPR2MhFoj207Bx48ahqe+3ICPXTV+yMeMLC/BfUuvwj98aAbIsoOibDkJRkKtkU03dRZOT2PtbQswq7Yq72OLigjL/2wqHvrsNUYWP2QjW06Ck1BrZGobymBfuW4qHvzbq1FdURrq4xqnp/HMrQvwJ+PM35yy7azHZhJqjVJFhPmGtqEAwIiyYtz/6Xp87S9mRL5pN2F0BZ76cgNuznHKHge5ng5OQq2ZqXbZjMtG4OnbFuCDCm56lZek8B83vx//dtMslKTiv9CuLCvGnImy5SQoCbVmJk4bF18xDj9f3qD05SkiwtK5k/DE383D2JHlyj5vEPOmjLnkTr0YmvxNaRbnNpRUEeFfFs3Efy+5EhWlevrRcyaOwjO3LcDcy0dr+fzZyKl3OBLqGMRxF7ymsgyPfuFafH7BZJDm16LSI8rw8OevxRc/MFnrf6efbDkJR0IdA91HmjkTq7H2tgW4NsZfvF6cKsI/f2Sm9nqpbDkJT0IdA53bUD49bxIeH1D3jJvueqmceocnoY6Bjm0o/XXPb994ad0zbjrrpfL6dHgS6pioPOIEqXvGTUe9VLacRCOhjslCRTfLwtQ946a6XnrVpFGy5SQCCXVMpqQrMa7A696odc+49ddLZ9UWVi+V6+loJNQxISIsnBHtSTqivPC6Z9wmjK7A6i8VVi+1fdebrSTUMYpy02fGZSPw9K1q6p5xK6ReKltOogsUaiKqJqLVRNRKRC1ENE/3YD4Kuw3lBg11z7hFrZfKlpPogh6p7wbwHDO/B8AVAFr0jeSvoNtQ+uued2use8YtbL1UrqejyxtqIqoC0AjgAQBg5i5m7tA8l7fynYLHWfeMW5h6qWw5iS7IkXoygHYAPyGiLUR0PxFdcj5IRMuIqJmImtvb25UP6otcPXATdc+4BamXypaTwgQJdTGAOQDuZebZAE4D+MbgBzHzKmauZ+b6dFpOnYYy1DYU03XPuOWql0qLrDBBQn0AwAFm3tD359XoDbmIYPA2FJvqnnEbql4q19OFyfssYubDAPYT0Yy+N10PYIfWqTzX/6OEE0YPw5q/t6vuGbfB9dLhpSnZclKgoLdWbwPwCBGVAtgD4LP6RvJf4/Q0/nRGGis+caX17bA49NdL31dbhbXb3kncGYtqgULNzFsB1OsdJRkyGcbjG/fhHz88QwI9SOP0NLYf7MC2Ax14//hq0+M4S74lxujEmW584WfNWPH8m3h55xHT41iHmfHYq/tx849+jyc37jc9jrMk1DFpOdSJG+5pwgt9v8z95TflZb/B3jpyGgeOn0VXTwZ3PrUNd63ZjvM9F0yP5RwJdQx+seXSX+a+8a3jONPVY3Aq+7y88+JvdI+9ug8fv+8VvNNx1tBEbpJQa9T/y9zveOLSX+bedSGDDXuOGZrMTi+/eeklyWv7O7B4ZRPW75LLlaAk1Jq0dZ7Dp378Ss5f5v7STjkF73e+5wJ+v/to1vcdPd2FpQ9swH0v7QYzxzyZeyTUGjTvPYZFK5uwce/xnI+T6+p3bdp7HGe7h75+zjDwnV+1Yvmjm3HqvFy25CKhVoiZ8dN1b2HJqlfQdvJ83sfvaT+NA8fP5H1cErwU8Bvcs9sP46Z71mF3+ynNE7lLQq3I2a4L+NqTr+Fbz+xATyb4KaK8tNUrzN/DrrZTuPEH6/Dc64c1TuQuCbUCbx89jY/+cB1+vuVg6I99aWebhonc0tZ5Di2HOkN9zKnzPfjSw5vw3edacSHEN9EkkFAX6MXWNixe2YTWwycjffz6XUfRfSGT/4Eey3bXO6h7f7sbn3nwVRw73aVwIrdJqCPKZBgrnt+Jzz20EZ3not+4OXm+B1v3d6gbzEGDX58Oq2nXESxe2YRtBzrUDOQ4CXUEA+ueKl5hKfRJ7bJMhtGk4DXogx1npV7aR0Id0uC6pwpJDvXr75xQduos9dJeEuoQstU9Vdh2UN0T2zU6vqElvV4qoQ4gV91TBWYoOQV1ka6X9JJcL5VQ5xGk7qlCEk/BO891Y/O+3K27QiS1XiqhziFo3VOFl3e2J+qJB/S+nBemqBNFEuulEuoswtY9VWg7eT7ya92uirP7nqR6qYR6kKh1TxWSdArOzLH//yalXiqhHqCQuqcKSfqprf4tJ3FLQr1UQt2n0LqnCknahmL6rMTnemniQ62q7qlCkrahFNL3VsXXemmiQ6267qlCErah5NpyEjcf66WJDbWOuqcKSbiuzrflJG6+1UsTGWpddU8V9rSfxv5j9s2lUtAtJ3HzpV6aqFDrrnuq4vvR+qU/2Pv/50O9NDGhjqvuqYLpO8M6tXWes75k43q9NBGhjrPuqYLP21BsuOsdhMv1Uq9DbaLuqYLP21BcOwtxsV7qbahN1j1VcO3JH4SqLSdxc61e6mWoTdc9VfAx1Cq3nMTNpXqpd6G2oe6pgo/bUHz4RuVCvdSbUNtU91TBx20ovvziAtvrpV6E2sa6pwo2v54bVue5bmzSuOUkbjbXS50Pta11TxV+96Y/21DW7zpq/bVoWLbWSwOHmohSRLSFiNbqHCgMm+ueKvi0DcXnlpxt9dIwR+rbAbToGiQMV+qeKvhwc8nElpO42VQvDRRqIhoP4CMA7tc7Tn4u1T1V8OEIZ2rLSdxsqZcGPVKvAHAngCEPi0S0jIiaiai5vV3PE9G1uqcKPmxD8f0oPZAN9dK8oSaiRQDamHlTrscx8ypmrmfm+nQ6rWzAvs/tZN1TBR+2objS91bJZL00yJF6PoAbiGgvgMcBXEdED2udagDX654quLwNxaYtJ3EzVS/NG2pmvouZxzNzHYAlAF5g5qXaJ4MfdU8VXL6utm3LSdxM1EutfZ3al7qnCi5vQ3H5LEOlOOuloULNzL9l5kW6hgH8q3uq4urRWkL9rrjqpVYdqX2te6rg4h1kF7acxC2Oeqk1ofa57qmCi9tQknjXOwjd9VIrQu173VMFF7ehuHh2ESdd9VKjoU5S3VMFl0Li6paTuOmolxoLddLqniq4FGqXt5zETXW9tFjBTJFUV5Tioc9dY+o/76RMhtHwnd/g+Jlu06PktaxxMnZ8+0Omx3AOM0BU2OcwFurS4iKU2nFJ75Q5k0Zh7bZDpsfIq2FKDSpKjT29Ek1S5ZjG6Wp79TpUlhVjzqRRpsdILAm1Yxqn2R/qeVPGoCQlTy1T5G/eMWOryjHjshGmx8jJhbMJn0moHdQ4vcb0CDktdOBswmcSagfZfCSsG1OBiWMqTI+RaBJqB11dNxrlJXZ+6Wz+hpMUdj4zRE7lJSlcO3mM6TGycuFGnu8k1I5aaOERsSRFmDfFzm82SSKhdpSNp7n1k0ZjeJkUTkyTUDtqSno4aquHmR7jIjZ+o0kiCbWjiMi6l7ZsmyepJNQOs+mmVE1lGd47dqTpMQQk1E5rmFqDVFGBP9KjSOO0GhRZMkvSSagdVjWsBFdOqDY9BgC5nraJhNpxtpyCL5gm19O2kFA7buEM86GeVTsSNZVlpscQfSTUjntfbRWqK0qMzmDL2YLoJaF2XKqIsGCq2VNfuZ62i4TaAyZDVVlWjDkTZcuJTSTUHjB5+jtvyhiUFsvTyCby1fCAyW0ocuptHwm1J0xVNGXLiX0k1J4wccSULSd2klB7wsQ2FDn1tpOE2hPlJSnMvTzeBQXy+rSdJNQeiTNksuXEXhJqj8R5OnzVpFGy5cRSEmqPxLkNZeH0P4rlvyPCyxtqIppARC8S0Q4ieoOIbo9jMBFenNtQZMuJvYIcqXsAfJ2ZZwKYC2A5Ec3UO5aIKo7ratlyYre8oWbmQ8y8ue/fTwJoAVCrezARTRzbUGTLid1CXVMTUR2A2QA2ZHnfMiJqJqLm9vZ2ReOJsOLYhiKvT9stcKiJqBLAUwDuYObOwe9n5lXMXM/M9em0fNFN0n0KLltO7BYo1ERUgt5AP8LMa/SOJAqlcxuKbDmxX5C73wTgAQAtzPx9/SOJQunchiItMvsFOVLPB3ALgOuIaGvfP3+leS5RAJ3bUOR62n55K0HM3ARAbnU6pnF6Gmu3HVL6OYeXpmTLiQOkUeYpHafJDVNrZMuJA+Qr5Ckd21Dk1NsNEmqPqa5yypYTN0ioPabyyCpbTtwhofaYym0ocurtDgm1x1RuQ5HXp90hofacijDKlhO3SKg9p+K0WbacuEVC7TkV21DketotEmrPqdiGItfTbpFQJ0AhoaypLMPMP5YtJy6RUCdAIdtQZMuJeyTUCVDINhS5nnaPhDohFkYMp2w5cY+EOiGiHHFly4mbJNQJEWUbitz1dpOEOiGibEOR62k3SagTJExIZcuJuyTUCRLmdHreFNly4ir5qiVImG0oC+V3ZTlLQp0wQSuj8lst3SWhTpgg19Wy5cRtEuqECbINRe56u01CnTBBtqHI69Nuk1AnUK7QypYT90moEyjX6bVsOXGfhDqBcm1Dketp90moEyjXNhS5nnafhDqhsoW3prJUtpx4QEKdUNm2oTROS8uWEw9IqBOqalgJZg/ahiLX036QUCfY4BDLlhM/SKgTbGCoZcuJPyTUCTZwG4rc9faHhDrBBm5DketpfwQKNRF9mIj+QES7iOgbuocS8WmcnpYtJ57JG2oiSgG4B8BfApgJ4JNENFP3YCIejdPSaJgqW058EuQreQ2AXcy8h5m7ADwO4Ea9Y4m4jK0qxxc/cLnpMYRCQUJdC2D/gD8f6HvbRYhoGRE1E1Fze3u7qvlEDK6ZPNr0CEIhZedczLyKmeuZuT6dlpsuQpgSJNQHAUwY8OfxfW8TQlgoSKg3AphGRJOJqBTAEgBP6x1LCBFV3p+GZ+YeIroVwP8CSAF4kJnf0D6ZECKSQCsumPlZAM9qnkUIoYC8OCmEZyTUQnhGQi2EZyTUQniGmFn9JyVqB/C28k+sXg2AI6aHCEHm1culeScxc9aWl5ZQu4KImpm53vQcQcm8erk271Dk9FsIz0iohfBM0kO9yvQAIcm8erk2b1aJvqYWwkdJP1IL4R0JtRCeSWSoiWgCEb1IRDuI6A0iut30TEEQUYqIthDRWtOz5ENE1US0mohaiaiFiOaZnikXIvpq33PhdSJ6jIjKTc8UVSJDDaAHwNeZeSaAuQCWO7JM8XYALaaHCOhuAM8x83sAXAGL5yaiWgBfAVDPzLPQ+yPGS8xOFV0iQ83Mh5h5c9+/n0TvE+6SvWs2IaLxAD4C4H7Ts+RDRFUAGgE8AADM3MXMHUaHyq8YwDAiKgZQAeAdw/NElshQD0REdQBmA9hgeJR8VgC4E0DG8BxBTAbQDuAnfZcL9xPRcNNDDYWZDwL4HoB9AA4BOMHMvzY7VXSJDjURVQJ4CsAdzNxpep6hENEiAG3MvMn0LAEVA5gD4F5mng3gNABrfwkEEY1C79rryQDGARhOREvNThVdYkNNRCXoDfQjzLzG9Dx5zAdwAxHtRe/e9euI6GGzI+V0AMABZu4/+1mN3pDb6oMA3mLmdmbuBrAGQIPhmSJLZKiJiNB7vdfCzN83PU8+zHwXM49n5jr03sB5gZmtPZIw82EA+4loRt+brgeww+BI+ewDMJeIKvqeG9fD4ht7+QTaUeah+QBuAbCdiLb2ve2f+naxCTVuA/BI3wbaPQA+a3ieITHzBiJaDWAzel8Z2QKHK6NSExXCM4k8/RbCZxJqITwjoRbCMxJqITwjoRbCMxJqITwjoRbCM/8Hq89HjJsoC7sAAAAASUVORK5CYII=\n",
       "datasetInfos": [],
       "metadata": {},
       "removedWidgets": [],
       "type": "image"
      }
     },
     "output_type": "display_data"
    }
   ],
   "source": [
    "gpd.GeoSeries(shapely.wkt.loads(json.loads(fix_wkts[0])['geom_wkt'])).plot()"
   ]
  },
  {
   "cell_type": "markdown",
   "metadata": {
    "application/vnd.databricks.v1+cell": {
     "cellMetadata": {},
     "inputWidgets": {},
     "nuid": "76452d6e-53ad-4075-8552-c66b877c8801",
     "showTitle": false,
     "title": ""
    }
   },
   "source": [
    "__Row 2: Fixed [Self-Intersection]__\n",
    "\n",
    "> Using GeoPandas to plot area for fixed."
   ]
  },
  {
   "cell_type": "code",
   "execution_count": 0,
   "metadata": {
    "application/vnd.databricks.v1+cell": {
     "cellMetadata": {
      "byteLimit": 2048000,
      "rowLimit": 10000
     },
     "inputWidgets": {},
     "nuid": "4fd70ddc-cef4-405f-8b85-b732691e53ab",
     "showTitle": false,
     "title": ""
    }
   },
   "outputs": [
    {
     "output_type": "stream",
     "name": "stdout",
     "output_type": "stream",
     "text": [
      "Out[126]: <AxesSubplot:>"
     ]
    },
    {
     "output_type": "display_data",
     "data": {
      "image/png": "[encoded data removed]"
     },
     "metadata": {
      "application/vnd.databricks.v1+output": {
       "addedWidgets": {},
       "arguments": {},
       "data": "data:image/png;base64,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\n",
       "datasetInfos": [],
       "metadata": {},
       "removedWidgets": [],
       "type": "image"
      }
     },
     "output_type": "display_data"
    }
   ],
   "source": [
    "gpd.GeoSeries(shapely.wkt.loads(json.loads(fix_wkts[1])['geom_wkt'])).plot()"
   ]
  },
  {
   "cell_type": "markdown",
   "metadata": {
    "application/vnd.databricks.v1+cell": {
     "cellMetadata": {},
     "inputWidgets": {},
     "nuid": "3fadc613-c5b2-464e-a718-c1e76ec1a208",
     "showTitle": false,
     "title": ""
    }
   },
   "source": [
    "__Row 3: Fixed [Ring Self-Intersection]__\n",
    "\n",
    "> Using GeoPandas to plot area for fixed."
   ]
  },
  {
   "cell_type": "code",
   "execution_count": 0,
   "metadata": {
    "application/vnd.databricks.v1+cell": {
     "cellMetadata": {
      "byteLimit": 2048000,
      "rowLimit": 10000
     },
     "inputWidgets": {},
     "nuid": "f9e3d0eb-718a-41cc-bae2-fccf1e0d6cd5",
     "showTitle": false,
     "title": ""
    }
   },
   "outputs": [
    {
     "output_type": "stream",
     "name": "stdout",
     "output_type": "stream",
     "text": [
      "Out[127]: <AxesSubplot:>"
     ]
    },
    {
     "output_type": "display_data",
     "data": {
      "image/png": "[encoded data removed]"
     },
     "metadata": {
      "application/vnd.databricks.v1+output": {
       "addedWidgets": {},
       "arguments": {},
       "data": "data:image/png;base64,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\n",
       "datasetInfos": [],
       "metadata": {},
       "removedWidgets": [],
       "type": "image"
      }
     },
     "output_type": "display_data"
    }
   ],
   "source": [
    "gpd.GeoSeries(shapely.wkt.loads(json.loads(fix_wkts[2])['geom_wkt'])).plot()"
   ]
  },
  {
   "cell_type": "markdown",
   "metadata": {
    "application/vnd.databricks.v1+cell": {
     "cellMetadata": {},
     "inputWidgets": {},
     "nuid": "230bf52a-3b2e-4c65-8cf7-5098af27c943",
     "showTitle": false,
     "title": ""
    }
   },
   "source": [
    "## Option: Vectorized Pandas UDF\n",
    "\n",
    "> If you want to go further with performance, you can use a vectorized pandas UDF\n",
    "\n",
    "__Note: We are using the Pandas Series [Vectorized UDF](https://spark.apache.org/docs/latest/api/python/reference/pyspark.sql/api/pyspark.sql.functions.pandas_udf.html) variant.__"
   ]
  },
  {
   "cell_type": "code",
   "execution_count": 0,
   "metadata": {
    "application/vnd.databricks.v1+cell": {
     "cellMetadata": {
      "byteLimit": 2048000,
      "rowLimit": 10000
     },
     "inputWidgets": {},
     "nuid": "77c2b320-f5b1-4a27-90de-820e6e0886a7",
     "showTitle": false,
     "title": ""
    }
   },
   "outputs": [],
   "source": [
    "from pyspark.sql.functions import pandas_udf\n",
    "\n",
    "@pandas_udf(StringType())\n",
    "def vectorized_make_wkt_valid(s:pd.Series) -> pd.Series:\n",
    "    \"\"\"\n",
    "    - test for wkt being valid\n",
    "    - attempts to make valid\n",
    "    - may have to change type, e.g. POLYGON to MULTIPOLYGON\n",
    "     returns valid wkt\n",
    "    \"\"\"\n",
    "    from shapely import wkt \n",
    "    from shapely.validation import make_valid\n",
    "\n",
    "    def to_valid(w:str) -> str:\n",
    "      _geom = wkt.loads(w)\n",
    "      if _geom.is_valid:\n",
    "        return w\n",
    "      _geom_fix = make_valid(_geom)\n",
    "      return _geom_fix.wkt\n",
    "\n",
    "    return s.apply(to_valid) "
   ]
  },
  {
   "cell_type": "markdown",
   "metadata": {
    "application/vnd.databricks.v1+cell": {
     "cellMetadata": {},
     "inputWidgets": {},
     "nuid": "6c63edd3-f87e-4ede-bf74-c1d49c7177e2",
     "showTitle": false,
     "title": ""
    }
   },
   "source": [
    "_This variation doesn't show all the interim testing, just the fixing._"
   ]
  },
  {
   "cell_type": "code",
   "execution_count": 0,
   "metadata": {
    "application/vnd.databricks.v1+cell": {
     "cellMetadata": {
      "byteLimit": 2048000,
      "rowLimit": 10000
     },
     "inputWidgets": {},
     "nuid": "8b871326-d013-49c0-863f-51e5c16ddd60",
     "showTitle": false,
     "title": ""
    }
   },
   "outputs": [
    {
     "output_type": "stream",
     "name": "stdout",
     "output_type": "stream",
     "text": [
      "count? 4\nnum orig invalid? 3\nnum final invalid? 0\n"
     ]
    },
    {
     "output_type": "display_data",
     "data": {
      "text/html": [
       "<style scoped>\n",
       "  .table-result-container {\n",
       "    max-height: 300px;\n",
       "    overflow: auto;\n",
       "  }\n",
       "  table, th, td {\n",
       "    border: 1px solid black;\n",
       "    border-collapse: collapse;\n",
       "  }\n",
       "  th, td {\n",
       "    padding: 5px;\n",
       "  }\n",
       "  th {\n",
       "    text-align: left;\n",
       "  }\n",
       "</style><div class='table-result-container'><table class='table-result'><thead style='background-color: white'><tr><th>row_id</th><th>is_orig_valid</th><th>geom_wkt</th><th>is_valid</th></tr></thead><tbody><tr><td>1</td><td>false</td><td>MULTIPOLYGON (((0.5 3.5, 3.3957654723127035 5.7752442996742674, 4.027777777777778 3.5, 0.5 3.5)), ((2.5 9, 5 7.035714285714286, 3.3957654723127035 5.7752442996742674, 2.5 9)), ((7.5 9, 6.6042345276872965 5.7752442996742674, 5 7.035714285714286, 7.5 9)), ((9.5 3.5, 5.972222222222222 3.5, 6.6042345276872965 5.7752442996742674, 9.5 3.5)), ((5 0, 4.027777777777778 3.5, 5.972222222222222 3.5, 5 0)))</td><td>true</td></tr><tr><td>2</td><td>false</td><td>MULTIPOLYGON (((21 171, 115.68501587180901 170.1802163127982, 97.24514608274922 121.50753675330314, 21 171)), ((141 237, 174.98122638059246 169.66682920882604, 115.68501587180901 170.1802163127982, 141 237)), ((252 169, 186.85374007521938 146.1416631842875, 174.98122638059246 169.66682920882604, 252 169)), ((222.3085097882541 75.88869356771873, 161.30987316587914 79.92166127828898, 104.05263157894737 117.08864265927977, 186.85374007521938 146.1416631842875, 222.3085097882541 75.88869356771873)), ((266 73, 229.29693213749567 62.04126409792525, 222.3085097882541 75.88869356771873, 266 73)), ((249 23, 201.59668362870678 53.77057378487454, 229.29693213749567 62.04126409792525, 249 23)), ((55 10, 83.44063221452673 85.07004084532055, 161.30987316587914 79.92166127828898, 201.59668362870678 53.77057378487454, 55 10)), ((24 89, 94.27070148854622 113.6563864872092, 83.44063221452673 85.07004084532055, 24 89)), ((97.24514608274922 121.50753675330314, 104.05263157894737 117.08864265927977, 94.27070148854622 113.6563864872092, 97.24514608274922 121.50753675330314)))</td><td>true</td></tr><tr><td>4</td><td>true</td><td>POLYGON (( -84.3641541604937 33.71316821215546, -84.36414611386687 33.71303657522174, -84.36409515189553 33.71303657522174, -84.36410319852232 33.71317267442025, -84.3641541604937 33.71316821215546 ))</td><td>true</td></tr><tr><td>3</td><td>false</td><td>GEOMETRYCOLLECTION (MULTIPOLYGON (((10 5, 10 0, 5 0, 0 0, 5 5, 10 5)), ((5 5, 0 5, 0 10, 5 10, 10 10, 5 5))), MULTILINESTRING ((10 0, 5 5), (5 5, 0 10), (5 0, 5 5), (5 5, 5 10)))</td><td>true</td></tr></tbody></table></div>"
      ]
     },
     "metadata": {
      "application/vnd.databricks.v1+output": {
       "addedWidgets": {},
       "aggData": [],
       "aggError": "",
       "aggOverflow": false,
       "aggSchema": [],
       "aggSeriesLimitReached": false,
       "aggType": "",
       "arguments": {},
       "columnCustomDisplayInfos": {},
       "data": [
        [
         1,
         false,
         "MULTIPOLYGON (((0.5 3.5, 3.3957654723127035 5.7752442996742674, 4.027777777777778 3.5, 0.5 3.5)), ((2.5 9, 5 7.035714285714286, 3.3957654723127035 5.7752442996742674, 2.5 9)), ((7.5 9, 6.6042345276872965 5.7752442996742674, 5 7.035714285714286, 7.5 9)), ((9.5 3.5, 5.972222222222222 3.5, 6.6042345276872965 5.7752442996742674, 9.5 3.5)), ((5 0, 4.027777777777778 3.5, 5.972222222222222 3.5, 5 0)))",
         true
        ],
        [
         2,
         false,
         "MULTIPOLYGON (((21 171, 115.68501587180901 170.1802163127982, 97.24514608274922 121.50753675330314, 21 171)), ((141 237, 174.98122638059246 169.66682920882604, 115.68501587180901 170.1802163127982, 141 237)), ((252 169, 186.85374007521938 146.1416631842875, 174.98122638059246 169.66682920882604, 252 169)), ((222.3085097882541 75.88869356771873, 161.30987316587914 79.92166127828898, 104.05263157894737 117.08864265927977, 186.85374007521938 146.1416631842875, 222.3085097882541 75.88869356771873)), ((266 73, 229.29693213749567 62.04126409792525, 222.3085097882541 75.88869356771873, 266 73)), ((249 23, 201.59668362870678 53.77057378487454, 229.29693213749567 62.04126409792525, 249 23)), ((55 10, 83.44063221452673 85.07004084532055, 161.30987316587914 79.92166127828898, 201.59668362870678 53.77057378487454, 55 10)), ((24 89, 94.27070148854622 113.6563864872092, 83.44063221452673 85.07004084532055, 24 89)), ((97.24514608274922 121.50753675330314, 104.05263157894737 117.08864265927977, 94.27070148854622 113.6563864872092, 97.24514608274922 121.50753675330314)))",
         true
        ],
        [
         4,
         true,
         "POLYGON (( -84.3641541604937 33.71316821215546, -84.36414611386687 33.71303657522174, -84.36409515189553 33.71303657522174, -84.36410319852232 33.71317267442025, -84.3641541604937 33.71316821215546 ))",
         true
        ],
        [
         3,
         false,
         "GEOMETRYCOLLECTION (MULTIPOLYGON (((10 5, 10 0, 5 0, 0 0, 5 5, 10 5)), ((5 5, 0 5, 0 10, 5 10, 10 10, 5 5))), MULTILINESTRING ((10 0, 5 5), (5 5, 0 10), (5 0, 5 5), (5 5, 5 10)))",
         true
        ]
       ],
       "datasetInfos": [],
       "dbfsResultPath": null,
       "isJsonSchema": true,
       "metadata": {},
       "overflow": false,
       "plotOptions": {
        "customPlotOptions": {},
        "displayType": "table",
        "pivotAggregation": null,
        "pivotColumns": null,
        "xColumns": null,
        "yColumns": null
       },
       "removedWidgets": [],
       "schema": [
        {
         "metadata": "{}",
         "name": "row_id",
         "type": "\"long\""
        },
        {
         "metadata": "{}",
         "name": "is_orig_valid",
         "type": "\"boolean\""
        },
        {
         "metadata": "{}",
         "name": "geom_wkt",
         "type": "\"string\""
        },
        {
         "metadata": "{}",
         "name": "is_valid",
         "type": "\"boolean\""
        }
       ],
       "type": "table"
      }
     },
     "output_type": "display_data"
    }
   ],
   "source": [
    "df_valid1 = (\n",
    "  df                                                                                   # <- initial dataframe\n",
    "    .withColumnRenamed(\"geom_wkt\", \"orig_geom_wkt\")\n",
    "    .withColumn(\"is_orig_valid\", mos.st_isvalid(\"orig_geom_wkt\"))\n",
    "    .repartition(sc.defaultParallelism * 8, \"orig_geom_wkt\")                           # <- useful at scale\n",
    "  .select(\n",
    "    \"*\",\n",
    "    F\n",
    "      .when(col(\"is_orig_valid\") == False, vectorized_make_wkt_valid(\"orig_geom_wkt\")) # <- Pandas UDF\n",
    "      .otherwise(col(\"orig_geom_wkt\"))\n",
    "      .alias(\"geom_wkt\")\n",
    "  )\n",
    "  .withColumn(\"is_valid\", mos.st_isvalid(\"geom_wkt\"))\n",
    "  .drop(\"orig_geom_wkt\")\n",
    ")\n",
    "\n",
    "print(f\"\"\"count? {df_valid1.count():,}\"\"\")\n",
    "print(f\"\"\"num orig invalid? {df_valid1.filter(col(\"is_orig_valid\") == False).count():,}\"\"\")\n",
    "print(f\"\"\"num final invalid? {df_valid1.filter(col(\"is_valid\") == False).count():,}\"\"\")\n",
    "display(df_valid1)"
   ]
  },
  {
   "cell_type": "markdown",
   "metadata": {
    "application/vnd.databricks.v1+cell": {
     "cellMetadata": {},
     "inputWidgets": {},
     "nuid": "4ebff4ab-4d1e-4339-9182-e52d427e4071",
     "showTitle": false,
     "title": ""
    }
   },
   "source": [
    "> _To further optimize as an automated workflow, you would writing to Delta Tables and avoiding unnecessary calls to `count` / `display`._\n",
    "\n",
    "__Notes:__\n",
    "\n",
    "* At-scale, there are benefits to adding call like `.repartition(sc.defaultParallelism * 8, \"orig_geom_wkt\")` when coupled with spark confs to adjust AQE (see top of notebook) as this give you more control of partitioning since there is compute-heavy (aka UDF) tasks that Spark cannot plan for as well as a \"pure\" data-heavy operation.\n",
    "* The focus of this notebook was not on rendering on a map, so we just used matplot lib with both Shapely (for pre-fixed geoms) and GeoPandas (for fixed geoms)\n",
    "* The use of `.when()` conditional allows us to avoid UDF calls except where `is_valid=False` which saves on unnecessary compute time\n",
    "* We avoided shapely `explain_validity` call except to initially understand as that call can be computationally expensive (and is only informational)\n",
    "* This is just a subset of validation, but hopefully offers enough breadcrumbs for common issues you may face when processing invalid geometries"
   ]
  }
 ],
 "metadata": {
  "application/vnd.databricks.v1+notebook": {
   "dashboards": [],
   "language": "python",
   "notebookMetadata": {
    "mostRecentlyExecutedCommandWithImplicitDF": {
     "commandId": 85549841996182,
     "dataframes": [
      "_sqldf"
     ]
    },
    "pythonIndentUnit": 2
   },
   "notebookName": "shapely_validate_udfs",
   "widgets": {}
  }
 },
 "nbformat": 4,
 "nbformat_minor": 0
}
