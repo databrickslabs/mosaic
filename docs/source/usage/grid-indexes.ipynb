{
 "cells": [
  {
   "cell_type": "markdown",
   "metadata": {
    "application/vnd.databricks.v1+cell": {
     "cellMetadata": {},
     "inputWidgets": {},
     "nuid": "1deecb01-8ded-4750-a112-5847e410846b",
     "showTitle": false,
     "title": ""
    }
   },
   "source": [
    "# Using grid index systems in Mosaic"
   ]
  },
  {
   "cell_type": "code",
   "execution_count": 0,
   "metadata": {
    "application/vnd.databricks.v1+cell": {
     "cellMetadata": {},
     "inputWidgets": {},
     "nuid": "f6311e22-f0a8-4025-b612-4367b5f1cac2",
     "showTitle": false,
     "title": ""
    }
   },
   "outputs": [],
   "source": [
    "from pyspark.sql.functions import *\n",
    "from mosaic import enable_mosaic\n",
    "enable_mosaic(spark, dbutils)"
   ]
  },
  {
   "cell_type": "markdown",
   "metadata": {
    "application/vnd.databricks.v1+cell": {
     "cellMetadata": {},
     "inputWidgets": {},
     "nuid": "e5603057-662b-4bf3-9517-84b35ad7a8b5",
     "showTitle": false,
     "title": ""
    }
   },
   "source": [
    "Set operations over big geospatial datasets become very expensive without some form of spatial indexing.\n",
    "\n",
    "Spatial indexes not only allow operations like point-in-polygon joins to be partitioned but, if only approximate results are required, can be used to reduce these to deterministic SQL joins directly on the indexes."
   ]
  },
  {
   "cell_type": "markdown",
   "metadata": {
    "application/vnd.databricks.v1+cell": {
     "cellMetadata": {},
     "inputWidgets": {},
     "nuid": "c8199fdd-1372-43a4-8edf-f96129f4195a",
     "showTitle": false,
     "title": ""
    }
   },
   "source": [
    "![example h3 point-in-poly image](https://databricks.com/wp-content/uploads/2021/01/blog-geospatial-3.jpg)"
   ]
  },
  {
   "cell_type": "markdown",
   "metadata": {
    "application/vnd.databricks.v1+cell": {
     "cellMetadata": {},
     "inputWidgets": {},
     "nuid": "39e3cf64-61c9-4930-be5e-91b254cf0984",
     "showTitle": false,
     "title": ""
    }
   },
   "source": [
    "The workflow for a point-in-poly spatial join might look like the following:"
   ]
  },
  {
   "cell_type": "markdown",
   "metadata": {
    "application/vnd.databricks.v1+cell": {
     "cellMetadata": {},
     "inputWidgets": {},
     "nuid": "947d6e33-06b5-4ea0-bc55-0fdb5b8e8524",
     "showTitle": false,
     "title": ""
    }
   },
   "source": [
    "## 1. Read the source point and polygon datasets."
   ]
  },
  {
   "cell_type": "code",
   "execution_count": 0,
   "metadata": {
    "application/vnd.databricks.v1+cell": {
     "cellMetadata": {},
     "inputWidgets": {},
     "nuid": "f1474a53-da53-4955-b944-083fdf3a22a1",
     "showTitle": false,
     "title": ""
    }
   },
   "outputs": [],
   "source": [
    "drop_cols = [\n",
    "  \"rate_code_id\", \"store_and_fwd_flag\", \"dropoff_longitude\",\n",
    "  \"dropoff_latitude\", \"payment_type\", \"fare_amount\",\n",
    "  \"extra\", \"mta_tax\", \"tip_amount\", \"tolls_amount\",\n",
    "  \"total_amount\"\n",
    "]\n",
    "\n",
    "trips = (\n",
    "  spark.table(\"delta.`/databricks-datasets/nyctaxi/tables/nyctaxi_yellow`\")\n",
    "  .drop(*drop_cols)\n",
    "  .limit(5_000_000)\n",
    "  .repartition(sc.defaultParallelism * 20)\n",
    ")\n",
    "\n",
    "trips.show()"
   ]
  },
  {
   "cell_type": "code",
   "execution_count": 0,
   "metadata": {
    "application/vnd.databricks.v1+cell": {
     "cellMetadata": {},
     "inputWidgets": {},
     "nuid": "e3a366bf-4d60-4356-8b7b-eedb0beabc8d",
     "showTitle": false,
     "title": ""
    }
   },
   "outputs": [],
   "source": [
    "from mosaic import st_geomfromgeojson\n",
    "\n",
    "user = spark.sql(\"select current_user() as user\").collect()[0][\"user\"]\n",
    "\n",
    "neighbourhoods = (\n",
    "  spark.read.format(\"json\")\n",
    "  .load(f\"dbfs:/FileStore/shared_uploads/{user}/NYC_Taxi_Zones.geojson\")\n",
    "  .repartition(sc.defaultParallelism)\n",
    "  .withColumn(\"geometry\", st_geomfromgeojson(to_json(col(\"geometry\"))))\n",
    "  .select(\"properties.*\", \"geometry\")\n",
    "  .drop(\"shape_area\", \"shape_leng\")\n",
    ")\n",
    "\n",
    "neighbourhoods.show()"
   ]
  },
  {
   "cell_type": "markdown",
   "metadata": {
    "application/vnd.databricks.v1+cell": {
     "cellMetadata": {},
     "inputWidgets": {},
     "nuid": "ae8cc184-574e-458f-9613-d2225b7a73e8",
     "showTitle": false,
     "title": ""
    }
   },
   "source": [
    "## 2. Compute the resolution of index required to optimize the join."
   ]
  },
  {
   "cell_type": "code",
   "execution_count": 0,
   "metadata": {
    "application/vnd.databricks.v1+cell": {
     "cellMetadata": {},
     "inputWidgets": {},
     "nuid": "08dc48c1-9da2-4f8a-a233-aae456cac972",
     "showTitle": false,
     "title": ""
    }
   },
   "outputs": [],
   "source": [
    "from mosaic import MosaicFrame\n",
    "\n",
    "neighbourhoods_mdf = MosaicFrame(neighbourhoods, \"geometry\")\n",
    "help(neighbourhoods_mdf.get_optimal_resolution)"
   ]
  },
  {
   "cell_type": "code",
   "execution_count": 0,
   "metadata": {
    "application/vnd.databricks.v1+cell": {
     "cellMetadata": {},
     "inputWidgets": {},
     "nuid": "50ed9fb7-3521-40fe-856c-8d5ed9b182d3",
     "showTitle": false,
     "title": ""
    }
   },
   "outputs": [],
   "source": [
    "(resolution := neighbourhoods_mdf.get_optimal_resolution(sample_fraction=1.))"
   ]
  },
  {
   "cell_type": "markdown",
   "metadata": {
    "application/vnd.databricks.v1+cell": {
     "cellMetadata": {},
     "inputWidgets": {},
     "nuid": "fccff6d5-da76-44c6-b015-749d3dcad3ca",
     "showTitle": false,
     "title": ""
    }
   },
   "source": [
    "## 3. Apply the index to the set of points in your left-hand dataframe.\n",
    "This will generate an index value that corresponds to the grid ‘cell’ that this point occupies."
   ]
  },
  {
   "cell_type": "code",
   "execution_count": 0,
   "metadata": {
    "application/vnd.databricks.v1+cell": {
     "cellMetadata": {},
     "inputWidgets": {},
     "nuid": "aad98fce-a22b-47d0-961d-62007acc23dd",
     "showTitle": false,
     "title": ""
    }
   },
   "outputs": [],
   "source": [
    "from mosaic import grid_longlatascellid\n",
    "indexed_trips = trips.withColumn(\"ix\", grid_longlatascellid(lon=\"pickup_longitude\", lat=\"pickup_latitude\", resolution=lit(resolution)))\n",
    "indexed_trips.show()"
   ]
  },
  {
   "cell_type": "markdown",
   "metadata": {
    "application/vnd.databricks.v1+cell": {
     "cellMetadata": {},
     "inputWidgets": {},
     "nuid": "e127e5be-30e4-4507-8aa9-59399290b8f7",
     "showTitle": false,
     "title": ""
    }
   },
   "source": [
    "## 4. Compute the set of indices that fully covers each polygon in the right-hand dataframe\n",
    "This is commonly referred to as a polyfill operation."
   ]
  },
  {
   "cell_type": "code",
   "execution_count": 0,
   "metadata": {
    "application/vnd.databricks.v1+cell": {
     "cellMetadata": {},
     "inputWidgets": {},
     "nuid": "06e1f722-8530-47c2-aec5-f0a6cb4f9301",
     "showTitle": false,
     "title": ""
    }
   },
   "outputs": [],
   "source": [
    "from mosaic import grid_polyfill\n",
    "\n",
    "indexed_neighbourhoods = (\n",
    "  neighbourhoods\n",
    "  .select(\"*\", grid_polyfill(\"geometry\", lit(resolution)).alias(\"ix_set\"))\n",
    "  .drop(\"geometry\")\n",
    ")\n",
    "\n",
    "indexed_neighbourhoods.show()"
   ]
  },
  {
   "cell_type": "markdown",
   "metadata": {
    "application/vnd.databricks.v1+cell": {
     "cellMetadata": {},
     "inputWidgets": {},
     "nuid": "be2c88fd-9307-4b9a-ada8-fd714142d2d0",
     "showTitle": false,
     "title": ""
    }
   },
   "source": [
    "## 5. ‘Explode’ the polygon index dataframe, such that each polygon index becomes a row in a new dataframe."
   ]
  },
  {
   "cell_type": "code",
   "execution_count": 0,
   "metadata": {
    "application/vnd.databricks.v1+cell": {
     "cellMetadata": {},
     "inputWidgets": {},
     "nuid": "132de00e-753f-49d6-ab3f-82517eef296a",
     "showTitle": false,
     "title": ""
    }
   },
   "outputs": [],
   "source": [
    "exploded_indexed_neighbourhoods = (\n",
    "  indexed_neighbourhoods\n",
    "  .withColumn(\"ix\", explode(\"ix_set\"))\n",
    "  .drop(\"ix_set\")\n",
    ")\n",
    "\n",
    "exploded_indexed_neighbourhoods.show()"
   ]
  },
  {
   "cell_type": "markdown",
   "metadata": {
    "application/vnd.databricks.v1+cell": {
     "cellMetadata": {},
     "inputWidgets": {},
     "nuid": "a369d19f-2917-4320-ab4a-e701953db7b5",
     "showTitle": false,
     "title": ""
    }
   },
   "source": [
    "## 6. Join the new left- and right-hand dataframes directly on the index."
   ]
  },
  {
   "cell_type": "code",
   "execution_count": 0,
   "metadata": {
    "application/vnd.databricks.v1+cell": {
     "cellMetadata": {},
     "inputWidgets": {},
     "nuid": "09a92bb5-4c72-4757-8176-01e14dbc3504",
     "showTitle": false,
     "title": ""
    }
   },
   "outputs": [],
   "source": [
    "joined_df = (\n",
    "  indexed_trips.alias(\"t\")\n",
    "  .join(exploded_indexed_neighbourhoods.alias(\"n\"), on=\"ix\", how=\"inner\"))\n",
    "joined_df.count()"
   ]
  },
  {
   "cell_type": "markdown",
   "metadata": {
    "application/vnd.databricks.v1+cell": {
     "cellMetadata": {},
     "inputWidgets": {},
     "nuid": "9825374a-d5d3-407f-9c0d-94c7514edacf",
     "showTitle": false,
     "title": ""
    }
   },
   "source": [
    "## Final notes\n",
    "Mosaic provides support for Uber’s H3 spatial indexing library as a core part of the API, but we plan to add support for other index systems, including S2 and British National Grid in due course."
   ]
  }
 ],
 "metadata": {
  "application/vnd.databricks.v1+notebook": {
   "dashboards": [],
   "language": "python",
   "notebookMetadata": {
    "pythonIndentUnit": 2
   },
   "notebookName": "grid-indexes",
   "notebookOrigID": 2666786534675200,
   "widgets": {}
  }
 },
 "nbformat": 4,
 "nbformat_minor": 0
}
