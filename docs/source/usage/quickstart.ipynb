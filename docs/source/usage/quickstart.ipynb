{
 "cells": [
  {
   "cell_type": "markdown",
   "metadata": {
    "application/vnd.databricks.v1+cell": {
     "cellMetadata": {},
     "inputWidgets": {},
     "nuid": "c247678b-66ab-4879-b331-bb0532826530",
     "showTitle": false,
     "title": ""
    }
   },
   "source": [
    "# Quickstart notebook\n",
    "The example code here shows how to get up and running with Mosaic using the Python API."
   ]
  },
  {
   "cell_type": "code",
   "execution_count": 0,
   "metadata": {
    "application/vnd.databricks.v1+cell": {
     "cellMetadata": {},
     "inputWidgets": {},
     "nuid": "aaf89a78-8b1f-4e27-8cc8-3fa382ff8210",
     "showTitle": false,
     "title": ""
    }
   },
   "outputs": [],
   "source": [
    "from pyspark.sql.functions import *"
   ]
  },
  {
   "cell_type": "markdown",
   "metadata": {
    "application/vnd.databricks.v1+cell": {
     "cellMetadata": {},
     "inputWidgets": {},
     "nuid": "ec0b86d5-e58c-478a-824b-e1165fb267de",
     "showTitle": false,
     "title": ""
    }
   },
   "source": [
    "## Enable Mosaic in the notebook\n",
    "To get started, you'll need to attach the python library to your cluster and execute the `enable_mosaic` function."
   ]
  },
  {
   "cell_type": "code",
   "execution_count": 0,
   "metadata": {
    "application/vnd.databricks.v1+cell": {
     "cellMetadata": {},
     "inputWidgets": {},
     "nuid": "ecb6237c-050b-47c6-98ed-6942a50472e3",
     "showTitle": false,
     "title": ""
    }
   },
   "outputs": [],
   "source": [
    "from mosaic import enable_mosaic\n",
    "enable_mosaic(spark, dbutils)"
   ]
  },
  {
   "cell_type": "markdown",
   "metadata": {
    "application/vnd.databricks.v1+cell": {
     "cellMetadata": {},
     "inputWidgets": {},
     "nuid": "d774f893-1152-41de-adde-bdad37e755f7",
     "showTitle": false,
     "title": ""
    }
   },
   "source": [
    "Mosaic has extra configuration options. Check the docs for more details."
   ]
  },
  {
   "cell_type": "code",
   "execution_count": 0,
   "metadata": {
    "application/vnd.databricks.v1+cell": {
     "cellMetadata": {},
     "inputWidgets": {},
     "nuid": "10776858-768a-450f-9281-6a00e80d04c2",
     "showTitle": false,
     "title": ""
    }
   },
   "outputs": [],
   "source": [
    "help(enable_mosaic)"
   ]
  },
  {
   "cell_type": "markdown",
   "metadata": {
    "application/vnd.databricks.v1+cell": {
     "cellMetadata": {},
     "inputWidgets": {},
     "nuid": "ac3649d8-5561-4370-b5d3-a36bf5068fd1",
     "showTitle": false,
     "title": ""
    }
   },
   "source": [
    "## Geometry constructors and the Mosaic internal geometry format"
   ]
  },
  {
   "cell_type": "markdown",
   "metadata": {
    "application/vnd.databricks.v1+cell": {
     "cellMetadata": {},
     "inputWidgets": {},
     "nuid": "c9e64d22-ebbc-4ea7-97aa-2dd6e240c9ad",
     "showTitle": false,
     "title": ""
    }
   },
   "source": [
    "Mosaic allows users to create new Point geometries from a pair of Spark DoubleType columns."
   ]
  },
  {
   "cell_type": "code",
   "execution_count": 0,
   "metadata": {
    "application/vnd.databricks.v1+cell": {
     "cellMetadata": {},
     "inputWidgets": {},
     "nuid": "aa85d1b2-8ec1-4879-87b4-cf55eb12820c",
     "showTitle": false,
     "title": ""
    }
   },
   "outputs": [],
   "source": [
    "from mosaic import st_point\n",
    "\n",
    "lons = [-80., -80., -70., -70., -80.]\n",
    "lats = [ 35.,  45.,  45.,  35.,  35.]\n",
    "\n",
    "bounds_df = (\n",
    "  spark\n",
    "  .createDataFrame({\"lon\": lon, \"lat\": lat} for lon, lat in zip(lons, lats))\n",
    "  .coalesce(1)\n",
    "  .withColumn(\"point_geom\", st_point(\"lon\", \"lat\"))\n",
    ")\n",
    "bounds_df.show()"
   ]
  },
  {
   "cell_type": "markdown",
   "metadata": {
    "application/vnd.databricks.v1+cell": {
     "cellMetadata": {},
     "inputWidgets": {},
     "nuid": "e0229f66-1fe7-4218-905f-6fe265fd2441",
     "showTitle": false,
     "title": ""
    }
   },
   "source": [
    "Mosaic Point geometries can be aggregated into LineString and Polygon geometries using the respective constructors."
   ]
  },
  {
   "cell_type": "code",
   "execution_count": 0,
   "metadata": {
    "application/vnd.databricks.v1+cell": {
     "cellMetadata": {},
     "inputWidgets": {},
     "nuid": "c143e704-333d-4c15-800d-7dcefc924f71",
     "showTitle": false,
     "title": ""
    }
   },
   "outputs": [],
   "source": [
    "from mosaic import st_makeline\n",
    "\n",
    "bounds_df = (\n",
    "  bounds_df\n",
    "  .groupBy()\n",
    "  .agg(collect_list(\"point_geom\").alias(\"bounding_coords\"))\n",
    "  .select(st_makeline(\"bounding_coords\").alias(\"bounding_ring\"))\n",
    ")\n",
    "bounds_df.show()"
   ]
  },
  {
   "cell_type": "code",
   "execution_count": 0,
   "metadata": {
    "application/vnd.databricks.v1+cell": {
     "cellMetadata": {},
     "inputWidgets": {},
     "nuid": "0282fcbd-f9b1-4708-b015-dc9e0fac9072",
     "showTitle": false,
     "title": ""
    }
   },
   "outputs": [],
   "source": [
    "from mosaic import st_makepolygon\n",
    "\n",
    "bounds_df = bounds_df.select(st_makepolygon(\"bounding_ring\").alias(\"bounds\"))\n",
    "bounds_df.show()"
   ]
  },
  {
   "cell_type": "markdown",
   "metadata": {
    "application/vnd.databricks.v1+cell": {
     "cellMetadata": {},
     "inputWidgets": {},
     "nuid": "459a46e8-e7cb-4bb0-a167-e359889d15a9",
     "showTitle": false,
     "title": ""
    }
   },
   "source": [
    "## Geometry clipping without an index"
   ]
  },
  {
   "cell_type": "markdown",
   "metadata": {
    "application/vnd.databricks.v1+cell": {
     "cellMetadata": {},
     "inputWidgets": {},
     "nuid": "02d90b72-81b4-48a9-b117-b7976bca13aa",
     "showTitle": false,
     "title": ""
    }
   },
   "source": [
    "Mosaic implements set intersection functions: contains, intersects, overlaps etc. Here you can see `st_contains` being used to clip points by a polygon geometry."
   ]
  },
  {
   "cell_type": "code",
   "execution_count": 0,
   "metadata": {
    "application/vnd.databricks.v1+cell": {
     "cellMetadata": {},
     "inputWidgets": {},
     "nuid": "e5ec8d70-8d6b-44b9-ad2a-ef593e2011bd",
     "showTitle": false,
     "title": ""
    }
   },
   "outputs": [],
   "source": [
    "tripsTable = spark.table(\"delta.`/databricks-datasets/nyctaxi/tables/nyctaxi_yellow`\")"
   ]
  },
  {
   "cell_type": "code",
   "execution_count": 0,
   "metadata": {
    "application/vnd.databricks.v1+cell": {
     "cellMetadata": {},
     "inputWidgets": {},
     "nuid": "ad0e72a9-4e2e-45fe-ba39-d2933859154d",
     "showTitle": false,
     "title": ""
    }
   },
   "outputs": [],
   "source": [
    "from mosaic import st_contains\n",
    "trips = (\n",
    "  tripsTable\n",
    "  .limit(5_000_000)\n",
    "  .repartition(sc.defaultParallelism * 20)\n",
    "  .drop(\"vendorId\", \"rateCodeId\", \"store_and_fwd_flag\", \"payment_type\")\n",
    "  .withColumn(\"pickup_geom\", st_point(\"pickup_longitude\", \"pickup_latitude\"))\n",
    "  .withColumn(\"dropoff_geom\", st_point(\"dropoff_longitude\", \"dropoff_latitude\"))\n",
    "  .crossJoin(bounds_df)\n",
    "  .where(st_contains(\"bounds\", \"pickup_geom\"))\n",
    "  .where(st_contains(\"bounds\", \"dropoff_geom\"))\n",
    "  .cache()\n",
    ")"
   ]
  },
  {
   "cell_type": "code",
   "execution_count": 0,
   "metadata": {
    "application/vnd.databricks.v1+cell": {
     "cellMetadata": {},
     "inputWidgets": {},
     "nuid": "9aa22657-47c6-4de6-8e48-733a150b00a0",
     "showTitle": false,
     "title": ""
    }
   },
   "outputs": [],
   "source": [
    "trips.show()"
   ]
  },
  {
   "cell_type": "markdown",
   "metadata": {
    "application/vnd.databricks.v1+cell": {
     "cellMetadata": {},
     "inputWidgets": {},
     "nuid": "c9353ac7-aa07-4d75-8b16-0031803ea31e",
     "showTitle": false,
     "title": ""
    }
   },
   "source": [
    "## Read from GeoJson, compute some basic geometry attributes"
   ]
  },
  {
   "cell_type": "markdown",
   "metadata": {
    "application/vnd.databricks.v1+cell": {
     "cellMetadata": {},
     "inputWidgets": {},
     "nuid": "db5daf84-fc48-45ce-81a7-5af76b7b6010",
     "showTitle": false,
     "title": ""
    }
   },
   "source": [
    "You've seen how Mosaic can create geometries from Spark native data types but it also provides functions to translate Well Known Text (WKT), Well Known Binary (WKB) and GeoJSON representations to Mosaic geometries."
   ]
  },
  {
   "cell_type": "code",
   "execution_count": 0,
   "metadata": {
    "application/vnd.databricks.v1+cell": {
     "cellMetadata": {},
     "inputWidgets": {},
     "nuid": "49505635-4e84-480e-9892-e3e816af2226",
     "showTitle": false,
     "title": ""
    }
   },
   "outputs": [],
   "source": [
    "from mosaic import st_geomfromgeojson\n",
    "\n",
    "geoJsonDF = (\n",
    "  spark.read.format(\"json\")\n",
    "  .load(\"dbfs:/FileStore/shared_uploads/stuart.lynn@databricks.com/NYC_Taxi_Zones.geojson\")\n",
    "  .withColumn(\"geometry\", st_geomfromgeojson(to_json(col(\"geometry\"))))\n",
    "  .select(\"properties.*\", \"geometry\")\n",
    "  .drop(\"shape_area\", \"shape_leng\")\n",
    ")\n",
    "\n",
    "geoJsonDF.show()"
   ]
  },
  {
   "cell_type": "markdown",
   "metadata": {
    "application/vnd.databricks.v1+cell": {
     "cellMetadata": {},
     "inputWidgets": {},
     "nuid": "880c5fb4-c0b2-456b-9167-cb6327876dbd",
     "showTitle": false,
     "title": ""
    }
   },
   "source": [
    "Mosaic provides a number of functions for extracting the properties of geometries. Here are some that are relevant to Polygon geometries:"
   ]
  },
  {
   "cell_type": "code",
   "execution_count": 0,
   "metadata": {
    "application/vnd.databricks.v1+cell": {
     "cellMetadata": {},
     "inputWidgets": {},
     "nuid": "939d35fd-d868-4e73-8338-3cb8142fffe9",
     "showTitle": false,
     "title": ""
    }
   },
   "outputs": [],
   "source": [
    "from mosaic import st_area, st_length\n",
    "(\n",
    "  geoJsonDF\n",
    "  .withColumn(\"calculatedArea\", abs(st_area(\"geometry\")))\n",
    "  .withColumn(\"calculatedLength\", st_length(\"geometry\"))\n",
    "  .select(\"geometry\", \"calculatedArea\", \"calculatedLength\")\n",
    ").show()"
   ]
  },
  {
   "cell_type": "code",
   "execution_count": 0,
   "metadata": {
    "application/vnd.databricks.v1+cell": {
     "cellMetadata": {},
     "inputWidgets": {},
     "nuid": "920599a2-6c52-40e4-8547-a99f757406a6",
     "showTitle": false,
     "title": ""
    }
   },
   "outputs": [],
   "source": [
    "geoJsonDF.count()"
   ]
  },
  {
   "cell_type": "markdown",
   "metadata": {
    "application/vnd.databricks.v1+cell": {
     "cellMetadata": {},
     "inputWidgets": {},
     "nuid": "e0d34f66-7498-4a86-9dd3-b2664ebc535c",
     "showTitle": false,
     "title": ""
    }
   },
   "source": [
    "## Example point-in-poly with indexing"
   ]
  },
  {
   "cell_type": "markdown",
   "metadata": {
    "application/vnd.databricks.v1+cell": {
     "cellMetadata": {},
     "inputWidgets": {},
     "nuid": "cb687786-0494-468d-b2e4-dbe847ea887b",
     "showTitle": false,
     "title": ""
    }
   },
   "source": [
    "Mosaic has built-in support for the popular spatial indexing library, H3. The user has access to functions for generating point indices and the sets of indices covering polygons, allowing point-in-polygon joins to be transformed into deterministic SQL joins."
   ]
  },
  {
   "cell_type": "code",
   "execution_count": 0,
   "metadata": {
    "application/vnd.databricks.v1+cell": {
     "cellMetadata": {},
     "inputWidgets": {},
     "nuid": "0ef8a536-fda8-4a9a-a2e6-58ad0c39cc8b",
     "showTitle": false,
     "title": ""
    }
   },
   "outputs": [],
   "source": [
    "from mosaic import grid_longlatascellid\n",
    "\n",
    "trips_with_geom = (\n",
    "  trips\n",
    "  .withColumn(\"pickup_h3\", grid_longlatascellid(lon=\"pickup_longitude\", lat=\"pickup_latitude\", resolution=lit(10)))\n",
    "  .withColumn(\"dropoff_h3\", grid_longlatascellid(lon=\"dropoff_longitude\", lat=\"dropoff_latitude\", resolution=lit(10)))\n",
    ")\n",
    "\n",
    "trips_with_geom.show()"
   ]
  },
  {
   "cell_type": "code",
   "execution_count": 0,
   "metadata": {
    "application/vnd.databricks.v1+cell": {
     "cellMetadata": {},
     "inputWidgets": {},
     "nuid": "21627a45-71e0-4286-907b-94de6f04ec43",
     "showTitle": false,
     "title": ""
    }
   },
   "outputs": [],
   "source": [
    "from mosaic import grid_polyfill\n",
    "\n",
    "neighbourhoods = (\n",
    "  geoJsonDF\n",
    "  .repartition(sc.defaultParallelism)\n",
    "  .select(\"*\", explode(grid_polyfill(\"geometry\", lit(10))).alias(\"h3\"))\n",
    "  .drop(\"geometry\")\n",
    ")\n",
    "\n",
    "neighbourhoods.show()"
   ]
  },
  {
   "cell_type": "code",
   "execution_count": 0,
   "metadata": {
    "application/vnd.databricks.v1+cell": {
     "cellMetadata": {},
     "inputWidgets": {},
     "nuid": "c3e68351-52d4-4a8b-8ce6-4898dedd0ecc",
     "showTitle": false,
     "title": ""
    }
   },
   "outputs": [],
   "source": [
    "joined_df = trips_with_geom.alias(\"t\").join(neighbourhoods.alias(\"n\"), on=expr(\"t.pickup_h3 = n.h3\"), how=\"inner\")\n",
    "joined_df.count()"
   ]
  },
  {
   "cell_type": "markdown",
   "metadata": {
    "application/vnd.databricks.v1+cell": {
     "cellMetadata": {},
     "inputWidgets": {},
     "nuid": "c4fb8772-94b2-4fbe-aaf9-6e261609b009",
     "showTitle": false,
     "title": ""
    }
   },
   "source": [
    "## Mosaic spatial join optimizations"
   ]
  },
  {
   "cell_type": "markdown",
   "metadata": {
    "application/vnd.databricks.v1+cell": {
     "cellMetadata": {},
     "inputWidgets": {},
     "nuid": "c7696c95-820a-434e-9535-48807e1fb27c",
     "showTitle": false,
     "title": ""
    }
   },
   "source": [
    "Mosaic provides easy access to the optimized spatial join technique described in [this](https://databricks.com/blog/2021/10/11/efficient-point-in-polygon-joins-via-pyspark-and-bng-geospatial-indexing.html) blog post."
   ]
  },
  {
   "cell_type": "code",
   "execution_count": 0,
   "metadata": {
    "application/vnd.databricks.v1+cell": {
     "cellMetadata": {},
     "inputWidgets": {},
     "nuid": "1319c9ca-149c-4208-8512-f035ffff467b",
     "showTitle": false,
     "title": ""
    }
   },
   "outputs": [],
   "source": [
    "from mosaic import grid_tessellateexplode\n",
    "\n",
    "mosaic_neighbourhoods = (\n",
    "  geoJsonDF\n",
    "  .repartition(sc.defaultParallelism)\n",
    "  .select(\"*\", grid_tessellateexplode(\"geometry\", lit(10)))\n",
    "  .drop(\"geometry\")\n",
    ")\n",
    "\n",
    "mosaic_neighbourhoods.show()"
   ]
  },
  {
   "cell_type": "markdown",
   "metadata": {
    "application/vnd.databricks.v1+cell": {
     "cellMetadata": {},
     "inputWidgets": {},
     "nuid": "ee5d5a0a-2f2f-4095-9ec8-ce3ba0af6eaa",
     "showTitle": false,
     "title": ""
    }
   },
   "source": [
    "Mosaic also includes a convenience function for displaying dataframes with geometry columns."
   ]
  },
  {
   "cell_type": "code",
   "execution_count": 0,
   "metadata": {
    "application/vnd.databricks.v1+cell": {
     "cellMetadata": {},
     "inputWidgets": {},
     "nuid": "162fc850-a289-416f-af6d-2dd73f30e93e",
     "showTitle": false,
     "title": ""
    }
   },
   "outputs": [],
   "source": [
    "from mosaic import displayMosaic\n",
    "displayMosaic(mosaic_neighbourhoods)"
   ]
  },
  {
   "cell_type": "markdown",
   "metadata": {
    "application/vnd.databricks.v1+cell": {
     "cellMetadata": {},
     "inputWidgets": {},
     "nuid": "a304589f-36a7-4bef-8cd2-932ddd3acba4",
     "showTitle": false,
     "title": ""
    }
   },
   "source": [
    "This also extends to plotting maps inside the notebook using the kepler.gl visualisation library using a notebook magic `%%mosaic_kepler`."
   ]
  },
  {
   "cell_type": "code",
   "execution_count": 0,
   "metadata": {
    "application/vnd.databricks.v1+cell": {
     "cellMetadata": {},
     "inputWidgets": {},
     "nuid": "3be96bd5-e14d-40bd-9fc7-00dea16cb096",
     "showTitle": false,
     "title": ""
    }
   },
   "outputs": [],
   "source": [
    "from mosaic import st_aswkt\n",
    "(\n",
    "  mosaic_neighbourhoods\n",
    "  .select(st_aswkt(col(\"index.wkb\")).alias(\"wkt\"), col(\"index.index_id\").alias(\"h3\"))\n",
    ").createOrReplaceTempView(\"kepler_df\")"
   ]
  },
  {
   "cell_type": "code",
   "execution_count": 0,
   "metadata": {
    "application/vnd.databricks.v1+cell": {
     "cellMetadata": {},
     "inputWidgets": {},
     "nuid": "ffe429bb-de6f-4118-8d7b-6484b6b2d678",
     "showTitle": false,
     "title": ""
    }
   },
   "outputs": [],
   "source": [
    "%%mosaic_kepler\n",
    "\"kepler_df\" \"h3\" \"h3\""
   ]
  },
  {
   "cell_type": "markdown",
   "metadata": {
    "application/vnd.databricks.v1+cell": {
     "cellMetadata": {},
     "inputWidgets": {},
     "nuid": "4323fa2c-8495-43c6-afb2-9e239e5fb6fc",
     "showTitle": false,
     "title": ""
    }
   },
   "source": [
    "![mosaic kepler map example](../images/kepler-example.png)"
   ]
  },
  {
   "cell_type": "markdown",
   "metadata": {
    "application/vnd.databricks.v1+cell": {
     "cellMetadata": {},
     "inputWidgets": {},
     "nuid": "11933dab-085c-4503-8ba1-06365caa335c",
     "showTitle": false,
     "title": ""
    }
   },
   "source": [
    "Now the two datasets can be joined first on H3 index, with any false positives removed through a contains filter on a much simpler geometry."
   ]
  },
  {
   "cell_type": "code",
   "execution_count": 0,
   "metadata": {
    "application/vnd.databricks.v1+cell": {
     "cellMetadata": {},
     "inputWidgets": {},
     "nuid": "98514998-1fe7-4a0c-b4f9-eebf38fb9d81",
     "showTitle": false,
     "title": ""
    }
   },
   "outputs": [],
   "source": [
    "mosaic_joined_df = (\n",
    "  trips_with_geom.alias(\"t\")\n",
    "  .join(mosaic_neighbourhoods.alias(\"n\"), on=expr(\"t.pickup_h3 = n.index.index_id\"), how=\"inner\")\n",
    "  .where(\n",
    "    ~col(\"index.is_core\") | \n",
    "    st_contains(\"index.wkb\", \"pickup_geom\")\n",
    "  )\n",
    ")\n",
    "\n",
    "mosaic_joined_df.show()"
   ]
  },
  {
   "cell_type": "markdown",
   "metadata": {
    "application/vnd.databricks.v1+cell": {
     "cellMetadata": {},
     "inputWidgets": {},
     "nuid": "6ad416fa-3a36-4946-98f9-b8d306d31dc5",
     "showTitle": false,
     "title": ""
    }
   },
   "source": [
    "## MosaicFrame abstraction for simple indexing and joins"
   ]
  },
  {
   "cell_type": "markdown",
   "metadata": {
    "application/vnd.databricks.v1+cell": {
     "cellMetadata": {},
     "inputWidgets": {},
     "nuid": "aba08cb2-fbbb-4de7-acdc-5eac0c12b91b",
     "showTitle": false,
     "title": ""
    }
   },
   "source": [
    "By wrapping our Spark DataFrames with `MosaicFrame`, we can simplify the join process. For example:"
   ]
  },
  {
   "cell_type": "code",
   "execution_count": 0,
   "metadata": {
    "application/vnd.databricks.v1+cell": {
     "cellMetadata": {},
     "inputWidgets": {},
     "nuid": "54194240-dc88-42dc-a7e0-8b4a97a496f8",
     "showTitle": false,
     "title": ""
    }
   },
   "outputs": [],
   "source": [
    "from mosaic import MosaicFrame"
   ]
  },
  {
   "cell_type": "code",
   "execution_count": 0,
   "metadata": {
    "application/vnd.databricks.v1+cell": {
     "cellMetadata": {},
     "inputWidgets": {},
     "nuid": "94730cc1-afc1-4227-9c91-709a18bb6eec",
     "showTitle": false,
     "title": ""
    }
   },
   "outputs": [],
   "source": [
    "trips_mdf = MosaicFrame(trips, \"pickup_geom\")\n",
    "neighbourhoods_mdf = MosaicFrame(geoJsonDF, \"geometry\")"
   ]
  },
  {
   "cell_type": "code",
   "execution_count": 0,
   "metadata": {
    "application/vnd.databricks.v1+cell": {
     "cellMetadata": {},
     "inputWidgets": {},
     "nuid": "a33782bb-3d4f-44e8-a33b-faeb11d0de46",
     "showTitle": false,
     "title": ""
    }
   },
   "outputs": [],
   "source": [
    "(\n",
    "  trips_mdf\n",
    "  .set_index_resolution(10)\n",
    "  .apply_index()\n",
    "  .join(\n",
    "    neighbourhoods_mdf\n",
    "    .set_index_resolution(10)\n",
    "    .apply_index()\n",
    "  )\n",
    ").show()"
   ]
  }
 ],
 "metadata": {
  "application/vnd.databricks.v1+notebook": {
   "dashboards": [],
   "language": "python",
   "notebookMetadata": {
    "pythonIndentUnit": 2
   },
   "notebookName": "quickstart",
   "notebookOrigID": 2666786534675592,
   "widgets": {}
  }
 },
 "nbformat": 4,
 "nbformat_minor": 0
}
